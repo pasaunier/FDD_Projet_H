{
 "cells": [
  {
   "cell_type": "markdown",
   "id": "useful-doctrine",
   "metadata": {},
   "source": [
    "# Importing data"
   ]
  },
  {
   "cell_type": "code",
   "execution_count": 8,
   "id": "approximate-lancaster",
   "metadata": {
    "scrolled": true
   },
   "outputs": [
    {
     "name": "stderr",
     "output_type": "stream",
     "text": [
      "<ipython-input-8-f14d4839f110>:25: TqdmExperimentalWarning: Using `tqdm.autonotebook.tqdm` in notebook mode. Use `tqdm.tqdm` instead to force console mode (e.g. in jupyter console)\n",
      "  from tqdm.autonotebook import tqdm\n"
     ]
    }
   ],
   "source": [
    "#regex \n",
    "import re\n",
    "\n",
    "#data manipulation:\n",
    "import pandas as pd\n",
    "import numpy as np\n",
    "\n",
    "#nlp:\n",
    "import nltk\n",
    "import gensim\n",
    "\n",
    "#language detection:\n",
    "from langdetect import detect\n",
    "\n",
    "# unidecode\n",
    "import unidecode\n",
    "\n",
    "# emoji support\n",
    "import emoji\n",
    "\n",
    "#spellchecker\n",
    "from autocorrect import Speller\n",
    "\n",
    "#tqdm for notebook progressbars\n",
    "from tqdm.notebook import tqdm\n",
    "tqdm.pandas() # pandas.progress_map & pandas.progress_apply \n",
    "\n",
    "# seeding numpy:\n",
    "np.random.seed(2021)"
   ]
  },
  {
   "cell_type": "code",
   "execution_count": 9,
   "id": "spiritual-substitute",
   "metadata": {
    "scrolled": true
   },
   "outputs": [
    {
     "data": {
      "text/html": [
       "<div>\n",
       "<style scoped>\n",
       "    .dataframe tbody tr th:only-of-type {\n",
       "        vertical-align: middle;\n",
       "    }\n",
       "\n",
       "    .dataframe tbody tr th {\n",
       "        vertical-align: top;\n",
       "    }\n",
       "\n",
       "    .dataframe thead th {\n",
       "        text-align: right;\n",
       "    }\n",
       "</style>\n",
       "<table border=\"1\" class=\"dataframe\">\n",
       "  <thead>\n",
       "    <tr style=\"text-align: right;\">\n",
       "      <th></th>\n",
       "      <th>user_name</th>\n",
       "      <th>user_location</th>\n",
       "      <th>user_description</th>\n",
       "      <th>user_created</th>\n",
       "      <th>user_followers</th>\n",
       "      <th>user_friends</th>\n",
       "      <th>user_favourites</th>\n",
       "      <th>user_verified</th>\n",
       "      <th>date</th>\n",
       "      <th>text</th>\n",
       "      <th>hashtags</th>\n",
       "      <th>source</th>\n",
       "      <th>is_retweet</th>\n",
       "    </tr>\n",
       "  </thead>\n",
       "  <tbody>\n",
       "    <tr>\n",
       "      <th>0</th>\n",
       "      <td>ᏉᎥ☻լꂅϮ</td>\n",
       "      <td>astroworld</td>\n",
       "      <td>wednesday addams as a disney princess keepin i...</td>\n",
       "      <td>2017-05-26 05:46:42</td>\n",
       "      <td>624</td>\n",
       "      <td>950</td>\n",
       "      <td>18775</td>\n",
       "      <td>False</td>\n",
       "      <td>2020-07-25 12:27:21</td>\n",
       "      <td>If I smelled the scent of hand sanitizers toda...</td>\n",
       "      <td>NaN</td>\n",
       "      <td>Twitter for iPhone</td>\n",
       "      <td>False</td>\n",
       "    </tr>\n",
       "    <tr>\n",
       "      <th>1</th>\n",
       "      <td>Tom Basile 🇺🇸</td>\n",
       "      <td>New York, NY</td>\n",
       "      <td>Husband, Father, Columnist &amp; Commentator. Auth...</td>\n",
       "      <td>2009-04-16 20:06:23</td>\n",
       "      <td>2253</td>\n",
       "      <td>1677</td>\n",
       "      <td>24</td>\n",
       "      <td>True</td>\n",
       "      <td>2020-07-25 12:27:17</td>\n",
       "      <td>Hey @Yankees @YankeesPR and @MLB - wouldn't it...</td>\n",
       "      <td>NaN</td>\n",
       "      <td>Twitter for Android</td>\n",
       "      <td>False</td>\n",
       "    </tr>\n",
       "    <tr>\n",
       "      <th>2</th>\n",
       "      <td>Time4fisticuffs</td>\n",
       "      <td>Pewee Valley, KY</td>\n",
       "      <td>#Christian #Catholic #Conservative #Reagan #Re...</td>\n",
       "      <td>2009-02-28 18:57:41</td>\n",
       "      <td>9275</td>\n",
       "      <td>9525</td>\n",
       "      <td>7254</td>\n",
       "      <td>False</td>\n",
       "      <td>2020-07-25 12:27:14</td>\n",
       "      <td>@diane3443 @wdunlap @realDonaldTrump Trump nev...</td>\n",
       "      <td>['COVID19']</td>\n",
       "      <td>Twitter for Android</td>\n",
       "      <td>False</td>\n",
       "    </tr>\n",
       "    <tr>\n",
       "      <th>3</th>\n",
       "      <td>ethel mertz</td>\n",
       "      <td>Stuck in the Middle</td>\n",
       "      <td>#Browns #Indians #ClevelandProud #[]_[] #Cavs ...</td>\n",
       "      <td>2019-03-07 01:45:06</td>\n",
       "      <td>197</td>\n",
       "      <td>987</td>\n",
       "      <td>1488</td>\n",
       "      <td>False</td>\n",
       "      <td>2020-07-25 12:27:10</td>\n",
       "      <td>@brookbanktv The one gift #COVID19 has give me...</td>\n",
       "      <td>['COVID19']</td>\n",
       "      <td>Twitter for iPhone</td>\n",
       "      <td>False</td>\n",
       "    </tr>\n",
       "    <tr>\n",
       "      <th>4</th>\n",
       "      <td>DIPR-J&amp;K</td>\n",
       "      <td>Jammu and Kashmir</td>\n",
       "      <td>🖊️Official Twitter handle of Department of Inf...</td>\n",
       "      <td>2017-02-12 06:45:15</td>\n",
       "      <td>101009</td>\n",
       "      <td>168</td>\n",
       "      <td>101</td>\n",
       "      <td>False</td>\n",
       "      <td>2020-07-25 12:27:08</td>\n",
       "      <td>25 July : Media Bulletin on Novel #CoronaVirus...</td>\n",
       "      <td>['CoronaVirusUpdates', 'COVID19']</td>\n",
       "      <td>Twitter for Android</td>\n",
       "      <td>False</td>\n",
       "    </tr>\n",
       "  </tbody>\n",
       "</table>\n",
       "</div>"
      ],
      "text/plain": [
       "         user_name         user_location  \\\n",
       "0           ᏉᎥ☻լꂅϮ            astroworld   \n",
       "1    Tom Basile 🇺🇸          New York, NY   \n",
       "2  Time4fisticuffs      Pewee Valley, KY   \n",
       "3      ethel mertz  Stuck in the Middle    \n",
       "4         DIPR-J&K     Jammu and Kashmir   \n",
       "\n",
       "                                    user_description         user_created  \\\n",
       "0  wednesday addams as a disney princess keepin i...  2017-05-26 05:46:42   \n",
       "1  Husband, Father, Columnist & Commentator. Auth...  2009-04-16 20:06:23   \n",
       "2  #Christian #Catholic #Conservative #Reagan #Re...  2009-02-28 18:57:41   \n",
       "3  #Browns #Indians #ClevelandProud #[]_[] #Cavs ...  2019-03-07 01:45:06   \n",
       "4  🖊️Official Twitter handle of Department of Inf...  2017-02-12 06:45:15   \n",
       "\n",
       "   user_followers  user_friends  user_favourites  user_verified  \\\n",
       "0             624           950            18775          False   \n",
       "1            2253          1677               24           True   \n",
       "2            9275          9525             7254          False   \n",
       "3             197           987             1488          False   \n",
       "4          101009           168              101          False   \n",
       "\n",
       "                  date                                               text  \\\n",
       "0  2020-07-25 12:27:21  If I smelled the scent of hand sanitizers toda...   \n",
       "1  2020-07-25 12:27:17  Hey @Yankees @YankeesPR and @MLB - wouldn't it...   \n",
       "2  2020-07-25 12:27:14  @diane3443 @wdunlap @realDonaldTrump Trump nev...   \n",
       "3  2020-07-25 12:27:10  @brookbanktv The one gift #COVID19 has give me...   \n",
       "4  2020-07-25 12:27:08  25 July : Media Bulletin on Novel #CoronaVirus...   \n",
       "\n",
       "                            hashtags               source  is_retweet  \n",
       "0                                NaN   Twitter for iPhone       False  \n",
       "1                                NaN  Twitter for Android       False  \n",
       "2                        ['COVID19']  Twitter for Android       False  \n",
       "3                        ['COVID19']   Twitter for iPhone       False  \n",
       "4  ['CoronaVirusUpdates', 'COVID19']  Twitter for Android       False  "
      ]
     },
     "execution_count": 9,
     "metadata": {},
     "output_type": "execute_result"
    }
   ],
   "source": [
    "\"\"\"\n",
    "Topic modeling \n",
    "Tweets of the COVID_19\n",
    "These tweets are collected using Twitter API and a Python script.\n",
    " A query for this high-frequency hashtag (#covid19) is run on a daily basis for a certain time period, to collect a larger number of tweets samples.\n",
    "The tweets have #covid19 hashtag. Collection started on 25/7/2020, with an initial 17k batch.\n",
    "\"\"\"\n",
    "#Importing data\n",
    "df = pd.read_csv(r\"./data/covid19_tweets.csv\", error_bad_lines=False)\n",
    "df.head()"
   ]
  },
  {
   "cell_type": "markdown",
   "id": "final-monitoring",
   "metadata": {},
   "source": [
    "# Checking for undesirable rows :"
   ]
  },
  {
   "cell_type": "code",
   "execution_count": 10,
   "id": "minimal-bottle",
   "metadata": {},
   "outputs": [
    {
     "name": "stdout",
     "output_type": "stream",
     "text": [
      "Number of rows in the df : 179108\n",
      "Number of retweets : 0\n",
      "List of all possible values in 'is_retweet' : [False]\n"
     ]
    }
   ],
   "source": [
    "# csv exploration showed that we have no retweets :\n",
    "print(\"Number of rows in the df :\", df.shape[0])\n",
    "print(\"Number of retweets :\", df[df[\"is_retweet\"] == True].shape[0])\n",
    "print(\"List of all possible values in 'is_retweet' :\",df.is_retweet.unique())\n",
    "\n",
    "# we can safely drop the is_retweet column :\n",
    "df.drop('is_retweet',axis=1, inplace=True)"
   ]
  },
  {
   "cell_type": "code",
   "execution_count": 11,
   "id": "aboriginal-manchester",
   "metadata": {},
   "outputs": [
    {
     "name": "stdout",
     "output_type": "stream",
     "text": [
      "Total number of rows in the df : 179108\n",
      "Nbr of identical tweets : 425\n",
      "Remaining rows after dropping the duplicates : 178683\n"
     ]
    }
   ],
   "source": [
    "# since we are not supposed to have retweets, identical tweets are probably spam/bots !\n",
    "# counting identical tweets :\n",
    "print(\"Total number of rows in the df :\", df.shape[0])\n",
    "print(\"Nbr of identical tweets :\", df.shape[0] - len(df.value_counts('text')))\n",
    "\n",
    "# dropping identical tweets:\n",
    "df.drop_duplicates('text', inplace=True)\n",
    "print(\"Remaining rows after dropping the duplicates :\", df.shape[0])"
   ]
  },
  {
   "cell_type": "code",
   "execution_count": 12,
   "id": "expired-tanzania",
   "metadata": {},
   "outputs": [
    {
     "name": "stdout",
     "output_type": "stream",
     "text": [
      "Number of rows with no tweet body : 0\n"
     ]
    }
   ],
   "source": [
    "# checking if we have rows with nothing in the tweet body:\n",
    "print(\"Number of rows with no tweet body :\", len(df[df.text.isna()])) #ok"
   ]
  },
  {
   "cell_type": "markdown",
   "id": "forced-premium",
   "metadata": {},
   "source": [
    "# Processing the tweets :"
   ]
  },
  {
   "cell_type": "code",
   "execution_count": 22,
   "id": "figured-survivor",
   "metadata": {},
   "outputs": [],
   "source": [
    "# regex patterns:\n",
    "url_pattern = re.compile(r'https?://\\S+|www\\.\\S+')\n",
    "number_pattern = re.compile(r'\\d+')\n",
    "specialchar_pattern = re.compile(r'[^\\w\\s]')\n",
    "multiplespaces_pattern = re.compile(r'\\s\\s+')\n",
    "\n",
    "def preprocessor(text):\n",
    "    #replace emojis with text :\n",
    "    text = emoji.demojize(text, delimiters=(\" \", \" \"))\n",
    "    \n",
    "    #remove all unicode funk:\n",
    "    text = unidecode.unidecode(text)\n",
    "    \n",
    "    #remove caps:\n",
    "    text = text.lower()\n",
    "    \n",
    "    #remove urls :\n",
    "    text = re.sub(pattern=url_pattern, repl='', string=text)\n",
    "    \n",
    "    #remove numbers :\n",
    "    text = re.sub(pattern=number_pattern, repl='', string=text)\n",
    "    \n",
    "    #remove special chars :\n",
    "    text = re.sub(pattern=specialchar_pattern, repl='', string=text)\n",
    "    \n",
    "    #remove the '\\n' probably created by unidecode and the remaining \"_\"\n",
    "    text = text.replace(\"\\n\", \" \").replace(\"_\", \" \")\n",
    "    \n",
    "    #merge multiple spaces into 1:\n",
    "    text = re.sub(pattern=multiplespaces_pattern, repl=' ', string=text)\n",
    "    \n",
    "    return(text)"
   ]
  },
  {
   "cell_type": "code",
   "execution_count": 23,
   "id": "inner-injection",
   "metadata": {},
   "outputs": [
    {
     "data": {
      "application/vnd.jupyter.widget-view+json": {
       "model_id": "7dc4907e488e44b3b82551dff313e6ce",
       "version_major": 2,
       "version_minor": 0
      },
      "text/plain": [
       "  0%|          | 0/178683 [00:00<?, ?it/s]"
      ]
     },
     "metadata": {},
     "output_type": "display_data"
    }
   ],
   "source": [
    "df[\"c_text\"] = df.text.progress_map(preprocessor)"
   ]
  },
  {
   "cell_type": "code",
   "execution_count": 24,
   "id": "intense-setup",
   "metadata": {},
   "outputs": [
    {
     "data": {
      "text/html": [
       "<div>\n",
       "<style scoped>\n",
       "    .dataframe tbody tr th:only-of-type {\n",
       "        vertical-align: middle;\n",
       "    }\n",
       "\n",
       "    .dataframe tbody tr th {\n",
       "        vertical-align: top;\n",
       "    }\n",
       "\n",
       "    .dataframe thead th {\n",
       "        text-align: right;\n",
       "    }\n",
       "</style>\n",
       "<table border=\"1\" class=\"dataframe\">\n",
       "  <thead>\n",
       "    <tr style=\"text-align: right;\">\n",
       "      <th></th>\n",
       "      <th>user_name</th>\n",
       "      <th>user_location</th>\n",
       "      <th>user_description</th>\n",
       "      <th>user_created</th>\n",
       "      <th>user_followers</th>\n",
       "      <th>user_friends</th>\n",
       "      <th>user_favourites</th>\n",
       "      <th>user_verified</th>\n",
       "      <th>date</th>\n",
       "      <th>text</th>\n",
       "      <th>hashtags</th>\n",
       "      <th>source</th>\n",
       "      <th>c_text</th>\n",
       "      <th>lang</th>\n",
       "    </tr>\n",
       "  </thead>\n",
       "  <tbody>\n",
       "    <tr>\n",
       "      <th>0</th>\n",
       "      <td>ᏉᎥ☻լꂅϮ</td>\n",
       "      <td>astroworld</td>\n",
       "      <td>wednesday addams as a disney princess keepin i...</td>\n",
       "      <td>2017-05-26 05:46:42</td>\n",
       "      <td>624</td>\n",
       "      <td>950</td>\n",
       "      <td>18775</td>\n",
       "      <td>False</td>\n",
       "      <td>2020-07-25 12:27:21</td>\n",
       "      <td>If I smelled the scent of hand sanitizers toda...</td>\n",
       "      <td>NaN</td>\n",
       "      <td>Twitter for iPhone</td>\n",
       "      <td>if i smelled the scent of hand sanitizers toda...</td>\n",
       "      <td>en</td>\n",
       "    </tr>\n",
       "    <tr>\n",
       "      <th>1</th>\n",
       "      <td>Tom Basile 🇺🇸</td>\n",
       "      <td>New York, NY</td>\n",
       "      <td>Husband, Father, Columnist &amp; Commentator. Auth...</td>\n",
       "      <td>2009-04-16 20:06:23</td>\n",
       "      <td>2253</td>\n",
       "      <td>1677</td>\n",
       "      <td>24</td>\n",
       "      <td>True</td>\n",
       "      <td>2020-07-25 12:27:17</td>\n",
       "      <td>Hey @Yankees @YankeesPR and @MLB - wouldn't it...</td>\n",
       "      <td>NaN</td>\n",
       "      <td>Twitter for Android</td>\n",
       "      <td>hey yankees yankeespr and mlb wouldnt it have ...</td>\n",
       "      <td>en</td>\n",
       "    </tr>\n",
       "    <tr>\n",
       "      <th>2</th>\n",
       "      <td>Time4fisticuffs</td>\n",
       "      <td>Pewee Valley, KY</td>\n",
       "      <td>#Christian #Catholic #Conservative #Reagan #Re...</td>\n",
       "      <td>2009-02-28 18:57:41</td>\n",
       "      <td>9275</td>\n",
       "      <td>9525</td>\n",
       "      <td>7254</td>\n",
       "      <td>False</td>\n",
       "      <td>2020-07-25 12:27:14</td>\n",
       "      <td>@diane3443 @wdunlap @realDonaldTrump Trump nev...</td>\n",
       "      <td>['COVID19']</td>\n",
       "      <td>Twitter for Android</td>\n",
       "      <td>diane wdunlap realdonaldtrump trump never once...</td>\n",
       "      <td>en</td>\n",
       "    </tr>\n",
       "    <tr>\n",
       "      <th>3</th>\n",
       "      <td>ethel mertz</td>\n",
       "      <td>Stuck in the Middle</td>\n",
       "      <td>#Browns #Indians #ClevelandProud #[]_[] #Cavs ...</td>\n",
       "      <td>2019-03-07 01:45:06</td>\n",
       "      <td>197</td>\n",
       "      <td>987</td>\n",
       "      <td>1488</td>\n",
       "      <td>False</td>\n",
       "      <td>2020-07-25 12:27:10</td>\n",
       "      <td>@brookbanktv The one gift #COVID19 has give me...</td>\n",
       "      <td>['COVID19']</td>\n",
       "      <td>Twitter for iPhone</td>\n",
       "      <td>brookbanktv the one gift covid has give me is ...</td>\n",
       "      <td>en</td>\n",
       "    </tr>\n",
       "    <tr>\n",
       "      <th>4</th>\n",
       "      <td>DIPR-J&amp;K</td>\n",
       "      <td>Jammu and Kashmir</td>\n",
       "      <td>🖊️Official Twitter handle of Department of Inf...</td>\n",
       "      <td>2017-02-12 06:45:15</td>\n",
       "      <td>101009</td>\n",
       "      <td>168</td>\n",
       "      <td>101</td>\n",
       "      <td>False</td>\n",
       "      <td>2020-07-25 12:27:08</td>\n",
       "      <td>25 July : Media Bulletin on Novel #CoronaVirus...</td>\n",
       "      <td>['CoronaVirusUpdates', 'COVID19']</td>\n",
       "      <td>Twitter for Android</td>\n",
       "      <td>july media bulletin on novel coronavirusupdat...</td>\n",
       "      <td>en</td>\n",
       "    </tr>\n",
       "  </tbody>\n",
       "</table>\n",
       "</div>"
      ],
      "text/plain": [
       "         user_name         user_location  \\\n",
       "0           ᏉᎥ☻լꂅϮ            astroworld   \n",
       "1    Tom Basile 🇺🇸          New York, NY   \n",
       "2  Time4fisticuffs      Pewee Valley, KY   \n",
       "3      ethel mertz  Stuck in the Middle    \n",
       "4         DIPR-J&K     Jammu and Kashmir   \n",
       "\n",
       "                                    user_description         user_created  \\\n",
       "0  wednesday addams as a disney princess keepin i...  2017-05-26 05:46:42   \n",
       "1  Husband, Father, Columnist & Commentator. Auth...  2009-04-16 20:06:23   \n",
       "2  #Christian #Catholic #Conservative #Reagan #Re...  2009-02-28 18:57:41   \n",
       "3  #Browns #Indians #ClevelandProud #[]_[] #Cavs ...  2019-03-07 01:45:06   \n",
       "4  🖊️Official Twitter handle of Department of Inf...  2017-02-12 06:45:15   \n",
       "\n",
       "   user_followers  user_friends  user_favourites  user_verified  \\\n",
       "0             624           950            18775          False   \n",
       "1            2253          1677               24           True   \n",
       "2            9275          9525             7254          False   \n",
       "3             197           987             1488          False   \n",
       "4          101009           168              101          False   \n",
       "\n",
       "                  date                                               text  \\\n",
       "0  2020-07-25 12:27:21  If I smelled the scent of hand sanitizers toda...   \n",
       "1  2020-07-25 12:27:17  Hey @Yankees @YankeesPR and @MLB - wouldn't it...   \n",
       "2  2020-07-25 12:27:14  @diane3443 @wdunlap @realDonaldTrump Trump nev...   \n",
       "3  2020-07-25 12:27:10  @brookbanktv The one gift #COVID19 has give me...   \n",
       "4  2020-07-25 12:27:08  25 July : Media Bulletin on Novel #CoronaVirus...   \n",
       "\n",
       "                            hashtags               source  \\\n",
       "0                                NaN   Twitter for iPhone   \n",
       "1                                NaN  Twitter for Android   \n",
       "2                        ['COVID19']  Twitter for Android   \n",
       "3                        ['COVID19']   Twitter for iPhone   \n",
       "4  ['CoronaVirusUpdates', 'COVID19']  Twitter for Android   \n",
       "\n",
       "                                              c_text lang  \n",
       "0  if i smelled the scent of hand sanitizers toda...   en  \n",
       "1  hey yankees yankeespr and mlb wouldnt it have ...   en  \n",
       "2  diane wdunlap realdonaldtrump trump never once...   en  \n",
       "3  brookbanktv the one gift covid has give me is ...   en  \n",
       "4   july media bulletin on novel coronavirusupdat...   en  "
      ]
     },
     "execution_count": 24,
     "metadata": {},
     "output_type": "execute_result"
    }
   ],
   "source": [
    "df.head(5)"
   ]
  },
  {
   "cell_type": "markdown",
   "id": "dynamic-escape",
   "metadata": {},
   "source": [
    "# Checking the tweets after processing :"
   ]
  },
  {
   "cell_type": "code",
   "execution_count": 25,
   "id": "thousand-timothy",
   "metadata": {},
   "outputs": [
    {
     "name": "stdout",
     "output_type": "stream",
     "text": [
      "Number of empty tweets after preprocess : 0\n",
      "Minimum tweet len() : 10\n",
      "Mean tweet len() : 100.6656369100586\n"
     ]
    }
   ],
   "source": [
    "# It's likely that the preprocessor fnc completely deleted some tweets.\n",
    "# Count the lines and remove them.\n",
    "# also remove all-whitespace tweets & single letter tweets :\n",
    "print(\"Number of empty tweets after preprocess :\", df.shape[0] -df[df['c_text'].apply(\n",
    "    lambda x: len(str(x).replace(\" \",\"\")) > 1)].shape[0])\n",
    "# this is surprising!\n",
    "\n",
    "# just in case, checking min and avg tweet len():\n",
    "print(\"Minimum tweet len() :\", df.c_text.str.len().min())\n",
    "print(\"Mean tweet len() :\", df.c_text.str.len().mean())\n",
    "# I was wrong, no need to remove anything !"
   ]
  },
  {
   "cell_type": "markdown",
   "id": "sealed-tunisia",
   "metadata": {},
   "source": [
    "# Tweet language detection:"
   ]
  },
  {
   "cell_type": "code",
   "execution_count": 26,
   "id": "gorgeous-haiti",
   "metadata": {},
   "outputs": [
    {
     "data": {
      "application/vnd.jupyter.widget-view+json": {
       "model_id": "be8af33022d14f3f81e2e7c01f4c17b3",
       "version_major": 2,
       "version_minor": 0
      },
      "text/plain": [
       "  0%|          | 0/178683 [00:00<?, ?it/s]"
      ]
     },
     "metadata": {},
     "output_type": "display_data"
    }
   ],
   "source": [
    "#use langdetect to detect the lang of every tweet in the df:\n",
    "# this is pretty slow (~10 min @~320it/s)\n",
    "df[\"lang\"] = df.c_text.progress_map(detect)"
   ]
  },
  {
   "cell_type": "code",
   "execution_count": 28,
   "id": "directed-prefix",
   "metadata": {
    "scrolled": true
   },
   "outputs": [
    {
     "name": "stdout",
     "output_type": "stream",
     "text": [
      "Nbr of non-english tweets : 2461\n",
      "\n",
      "10 most detected languages :\n",
      " en    176222\n",
      "it       526\n",
      "es       324\n",
      "id       244\n",
      "ca       209\n",
      "ro       175\n",
      "fr       175\n",
      "et       124\n",
      "nl       115\n",
      "da       100\n",
      "Name: lang, dtype: int64"
     ]
    }
   ],
   "source": [
    "# Number of tweets that are probably not in english:\n",
    "print(\"Nbr of non-english tweets :\", df[df[\"lang\"]!=\"en\"].shape[0])\n",
    "\n",
    "# 10 most detected tweet languages:\n",
    "print(\"\\n10 most detected languages :\\n\",df.lang.value_counts()[:10], end=\"\")"
   ]
  },
  {
   "cell_type": "code",
   "execution_count": 29,
   "id": "crazy-illness",
   "metadata": {},
   "outputs": [],
   "source": [
    "# dump the non-english tweets in a file for manual exploration :\n",
    "with open(\"./noneng.csv\", \"w\", encoding=\"utf8\") as fp:\n",
    "    [fp.write(f\"{elem}\\n\\n\") for elem in df[df[\"lang\"]!=\"en\"].c_text]"
   ]
  },
  {
   "cell_type": "code",
   "execution_count": 30,
   "id": "associate-tourism",
   "metadata": {
    "scrolled": true
   },
   "outputs": [
    {
     "name": "stdout",
     "output_type": "stream",
     "text": [
      "Remaining tweets : en    176222\n",
      "Name: lang, dtype: int64\n"
     ]
    }
   ],
   "source": [
    "#after manually reviewing the tweets tagged as non-english, \n",
    "#I'm ok with removing them from the dataframe:\n",
    "df.drop(df[df[\"lang\"] != \"en\"].index, inplace = True)\n",
    "#most of the time they contain gibberish\n",
    "#it's only ~2.5K out of 178K\n",
    "print(\"Remaining tweets :\",df.lang.value_counts())"
   ]
  },
  {
   "cell_type": "markdown",
   "id": "usual-daughter",
   "metadata": {},
   "source": [
    "# Using spaCy to tokenize & tag the tweets :"
   ]
  },
  {
   "cell_type": "markdown",
   "id": "prerequisite-opera",
   "metadata": {},
   "source": [
    "spaCy is an open source python lib for NLP.  \n",
    "It has tons of features. It's 100% overkill to use it for this assignement.  \n",
    "<br/>\n",
    "I'm going to use it to :\n",
    "- Tokenize the preprocessed tweets\n",
    "- Assign part-of-speech tags to the tokens\n",
    "- Detect and label named entities in the tokens\n",
    "- Lemmatize the tokens using their part-of-speech tags  \n",
    "\n",
    "<br/>\n",
    "Lemminflect is a dedicated lemmatizer compatible with spacy that is supposed to be even more accurate"
   ]
  },
  {
   "cell_type": "code",
   "execution_count": 71,
   "id": "furnished-cornell",
   "metadata": {},
   "outputs": [
    {
     "data": {
      "application/vnd.jupyter.widget-view+json": {
       "model_id": "7b7d51962cf444b8979d2bb934d38849",
       "version_major": 2,
       "version_minor": 0
      },
      "text/plain": [
       "  0%|          | 0/176222 [00:00<?, ?it/s]"
      ]
     },
     "metadata": {},
     "output_type": "display_data"
    }
   ],
   "source": [
    "# tokenize, remove stopwords and lemmatize everything\n",
    "# using a dedicated spacy pipeline :\n",
    "import spacy\n",
    "import lemminflect\n",
    "\n",
    "# load the desired pretrained spacy model:\n",
    "# https://spacy.io/models/en\n",
    "nlp = spacy.load('en_core_web_sm') #this is the faster & less-accurate model\n",
    "\n",
    "df[\"doc\"]= df.c_text.progress_map(nlp)"
   ]
  },
  {
   "cell_type": "code",
   "execution_count": null,
   "id": "traditional-belarus",
   "metadata": {},
   "outputs": [
    {
     "data": {
      "application/vnd.jupyter.widget-view+json": {
       "model_id": "48083030c24a4ba2867f2e9451d57f68",
       "version_major": 2,
       "version_minor": 0
      },
      "text/plain": [
       "  0%|          | 0/176222 [00:00<?, ?it/s]"
      ]
     },
     "metadata": {},
     "output_type": "display_data"
    }
   ],
   "source": [
    "# this is the same thing as before with a bigger, state of the art model\n",
    "import spacy\n",
    "import lemminflect\n",
    "\n",
    "nlp = spacy.load('en_core_web_trf') # load the big boy:\n",
    "\n",
    "#takes ~20 hours since my gpu is not detected:\n",
    "df[\"doc\"]= df.c_text.progress_map(nlp) "
   ]
  },
  {
   "cell_type": "markdown",
   "id": "greek-disposal",
   "metadata": {},
   "source": [
    "After execution, spaCy models create \"docs\". Docs are token containers.   \n",
    "Every token has attributes :  \n",
    "https://spacy.io/api/token#attributes  \n",
    "<br/>\n",
    "Some attributes can be used to select wich words we are going to feed the nlp model with:\n",
    "- is_ascii and is_alpha : to select only text tokens (this is a bit redundant with the preprocessing)\n",
    "- pos_ : Coarse-grained part-of-speech tag from https://universaldependencies.org/docs/u/pos/.\n",
    "- tag_ : Fine-grained part-of-speech.\n",
    "- lang_ : Language of the parent document’s vocabulary.\n",
    "- is_stop: Boolean if the token is part of a stoplist\n",
    "- ._.lemma(): token after lemmatization with lemminflect\n"
   ]
  },
  {
   "cell_type": "code",
   "execution_count": 196,
   "id": "bored-indication",
   "metadata": {
    "collapsed": true
   },
   "outputs": [
    {
     "name": "stdout",
     "output_type": "stream",
     "text": [
      "breakingbad chief minister of madhya pradesh chouhanshivraj tests positive for covid he tweeted to inform abo  \n",
      "\n",
      "breakingbad : tok.pos_='PROPN' | tok.is_stop=False | tok.is_alpha=True | breakingbad\n",
      "chief : tok.pos_='NOUN' | tok.is_stop=False | tok.is_alpha=True | chief\n",
      "minister : tok.pos_='NOUN' | tok.is_stop=False | tok.is_alpha=True | minister\n",
      "of : tok.pos_='ADP' | tok.is_stop=True | tok.is_alpha=True | of\n",
      "madhya : tok.pos_='PROPN' | tok.is_stop=False | tok.is_alpha=True | madhya\n",
      "pradesh : tok.pos_='PROPN' | tok.is_stop=False | tok.is_alpha=True | pradesh\n",
      "chouhanshivraj : tok.pos_='PROPN' | tok.is_stop=False | tok.is_alpha=True | chouhanshivraj\n",
      "tests : tok.pos_='VERB' | tok.is_stop=False | tok.is_alpha=True | test\n",
      "positive : tok.pos_='ADJ' | tok.is_stop=False | tok.is_alpha=True | positive\n",
      "for : tok.pos_='ADP' | tok.is_stop=True | tok.is_alpha=True | for\n",
      "covid : tok.pos_='NOUN' | tok.is_stop=False | tok.is_alpha=True | covid\n",
      "he : tok.pos_='PRON' | tok.is_stop=True | tok.is_alpha=True | he\n",
      "tweeted : tok.pos_='VERB' | tok.is_stop=False | tok.is_alpha=True | tweet\n",
      "to : tok.pos_='PART' | tok.is_stop=True | tok.is_alpha=True | to\n",
      "inform : tok.pos_='VERB' | tok.is_stop=False | tok.is_alpha=True | inform\n",
      "abo : tok.pos_='X' | tok.is_stop=False | tok.is_alpha=True | abo\n"
     ]
    },
    {
     "data": {
      "text/plain": [
       "[None,\n",
       " None,\n",
       " None,\n",
       " None,\n",
       " None,\n",
       " None,\n",
       " None,\n",
       " None,\n",
       " None,\n",
       " None,\n",
       " None,\n",
       " None,\n",
       " None,\n",
       " None,\n",
       " None,\n",
       " None]"
      ]
     },
     "execution_count": 196,
     "metadata": {},
     "output_type": "execute_result"
    }
   ],
   "source": [
    "# Printing exemples of the results with spaCy\n",
    "print(df.iloc[6555].doc, '\\n')\n",
    "[print(f\"{tok} : {tok.pos_=} | {tok.is_stop=} | {tok.is_alpha=} | {tok._.lemma()}\") \n",
    " for tok in df.iloc[6555].doc]"
   ]
  },
  {
   "cell_type": "code",
   "execution_count": 164,
   "id": "stone-aviation",
   "metadata": {},
   "outputs": [
    {
     "data": {
      "application/vnd.jupyter.widget-view+json": {
       "model_id": "8dcff5a9d03d4d569c3364a9c135967c",
       "version_major": 2,
       "version_minor": 0
      },
      "text/plain": [
       "  0%|          | 0/176222 [00:00<?, ?it/s]"
      ]
     },
     "metadata": {},
     "output_type": "display_data"
    }
   ],
   "source": [
    "# create a function to filter words with their atrributes:\n",
    "def selectwords(doc):\n",
    "    word_list = []\n",
    "    for tok in doc:\n",
    "        if (tok.is_alpha):\n",
    "            if not (tok.is_stop):\n",
    "                if (len(tok) > 2):\n",
    "                    if (tok.pos_ in [\"NOUN\", \"VERB\", \"ADJ\", \"PROPN\"]):\n",
    "                        word_list.append(tok._.lemma())\n",
    "    \n",
    "    if (len(word_list) > 0):\n",
    "        return(word_list)\n",
    "\n",
    "processed_docs = df.doc.progress_map(selectwords)"
   ]
  },
  {
   "cell_type": "code",
   "execution_count": 198,
   "id": "speaking-timer",
   "metadata": {},
   "outputs": [
    {
     "data": {
      "application/vnd.jupyter.widget-view+json": {
       "model_id": "ffe0f1c351f14b9b87e8803ab35bb9f5",
       "version_major": 2,
       "version_minor": 0
      },
      "text/plain": [
       "  0%|          | 0/176222 [00:00<?, ?it/s]"
      ]
     },
     "metadata": {},
     "output_type": "display_data"
    }
   ],
   "source": [
    "# same as before, but keep only proper nouns:\n",
    "def selectpnouns(doc):\n",
    "    word_list = []\n",
    "    for tok in doc:\n",
    "        if (tok.is_alpha):\n",
    "            if not (tok.is_stop):\n",
    "                if (len(tok) > 2):\n",
    "                    if (tok.pos_ == \"PROPN\"):\n",
    "                        word_list.append(tok._.lemma())\n",
    "    \n",
    "    if (len(word_list) > 0):\n",
    "        return(word_list)\n",
    "\n",
    "propn_docs = df.doc.progress_map(selectpnouns)"
   ]
  },
  {
   "cell_type": "code",
   "execution_count": null,
   "id": "instructional-craps",
   "metadata": {},
   "outputs": [
    {
     "data": {
      "application/vnd.jupyter.widget-view+json": {
       "model_id": "ddc837e70ba544b1881d6bfd4c8ef981",
       "version_major": 2,
       "version_minor": 0
      },
      "text/plain": [
       "  0%|          | 0/176222 [00:00<?, ?it/s]"
      ]
     },
     "metadata": {},
     "output_type": "display_data"
    }
   ],
   "source": [
    "# same as before, but keep \"NOUN\", \"VERB\", \"ADJ\"\n",
    "def selectnva(doc):\n",
    "    word_list = []\n",
    "    for tok in doc:\n",
    "        if (tok.is_alpha):\n",
    "            if not (tok.is_stop):\n",
    "                if (len(tok) > 2):\n",
    "                    if (tok.pos_ in [\"NOUN\", \"VERB\", \"ADJ\"]):\n",
    "                        word_list.append(tok._.lemma())\n",
    "    \n",
    "    if (len(word_list) > 0):\n",
    "        return(word_list)\n",
    "\n",
    "nva_docs = df.doc.progress_map(selectnva)"
   ]
  },
  {
   "cell_type": "code",
   "execution_count": null,
   "id": "athletic-intellectual",
   "metadata": {},
   "outputs": [],
   "source": [
    "# pickling the results:\n",
    "import pickle as pk\n",
    "with open(\"./dic_trf_propn\", \"wb\") as fp:\n",
    "    pk.dump(propn_docs, fp)\n",
    "    \n",
    "with open(\"./dic_trf_nva\", \"wb\") as fp:\n",
    "    pk.dump(nva_docs, fp)"
   ]
  },
  {
   "cell_type": "code",
   "execution_count": 185,
   "id": "limiting-slovenia",
   "metadata": {},
   "outputs": [
    {
     "name": "stdout",
     "output_type": "stream",
     "text": [
      "176222 176142\n"
     ]
    }
   ],
   "source": [
    "# the map function used to filter words creates a list containing 'NoneType' items and lists.\n",
    "# filtering processed_docs by type:\n",
    "selected_docs = [elem for elem in processed_docs if (type(elem) is list)]\n",
    "print(len(processed_docs), len(selected_docs))"
   ]
  },
  {
   "cell_type": "code",
   "execution_count": 186,
   "id": "caring-subdivision",
   "metadata": {},
   "outputs": [],
   "source": [
    "# pickling the results:\n",
    "import pickle as pk\n",
    "with open(\"./dic_trf_unfiltered\", \"wb\") as fp:\n",
    "    pk.dump(selected_docs, fp)"
   ]
  },
  {
   "cell_type": "markdown",
   "id": "southwest-search",
   "metadata": {},
   "source": [
    "# Creating a gensim dictionary, BOW and TFIDF corpus:"
   ]
  },
  {
   "cell_type": "code",
   "execution_count": 187,
   "id": "smooth-chain",
   "metadata": {},
   "outputs": [],
   "source": [
    "# creating a gensim dict:\n",
    "dictionary = gensim.corpora.Dictionary(selected_docs)"
   ]
  },
  {
   "cell_type": "code",
   "execution_count": 188,
   "id": "blocked-colors",
   "metadata": {},
   "outputs": [],
   "source": [
    "# Filtering the gensim dict\n",
    "# less than X documents (absolute number)\n",
    "# more than Y documents (fraction of total corpus size, not absolute number)\n",
    "# after the above two steps, keep only the first Z most frequent tokens\n",
    "X=30\n",
    "Y=0.7\n",
    "Z=100000\n",
    "dictionary.filter_extremes(no_below=X, no_above=Y, keep_n=Z)"
   ]
  },
  {
   "cell_type": "code",
   "execution_count": 189,
   "id": "racial-induction",
   "metadata": {},
   "outputs": [],
   "source": [
    "# creating a bag of words(BOW) and a TFIDF corpus:\n",
    "bow_corpus = [dictionary.doc2bow(doc) for doc in selected_docs]\n",
    "tfidf = gensim.models.TfidfModel(bow_corpus)\n",
    "corpus_tfidf = tfidf[bow_corpus]"
   ]
  },
  {
   "cell_type": "markdown",
   "id": "important-bearing",
   "metadata": {},
   "source": [
    "# LDA (Latent Dirichlet Allocation) model training:"
   ]
  },
  {
   "cell_type": "code",
   "execution_count": null,
   "id": "impaired-recording",
   "metadata": {},
   "outputs": [],
   "source": [
    "# Training a LDA model with the TFIDF corpus:\n",
    "lda_model_tfidf = gensim.models.LdaMulticore(corpus_tfidf,\n",
    "                                             num_topics=6,\n",
    "                                             id2word=dictionary,\n",
    "                                             passes=10,\n",
    "                                             workers=3)"
   ]
  },
  {
   "cell_type": "code",
   "execution_count": null,
   "id": "olympic-musical",
   "metadata": {},
   "outputs": [],
   "source": [
    "coherence_model_lda = CoherenceModel(model=lda_model_tfidf, texts=selected_docs, dictionary=id2word, coherence='c_v')\n",
    "coherence_model_lda.get_coherence()"
   ]
  },
  {
   "cell_type": "markdown",
   "id": "pursuant-identification",
   "metadata": {},
   "source": [
    "# LDA hyperparameter tuning:"
   ]
  },
  {
   "cell_type": "code",
   "execution_count": null,
   "id": "planned-north",
   "metadata": {},
   "outputs": [],
   "source": [
    "# function to iterate over the model hyperparameters, adapted from towardsdatascience.com :\n",
    "def compute_coherence_values(tokenized_docs, corpus, dictionary, k, a, e):\n",
    "    \n",
    "    lda_model = gensim.models.LdaMulticore(corpus=corpus,\n",
    "                                           id2word=dictionary,\n",
    "                                           num_topics=k, \n",
    "                                           passes=10,\n",
    "                                           alpha=a,\n",
    "                                           eta=e)\n",
    "    \n",
    "    coherence_model_lda = CoherenceModel(model=lda_model, texts=tokenized_docs, dictionary=id2word, coherence='c_v')\n",
    "    \n",
    "    return coherence_model_lda.get_coherence()"
   ]
  },
  {
   "cell_type": "code",
   "execution_count": 193,
   "id": "lesbian-anime",
   "metadata": {},
   "outputs": [
    {
     "data": {
      "image/png": "[encoded data removed]",
      "text/plain": [
       "<Figure size 720x720 with 4 Axes>"
      ]
     },
     "metadata": {
      "needs_background": "light"
     },
     "output_type": "display_data"
    }
   ],
   "source": [
    "# Wordcloud of Top N words in each topic\n",
    "# 1. Wordcloud of Top N words in each topic\n",
    "from matplotlib import pyplot as plt\n",
    "from wordcloud import WordCloud, STOPWORDS\n",
    "import matplotlib.colors as mcolors\n",
    "\n",
    "# cols = [color for name, color in mcolors.TABLEAU_COLORS.items()]  # more colors: 'mcolors.XKCD_COLORS'\n",
    "cols = [color for name, color in mcolors.TABLEAU_COLORS.items()] \n",
    "custom_stop = [\"https\", \"co\", \"RT\", \"amp\", \"go\", \"covid\"]\n",
    "\n",
    "cloud = WordCloud(stopwords= custom_stop + list(STOPWORDS),\n",
    "                  background_color='white',\n",
    "                  width=2500,\n",
    "                  height=1800,\n",
    "                  max_words=15,\n",
    "                  colormap='tab10',\n",
    "                  color_func=lambda *args, **kwargs: cols[i],\n",
    "                  prefer_horizontal=1.0)\n",
    "\n",
    "topics = lda_model_tfidf.show_topics(formatted=False)\n",
    "\n",
    "fig, axes = plt.subplots(2, 2, figsize=(10,10), sharex=True, sharey=True)\n",
    "\n",
    "for i, ax in enumerate(axes.flatten()):\n",
    "    fig.add_subplot(ax)\n",
    "    topic_words = dict(topics[i][1])\n",
    "    cloud.generate_from_frequencies(topic_words, max_font_size=300)\n",
    "    plt.gca().imshow(cloud)\n",
    "    plt.gca().set_title('Topic ' + str(i), fontdict=dict(size=16))\n",
    "    plt.gca().axis('off')\n",
    "\n",
    "\n",
    "plt.subplots_adjust(wspace=0, hspace=0)\n",
    "plt.axis('off')\n",
    "plt.margins(x=0, y=0)\n",
    "plt.tight_layout()\n",
    "plt.show()"
   ]
  },
  {
   "cell_type": "code",
   "execution_count": 194,
   "id": "governmental-garden",
   "metadata": {},
   "outputs": [
    {
     "data": {
      "text/html": [
       "\n",
       "<link rel=\"stylesheet\" type=\"text/css\" href=\"https://cdn.jsdelivr.net/gh/bmabey/pyLDAvis@3.2.2/pyLDAvis/js/ldavis.v1.0.0.css\">\n",
       "\n",
       "\n",
       "<div id=\"ldavis_el1935217510529962722755964023\"></div>\n",
       "<script type=\"text/javascript\">\n",
       "\n",
       "var ldavis_el1935217510529962722755964023_data = {\"mdsDat\": {\"x\": [0.09666452363343077, 0.10448819017227758, 0.10759999762700334, -0.35008383482436867, 0.09673623556254636, -0.05540511217088929], \"y\": [-0.07244319723745657, 0.14480020938222177, 0.10362200059665422, 0.06916550744116196, -0.05682534936620994, -0.18831917081637153], \"topics\": [1, 2, 3, 4, 5, 6], \"cluster\": [1, 1, 1, 1, 1, 1], \"Freq\": [19.521762222165112, 17.32340156675259, 17.179726204329352, 16.44726758557448, 15.251310353697006, 14.276532067481472]}, \"tinfo\": {\"Term\": [\"case\", \"death\", \"total\", \"mask\", \"new\", \"report\", \"confirm\", \"face\", \"wear\", \"india\", \"update\", \"hour\", \"record\", \"number\", \"positive\", \"tally\", \"august\", \"active\", \"rate\", \"test\", \"spike\", \"symptom\", \"index\", \"recover\", \"backhand\", \"cross\", \"trump\", \"aug\", \"daily\", \"gmt\", \"milestone\", \"backtoschool\", \"conspiracy\", \"shield\", \"classroom\", \"accelerate\", \"bullshit\", \"environment\", \"skill\", \"scientific\", \"reporting\", \"image\", \"schoolsreopen\", \"johns\", \"min\", \"theory\", \"hopkins\", \"southafrica\", \"lebanon\", \"drrpnishank\", \"israeli\", \"academic\", \"english\", \"innovation\", \"inperson\", \"russias\", \"style\", \"startup\", \"homeless\", \"hall\", \"tough\", \"learning\", \"resilience\", \"culture\", \"vaccination\", \"recession\", \"education\", \"exam\", \"trial\", \"university\", \"discussion\", \"reopen\", \"digital\", \"grant\", \"teacher\", \"virtual\", \"build\", \"business\", \"school\", \"technology\", \"phase\", \"student\", \"webinar\", \"vaccine\", \"industry\", \"organization\", \"impact\", \"challenge\", \"learn\", \"join\", \"pandemic\", \"company\", \"work\", \"global\", \"plan\", \"covid\", \"open\", \"service\", \"support\", \"health\", \"child\", \"amp\", \"time\", \"need\", \"help\", \"crisis\", \"world\", \"coronavirus\", \"year\", \"new\", \"news\", \"look\", \"people\", \"wear\", \"earlyvot\", \"willing\", \"wearamask\", \"cry\", \"auckland\", \"auspol\", \"covering\", \"queensland\", \"nose\", \"mouth\", \"grin\", \"insider\", \"maga\", \"crazy\", \"tired\", \"johnson\", \"berlin\", \"gathering\", \"cough\", \"nygovcuomo\", \"facepalm\", \"fucking\", \"scare\", \"rush\", \"projectlincoln\", \"luck\", \"shrug\", \"indoor\", \"saliva\", \"maskup\", \"mediumlight\", \"laugh\", \"eye\", \"idiot\", \"mask\", \"joy\", \"tear\", \"roll\", \"sick\", \"smile\", \"face\", \"stupid\", \"distancing\", \"mandatory\", \"tone\", \"floor\", \"skin\", \"facemask\", \"distance\", \"stay\", \"able\", \"person\", \"social\", \"safe\", \"guy\", \"think\", \"medical\", \"feel\", \"heart\", \"know\", \"people\", \"go\", \"get\", \"covid\", \"good\", \"stop\", \"amp\", \"coronavirus\", \"time\", \"want\", \"day\", \"spread\", \"episode\", \"mentalhealth\", \"edt\", \"kamalaharris\", \"hide\", \"dream\", \"sleep\", \"joebiden\", \"waste\", \"sorry\", \"smartphone\", \"ship\", \"speech\", \"guest\", \"doubt\", \"uncertainty\", \"cat\", \"danielandrewsmp\", \"incompetence\", \"cruise\", \"faith\", \"incompetent\", \"inequality\", \"handling\", \"concert\", \"panic\", \"dance\", \"lifestyle\", \"dose\", \"jordan\", \"plandemic\", \"hurt\", \"glad\", \"shock\", \"secure\", \"season\", \"football\", \"promise\", \"survive\", \"climatechange\", \"robert\", \"flu\", \"hundred\", \"november\", \"whitehouse\", \"guess\", \"war\", \"victim\", \"god\", \"democrat\", \"trump\", \"trumpvirus\", \"realdonaldtrump\", \"game\", \"history\", \"prayer\", \"election\", \"truth\", \"kill\", \"hoax\", \"dead\", \"potus\", \"american\", \"america\", \"lose\", \"believe\", \"pandemic\", \"people\", \"die\", \"covid\", \"life\", \"time\", \"year\", \"say\", \"virus\", \"know\", \"go\", \"coronavirus\", \"think\", \"world\", \"come\", \"amp\", \"good\", \"thing\", \"need\", \"want\", \"vaccine\", \"total\", \"tally\", \"gmt\", \"coronavirusupdate\", \"coronaviruspandemic\", \"spike\", \"confirm\", \"record\", \"toll\", \"realdonaldtrumps\", \"fatality\", \"brazil\", \"surpass\", \"average\", \"singleday\", \"korea\", \"newzealand\", \"thailand\", \"hospitalization\", \"hr\", \"telangana\", \"ncov\", \"mike\", \"orange\", \"voting\", \"top\", \"tracker\", \"bulletin\", \"active\", \"cumulative\", \"cross\", \"statistic\", \"square\", \"hour\", \"stat\", \"positivity\", \"case\", \"rate\", \"death\", \"report\", \"sample\", \"daily\", \"india\", \"number\", \"united\", \"update\", \"new\", \"rise\", \"august\", \"recovery\", \"positive\", \"recover\", \"odisha\", \"coronavirus\", \"test\", \"corona\", \"covid\", \"day\", \"today\", \"state\", \"infection\", \"blood\", \"plasma\", \"wash\", \"component\", \"ceo\", \"clap\", \"wuhan\", \"longterm\", \"trumps\", \"petition\", \"bidenharris\", \"damage\", \"unit\", \"blacklivesmatter\", \"ganesh\", \"attempt\", \"hong\", \"unemployed\", \"poverty\", \"michael\", \"narrative\", \"hyderabad\", \"kong\", \"bbnaijalockdown\", \"finance\", \"bet\", \"corrupt\", \"bbnaija\", \"gift\", \"keycap\", \"type\", \"donate\", \"aged\", \"cell\", \"request\", \"water\", \"page\", \"produce\", \"fire\", \"retweet\", \"hand\", \"thread\", \"need\", \"short\", \"promote\", \"article\", \"fold\", \"patient\", \"covid\", \"hospital\", \"read\", \"care\", \"russian\", \"video\", \"support\", \"response\", \"people\", \"amp\", \"help\", \"health\", \"pandemic\", \"share\", \"coronavirus\", \"good\", \"time\", \"thank\", \"say\", \"index\", \"backhand\", \"identify\", \"selfreport\", \"copy\", \"artist\", \"pen\", \"incoming\", \"pointing\", \"import\", \"authorize\", \"initiative\", \"europeafrica\", \"bed\", \"donation\", \"ontario\", \"hashtag\", \"commission\", \"impose\", \"personnel\", \"plant\", \"sept\", \"photography\", \"archive\", \"fordnation\", \"property\", \"bot\", \"indonesia\", \"ganeshchaturthi\", \"agedcare\", \"wednesday\", \"tracing\", \"strain\", \"rapid\", \"slow\", \"symptom\", \"aug\", \"envelope\", \"lab\", \"point\", \"testing\", \"risk\", \"globe\", \"official\", \"contact\", \"police\", \"spread\", \"deliver\", \"link\", \"car\", \"help\", \"test\", \"sign\", \"covid\", \"facility\", \"show\", \"lockdown\", \"hospital\", \"quarantine\", \"health\", \"coronavirus\", \"case\", \"positive\", \"pandemic\", \"amp\", \"patient\", \"update\", \"new\"], \"Freq\": [3765.0, 2526.0, 1335.0, 1613.0, 2883.0, 1649.0, 889.0, 1561.0, 860.0, 1299.0, 1292.0, 799.0, 662.0, 1081.0, 1142.0, 566.0, 1090.0, 574.0, 589.0, 1711.0, 503.0, 539.0, 418.0, 697.0, 395.0, 436.0, 1038.0, 443.0, 553.0, 401.0, 123.40929040145878, 97.65024453866249, 93.3405249017292, 83.63124307729197, 93.15541950376829, 93.35785300737987, 77.80066614064866, 80.11362304425649, 72.65706302216269, 81.96386507278709, 71.66795102514727, 75.52090199160794, 71.99161806254104, 70.05918421974984, 70.43260878610799, 69.14060986492859, 68.81263997301718, 69.11659167134994, 81.49650700441684, 65.16626491926304, 64.91974782027134, 64.11330050599892, 65.64171818850546, 113.67913122414163, 65.71209052329444, 60.83673270361861, 58.67306297285145, 64.70229565269933, 57.48682675712077, 57.97292290606838, 114.40362496129626, 146.06823897890536, 81.22839297913437, 73.57914772835312, 77.49794938587239, 122.9193775962441, 310.95376995415756, 185.85925807239764, 219.47728052532796, 323.7145486868165, 126.73035506773219, 292.45322639409875, 151.95195738433708, 128.68339399238297, 219.4919637124955, 179.92888408284023, 151.95390217733942, 481.0199280446775, 673.1067050294571, 156.4126124061805, 129.4611847817662, 401.23374493623925, 183.4290641846274, 552.0311273349234, 184.54479193005895, 133.06563496037282, 336.98311287238147, 219.41238278284052, 247.76495597370698, 255.14486197961426, 587.2839233376748, 192.74720924043785, 380.9045903078181, 302.69623721009293, 247.20345533807688, 808.4400269743263, 245.25331415499954, 206.1951222366768, 270.2747875477006, 359.31151470718856, 265.1234198431529, 359.1576037889849, 313.15498391383454, 309.59717959538864, 295.3209598115311, 223.35766765906888, 267.94620909430165, 309.8551174912864, 246.37145344375395, 275.7035021823093, 241.86140067965155, 233.5975862541894, 223.7047548661931, 856.8869212143919, 192.27786525624649, 192.64293852736986, 250.83500356377496, 140.13987443969157, 119.73696582510007, 115.66710815109337, 101.9798719846675, 96.62571712381867, 98.20819602468507, 111.81269789680418, 92.11752646251585, 91.98287182519242, 86.59491739917885, 85.19493198916496, 83.9914534715424, 81.22240015010675, 116.44710409031654, 87.45282405422344, 73.76849584119572, 70.04030543358698, 69.21234120670722, 76.2528458557522, 72.03718063710129, 66.43775241908489, 66.50485969972983, 64.57760711340515, 78.0747606346353, 64.06185094550123, 61.76042586888898, 113.87556724746682, 91.46727529271243, 159.79873528674136, 277.5501384510718, 100.61227962229938, 1441.926554378083, 227.71173474651846, 226.7445856878523, 240.3257290144261, 220.1528334733683, 241.08455815932984, 1265.4921684185133, 131.16391970957937, 243.38496502080565, 115.1466276375352, 260.04974700126627, 114.24247848320087, 268.44070261972564, 164.06636830758904, 180.38031477095282, 379.4085321925968, 278.9139427079747, 348.29636467270586, 302.3558093156353, 352.44022415188306, 188.40112330049027, 451.80110874255433, 306.6548171689923, 256.313829376245, 262.7074265704473, 430.912373444811, 542.9536951555135, 366.7114239569417, 309.59093543328083, 734.0461336404547, 362.7311346991745, 263.02448840920493, 306.66814025518437, 329.5178198426442, 280.21580842039134, 246.14802122766653, 255.9965431849997, 246.64321894165033, 121.18253968905093, 123.6869669763968, 112.71007868313782, 99.75342437305389, 93.5023468909899, 88.6185155774146, 88.36082731855083, 232.86933592584762, 79.274143546508, 78.49039916486035, 75.2136687073735, 74.4467395692641, 85.57891856200837, 71.90759500810923, 67.3417515022996, 67.20941596352237, 65.60507913983231, 61.70648417958486, 62.85615906717787, 62.21008146945977, 57.27547068761171, 57.41307329122242, 56.7602268092098, 56.629474384964155, 55.19136458709114, 63.03668974672223, 54.86165317441583, 54.365312539258696, 54.48989081683113, 53.651811377246524, 116.99167611414425, 100.03697302172559, 80.83219352424469, 88.32672617580278, 64.22399569459995, 196.22651563338957, 177.0515928202369, 94.83682686736256, 156.73438013484667, 75.00598119558046, 125.19794282960224, 269.03393582650335, 87.75054950268631, 82.16532143523361, 139.5184973742189, 126.71702251773425, 122.21831590412785, 105.39338541642039, 177.35811802305628, 174.9784487181756, 693.6420598853451, 130.58148210573026, 671.2240627739096, 193.73109926281, 150.35906667024412, 116.58422522059199, 209.15256876744664, 167.65638141942662, 296.0479625870468, 134.66850192474038, 229.70165210877192, 142.5841687138292, 381.5538097167024, 224.36780551418417, 258.99779408954663, 197.38042642202657, 540.0086844949788, 536.8402305140769, 391.52171493865967, 872.8530893856788, 303.7829061556347, 372.0384869885116, 311.11062132244234, 333.09684747817, 282.1610530634483, 327.1377305452347, 291.78625249750746, 440.1758733461974, 275.5382431746151, 287.2579288060966, 250.50526603727363, 291.10614649473604, 247.11089733402582, 216.10904785528416, 243.75005642934434, 218.1806174001897, 218.28577043459072, 1334.0628065764358, 565.4563326055555, 400.3129512223063, 388.65514255906083, 374.49641614924707, 502.48109565495093, 887.3783894941693, 660.5437047178524, 375.42492491441425, 201.47619414686335, 199.65494520963904, 225.33759793075046, 169.63955743892842, 174.08292443570082, 161.7677634192799, 138.29609475024188, 129.79828481091454, 141.34953321520854, 133.83980813108414, 112.9792467590793, 149.62608745272118, 99.10902854325624, 89.9270930573766, 89.34388311548062, 85.26288817790282, 83.90700780756418, 87.88717725833364, 82.48748785149976, 568.9112870458596, 78.00332204719464, 429.5005164416204, 172.77665803693213, 138.26337377889934, 758.8239357984477, 134.28762010268014, 106.99616717465354, 3445.066775565733, 561.375534288737, 2264.3816624527567, 1430.0491287997677, 239.94828992569816, 493.73966440245056, 1076.5181220423658, 880.4397739827189, 250.99473910835644, 996.7001214683165, 1999.22650927307, 520.412253490914, 816.0047917457314, 516.7826670463191, 814.7146974044064, 532.9986364595798, 313.14867476274435, 1280.3018410340667, 885.7742918004116, 434.40053515162083, 1648.4679207605566, 708.367247654587, 534.1260926629247, 507.2069083723055, 414.78754888176525, 342.9368328590888, 252.3891233808641, 192.8834721388909, 131.1387205681841, 114.60429157609266, 101.94723877159574, 98.53884433649677, 91.77970009548105, 90.52112822394044, 87.64984377466678, 93.45245029899523, 93.7791285204099, 89.07997451031156, 81.68286497284542, 78.83145379056447, 80.1078477891559, 77.71197959434367, 76.41552240839455, 75.89235257735962, 76.4437293810031, 75.47377568973285, 74.05924121446117, 73.7620158432494, 73.71758967147058, 89.67129536512005, 88.97502451661722, 75.48671306499607, 74.27530981530477, 71.6308206690894, 70.39358065294465, 208.81338460921424, 149.41082214135847, 77.6665430462231, 87.39859432541215, 124.47567603185412, 158.80542291603052, 133.838856381342, 89.12512997629194, 231.3854807629769, 140.07028029937757, 375.3344514988747, 194.90493892297337, 486.9296524088559, 110.80329376248316, 95.95631481015624, 185.32877427936938, 127.19022300230756, 246.82924267980945, 621.7464619272415, 224.42064516986073, 238.08172337910742, 218.13944692256817, 112.34553828798975, 161.36512401449906, 189.8490309024603, 172.97114232550354, 270.81629113364676, 246.73069680082264, 219.18090942966504, 213.49039390475457, 229.4480347483667, 158.01611387912564, 191.56992212009254, 165.64006430053766, 165.22027951938955, 154.84766483315698, 159.94948800111044, 418.10889712157564, 394.54380218370534, 358.5117997141432, 270.57686510150563, 149.04929232795638, 162.53870075311343, 133.2802244685139, 117.66049325354845, 113.18971679261493, 116.05400074495267, 113.70161436480696, 106.30620061336063, 105.78961671503953, 105.78530728615605, 96.38851938177281, 91.49032722180854, 95.63592669502778, 87.9720412131557, 90.76416712113593, 84.12790264625406, 82.05877943560608, 81.83062148792035, 103.51462938434561, 78.18663669223059, 77.49496624516338, 76.58119665141494, 74.7694018130072, 75.00221764174687, 75.16532881385967, 67.8987499189843, 96.76768512209993, 111.85460452337779, 85.3746076219608, 185.76997851169614, 369.6230434098103, 489.81827730894844, 405.6820971458291, 113.96942474723572, 165.55168844700634, 375.44794056144224, 417.43150610222796, 419.3794248477109, 162.7365931408518, 275.73068604047063, 240.65509233228954, 236.08263183900476, 456.121757733631, 176.8580226905107, 209.8993099600133, 163.53854514423088, 382.7368488403013, 453.2414094251088, 218.314415653755, 689.0764837751834, 138.67423562194818, 206.76718006890286, 240.30985445533386, 216.08308440212986, 183.73626941959557, 246.31415469586418, 290.61747300434297, 298.3103013501684, 220.43801118329313, 207.83017252682777, 202.89490932268927, 187.48551521583528, 188.6881587701525, 189.6457337796142], \"Total\": [3765.0, 2526.0, 1335.0, 1613.0, 2883.0, 1649.0, 889.0, 1561.0, 860.0, 1299.0, 1292.0, 799.0, 662.0, 1081.0, 1142.0, 566.0, 1090.0, 574.0, 589.0, 1711.0, 503.0, 539.0, 418.0, 697.0, 395.0, 436.0, 1038.0, 443.0, 553.0, 401.0, 124.44513574574157, 98.49865797586105, 94.1831574029917, 84.48149080360662, 94.12192918288541, 94.35520791963759, 78.67023424740594, 81.02372858742913, 73.49523319735175, 82.92703316335042, 72.51018073986525, 76.41341893301123, 72.84686798797937, 70.8980704108371, 71.27960408788663, 69.98116925769992, 69.650247174659, 69.97963453268544, 82.54769564103321, 66.00846551154827, 65.7602334582261, 64.95320397334186, 66.51023167323471, 115.22792447158079, 66.61585013092588, 61.67792771680313, 59.51911630183672, 65.64654776868814, 58.32697258897655, 58.82994935346856, 116.66887523510971, 149.3521616636763, 82.57601086291403, 74.7679424071091, 78.98247259125405, 127.14251070874234, 338.97285949878494, 198.42437986846764, 236.6062207625834, 356.38870355676, 135.7875301645999, 344.66212547211603, 168.72792215724022, 140.85394997482524, 259.3843958767895, 208.7185253476014, 172.15930297326514, 690.4256603554179, 1057.5906830860997, 191.55289934509764, 151.3415801705495, 667.1427819399222, 240.63986603837967, 1056.891756021965, 249.67666038294078, 161.2041715402211, 594.2396686606406, 356.91155086259823, 437.2095555611341, 461.1189120955073, 1889.68493026589, 300.46358945388704, 1040.0345746511584, 695.2629470433841, 504.41811018627936, 5374.630116463441, 499.3326703258458, 365.1673602189106, 662.3811868233842, 1244.7585208085957, 644.8947458131456, 1636.0421377207713, 1297.9918990163956, 1343.4253398564322, 1178.5634349225743, 495.79680489818224, 1084.524197347265, 2842.0380468386306, 900.6328981144338, 2883.018775626244, 1020.740155440457, 833.6793873414914, 2013.9183518270033, 860.3894488440413, 193.11783224421993, 193.73101877166718, 252.30806325986845, 141.0958154521967, 120.57968011729248, 116.5324163594086, 102.86250788795228, 97.47164111085833, 99.06993688792865, 112.80870570813356, 92.96026386572954, 92.82705263504886, 87.4453985142721, 86.05313040406924, 84.85642060257665, 82.07029976699685, 117.72426020520409, 88.43257712169564, 74.62680777280926, 70.8856569456797, 70.05725765204919, 77.1969828724947, 72.93855488125159, 67.2792533107647, 67.34850936997967, 65.41814712758024, 79.11105618545099, 64.91413423337384, 62.60555992619964, 115.5399597270392, 93.27006943866486, 165.46372608680952, 292.54911876792835, 103.04682379630597, 1613.1176013897434, 239.196921474533, 238.3799022622986, 259.6618486849301, 237.74604537698912, 262.1128754332413, 1561.6572430972262, 137.36145601893648, 268.77144005490214, 119.66873624657516, 296.74150721434114, 119.09288117426635, 315.38102884019156, 181.22073656568654, 205.18067867711662, 568.7534110608849, 384.2722718197051, 539.474621281429, 480.0408398000347, 601.8565512844506, 243.8040847220402, 951.8209223470215, 577.6115033865501, 439.0011189889042, 475.0814487084645, 1171.576208278134, 2013.9183518270033, 986.8832953568328, 736.3433786708667, 5374.630116463441, 1103.0172927100643, 603.2995426305882, 1636.0421377207713, 2842.0380468386306, 1297.9918990163956, 755.3636318015917, 1540.562723017097, 964.5721500466414, 122.03767332331947, 124.59695797032865, 113.55798768418762, 100.58959847283873, 94.34333788606531, 89.45955931637371, 89.21495830429491, 235.3444634724737, 80.12408709320061, 79.33633449705209, 76.051213222269, 75.30064427082944, 86.60534409393996, 72.77475118744836, 68.18104854741333, 68.06289074620629, 66.4759159872378, 62.544534393842184, 63.742735195070225, 63.09657259332127, 58.12532966288613, 58.273585391905584, 57.613274423659114, 57.48146219432799, 56.02986483094489, 64.00374179085271, 55.703875520119865, 55.206494397210534, 55.34175298125672, 54.495978553911435, 119.20655483356454, 101.79960162197298, 82.13173094853977, 89.82759434835276, 65.24317837893814, 201.97892494882603, 182.8016400867345, 96.9064158568362, 162.19693457854555, 76.83098916435068, 132.89468027755558, 302.7001907698945, 91.0081904714596, 84.98625413999302, 150.69680726380005, 136.62633895849757, 131.85493872932173, 111.9932916186893, 200.56873800057977, 199.64508733460838, 1038.342392007939, 145.69867885330694, 1047.2878733872847, 237.95166851698966, 176.92759300477942, 129.37450057703606, 277.04343995630757, 210.6850688765638, 453.95702435130045, 159.93737767479055, 366.25626684583807, 178.37605567043948, 806.8265131267386, 364.43845848813027, 500.0995240372373, 322.76689747866544, 1889.68493026589, 2013.9183518270033, 1174.0453754660089, 5374.630116463441, 829.6480726533553, 1297.9918990163956, 900.6328981144338, 1176.5628479675909, 819.4083669554009, 1171.576208278134, 986.8832953568328, 2842.0380468386306, 951.8209223470215, 1084.524197347265, 783.3246849123304, 1636.0421377207713, 1103.0172927100643, 584.4337170208673, 1343.4253398564322, 755.3636318015917, 1056.891756021965, 1335.9564360270099, 566.4846411261266, 401.15697837350064, 389.50810506182074, 375.3533528809218, 503.65309382981053, 889.7685740694218, 662.6826659917542, 376.9853808797726, 202.31762012463182, 200.50990776159762, 226.45111634733937, 170.4888319045472, 174.99587995244545, 162.62544658440527, 139.151224599215, 130.64166117134718, 142.30782884952427, 134.79104161351046, 113.86267408047499, 151.0006875721142, 100.02419132268805, 90.77920311436536, 90.2048099261063, 86.11193059725828, 84.74810808377276, 88.77102830818838, 83.32945121280487, 574.9799584501338, 78.84291725996965, 436.9623721769448, 174.76570381631058, 139.76375833496454, 799.5920122255964, 136.59568925720708, 108.38299024276782, 3765.7994171745004, 589.7420714393556, 2526.1939745017276, 1649.4466967147487, 251.9237135978587, 553.2234797194812, 1299.816717858031, 1081.1988070990037, 270.59342376798674, 1292.2686938791549, 2883.018775626244, 631.0784590421007, 1090.8590106003644, 642.8346812107561, 1142.7339177221977, 697.1306828561642, 359.8479817506753, 2842.0380468386306, 1711.8111258298472, 602.0135196105518, 5374.630116463441, 1540.562723017097, 1239.6725276269165, 1042.454914885961, 585.8762102411166, 343.8649746525135, 253.52730512782057, 193.8366694858608, 131.9662301522151, 115.43913617064855, 102.77480151532352, 99.37104933186295, 92.6146154184893, 91.36825860752693, 88.48141960094895, 94.34078153565835, 94.69828250137542, 89.96271071610707, 82.52639648229692, 79.6638160461243, 80.95513527248616, 78.54426513436977, 77.24522790521884, 76.72560778718407, 77.2857312554472, 76.30816175908953, 74.89223376866674, 74.59314604732528, 74.55298420375784, 90.69446831776986, 89.99498617645604, 76.35287671165462, 75.12852795629192, 72.46033743722991, 71.21957893194023, 212.7004019139318, 151.69853274891082, 78.68161454827316, 89.10379021025119, 130.1061665825585, 184.2458217891469, 153.02811305436165, 93.71592754299687, 318.0806218096008, 168.13660977254705, 640.7588448799373, 273.92042190959484, 1343.4253398564322, 138.27273482294032, 110.58365218189886, 371.77617263681344, 190.84706397994796, 700.8503910033453, 5374.630116463441, 660.8570092560537, 803.9796619001911, 667.3002994505235, 153.7180599127302, 413.6536099485302, 662.3811868233842, 539.4390440359316, 2013.9183518270033, 1636.0421377207713, 1178.5634349225743, 1244.7585208085957, 1889.68493026589, 524.2548622114499, 2842.0380468386306, 1103.0172927100643, 1297.9918990163956, 704.9716355271012, 1176.5628479675909, 418.9540006901599, 395.37877077865306, 359.5774502320362, 271.4023313478478, 149.88276418034533, 163.46516802428695, 134.1041679062345, 118.48293352320394, 114.01294713034547, 116.92700401221583, 114.58033428770382, 107.13769493646642, 106.62118952135522, 106.6730914368268, 97.21211193479401, 92.3210839885809, 96.52343915529943, 88.82544135450485, 91.65777628418941, 84.95768171192903, 82.88216574116872, 82.65406343965188, 104.5826028592273, 79.00857514000931, 78.31801687683244, 77.42341722144444, 75.59602841679902, 75.83323388459303, 75.99913172810783, 68.72420319325909, 97.9675606019548, 113.90288418417754, 86.47259545358096, 191.40855797018983, 399.8595279528538, 539.2482160252482, 443.10497083298856, 118.00961021191077, 181.28857887004853, 571.1865564402578, 668.6258289464386, 744.8642363478272, 204.2213234562154, 428.10675570660874, 356.43716104465915, 355.17419743636276, 964.5721500466414, 252.59244155443398, 354.72341145351913, 229.1492641754895, 1178.5634349225743, 1711.8111258298472, 435.3641782136874, 5374.630116463441, 187.92706468866461, 526.830982924464, 804.5856565751171, 660.8570092560537, 417.59496733863375, 1244.7585208085957, 2842.0380468386306, 3765.7994171745004, 1142.7339177221977, 1889.68493026589, 1636.0421377207713, 700.8503910033453, 1292.2686938791549, 2883.018775626244], \"Category\": [\"Default\", \"Default\", \"Default\", \"Default\", \"Default\", \"Default\", \"Default\", \"Default\", \"Default\", \"Default\", \"Default\", \"Default\", \"Default\", \"Default\", \"Default\", \"Default\", \"Default\", \"Default\", \"Default\", \"Default\", \"Default\", \"Default\", \"Default\", \"Default\", \"Default\", \"Default\", \"Default\", \"Default\", \"Default\", \"Default\", \"Topic1\", \"Topic1\", \"Topic1\", \"Topic1\", \"Topic1\", \"Topic1\", \"Topic1\", \"Topic1\", \"Topic1\", \"Topic1\", \"Topic1\", \"Topic1\", \"Topic1\", \"Topic1\", \"Topic1\", \"Topic1\", \"Topic1\", \"Topic1\", \"Topic1\", \"Topic1\", \"Topic1\", \"Topic1\", \"Topic1\", \"Topic1\", \"Topic1\", \"Topic1\", \"Topic1\", \"Topic1\", \"Topic1\", \"Topic1\", \"Topic1\", \"Topic1\", \"Topic1\", \"Topic1\", \"Topic1\", \"Topic1\", \"Topic1\", \"Topic1\", \"Topic1\", \"Topic1\", \"Topic1\", \"Topic1\", \"Topic1\", \"Topic1\", \"Topic1\", \"Topic1\", \"Topic1\", \"Topic1\", \"Topic1\", \"Topic1\", \"Topic1\", \"Topic1\", \"Topic1\", \"Topic1\", \"Topic1\", \"Topic1\", \"Topic1\", \"Topic1\", \"Topic1\", \"Topic1\", \"Topic1\", \"Topic1\", \"Topic1\", \"Topic1\", \"Topic1\", \"Topic1\", \"Topic1\", \"Topic1\", \"Topic1\", \"Topic1\", \"Topic1\", \"Topic1\", \"Topic1\", \"Topic1\", \"Topic1\", \"Topic1\", \"Topic1\", \"Topic1\", \"Topic1\", \"Topic1\", \"Topic1\", \"Topic1\", \"Topic1\", \"Topic2\", \"Topic2\", \"Topic2\", \"Topic2\", \"Topic2\", \"Topic2\", \"Topic2\", \"Topic2\", \"Topic2\", \"Topic2\", \"Topic2\", \"Topic2\", \"Topic2\", \"Topic2\", \"Topic2\", \"Topic2\", \"Topic2\", \"Topic2\", \"Topic2\", \"Topic2\", \"Topic2\", \"Topic2\", \"Topic2\", \"Topic2\", \"Topic2\", \"Topic2\", \"Topic2\", \"Topic2\", \"Topic2\", \"Topic2\", \"Topic2\", \"Topic2\", \"Topic2\", \"Topic2\", \"Topic2\", \"Topic2\", \"Topic2\", \"Topic2\", \"Topic2\", \"Topic2\", \"Topic2\", \"Topic2\", \"Topic2\", \"Topic2\", \"Topic2\", \"Topic2\", \"Topic2\", \"Topic2\", \"Topic2\", \"Topic2\", \"Topic2\", \"Topic2\", \"Topic2\", \"Topic2\", \"Topic2\", \"Topic2\", \"Topic2\", \"Topic2\", \"Topic2\", \"Topic2\", \"Topic2\", \"Topic2\", \"Topic2\", \"Topic2\", \"Topic2\", \"Topic2\", \"Topic2\", \"Topic2\", \"Topic2\", \"Topic2\", \"Topic2\", \"Topic2\", \"Topic2\", \"Topic3\", \"Topic3\", \"Topic3\", \"Topic3\", \"Topic3\", \"Topic3\", \"Topic3\", \"Topic3\", \"Topic3\", \"Topic3\", \"Topic3\", \"Topic3\", \"Topic3\", \"Topic3\", \"Topic3\", \"Topic3\", \"Topic3\", \"Topic3\", \"Topic3\", \"Topic3\", \"Topic3\", \"Topic3\", \"Topic3\", \"Topic3\", \"Topic3\", \"Topic3\", \"Topic3\", \"Topic3\", \"Topic3\", \"Topic3\", \"Topic3\", \"Topic3\", \"Topic3\", \"Topic3\", \"Topic3\", \"Topic3\", \"Topic3\", \"Topic3\", \"Topic3\", \"Topic3\", \"Topic3\", \"Topic3\", \"Topic3\", \"Topic3\", \"Topic3\", \"Topic3\", \"Topic3\", \"Topic3\", \"Topic3\", \"Topic3\", \"Topic3\", \"Topic3\", \"Topic3\", \"Topic3\", \"Topic3\", \"Topic3\", \"Topic3\", \"Topic3\", \"Topic3\", \"Topic3\", \"Topic3\", \"Topic3\", \"Topic3\", \"Topic3\", \"Topic3\", \"Topic3\", \"Topic3\", \"Topic3\", \"Topic3\", \"Topic3\", \"Topic3\", \"Topic3\", \"Topic3\", \"Topic3\", \"Topic3\", \"Topic3\", \"Topic3\", \"Topic3\", \"Topic3\", \"Topic3\", \"Topic3\", \"Topic3\", \"Topic3\", \"Topic3\", \"Topic3\", \"Topic3\", \"Topic3\", \"Topic4\", \"Topic4\", \"Topic4\", \"Topic4\", \"Topic4\", \"Topic4\", \"Topic4\", \"Topic4\", \"Topic4\", \"Topic4\", \"Topic4\", \"Topic4\", \"Topic4\", \"Topic4\", \"Topic4\", \"Topic4\", \"Topic4\", \"Topic4\", \"Topic4\", \"Topic4\", \"Topic4\", \"Topic4\", \"Topic4\", \"Topic4\", \"Topic4\", \"Topic4\", \"Topic4\", \"Topic4\", \"Topic4\", \"Topic4\", \"Topic4\", \"Topic4\", \"Topic4\", \"Topic4\", \"Topic4\", \"Topic4\", \"Topic4\", \"Topic4\", \"Topic4\", \"Topic4\", \"Topic4\", \"Topic4\", \"Topic4\", \"Topic4\", \"Topic4\", \"Topic4\", \"Topic4\", \"Topic4\", \"Topic4\", \"Topic4\", \"Topic4\", \"Topic4\", \"Topic4\", \"Topic4\", \"Topic4\", \"Topic4\", \"Topic4\", \"Topic4\", \"Topic4\", \"Topic4\", \"Topic4\", \"Topic5\", \"Topic5\", \"Topic5\", \"Topic5\", \"Topic5\", \"Topic5\", \"Topic5\", \"Topic5\", \"Topic5\", \"Topic5\", \"Topic5\", \"Topic5\", \"Topic5\", \"Topic5\", \"Topic5\", \"Topic5\", \"Topic5\", \"Topic5\", \"Topic5\", \"Topic5\", \"Topic5\", \"Topic5\", \"Topic5\", \"Topic5\", \"Topic5\", \"Topic5\", \"Topic5\", \"Topic5\", \"Topic5\", \"Topic5\", \"Topic5\", \"Topic5\", \"Topic5\", \"Topic5\", \"Topic5\", \"Topic5\", \"Topic5\", \"Topic5\", \"Topic5\", \"Topic5\", \"Topic5\", \"Topic5\", \"Topic5\", \"Topic5\", \"Topic5\", \"Topic5\", \"Topic5\", \"Topic5\", \"Topic5\", \"Topic5\", \"Topic5\", \"Topic5\", \"Topic5\", \"Topic5\", \"Topic5\", \"Topic5\", \"Topic5\", \"Topic5\", \"Topic5\", \"Topic5\", \"Topic5\", \"Topic5\", \"Topic5\", \"Topic5\", \"Topic5\", \"Topic5\", \"Topic5\", \"Topic6\", \"Topic6\", \"Topic6\", \"Topic6\", \"Topic6\", \"Topic6\", \"Topic6\", \"Topic6\", \"Topic6\", \"Topic6\", \"Topic6\", \"Topic6\", \"Topic6\", \"Topic6\", \"Topic6\", \"Topic6\", \"Topic6\", \"Topic6\", \"Topic6\", \"Topic6\", \"Topic6\", \"Topic6\", \"Topic6\", \"Topic6\", \"Topic6\", \"Topic6\", \"Topic6\", \"Topic6\", \"Topic6\", \"Topic6\", \"Topic6\", \"Topic6\", \"Topic6\", \"Topic6\", \"Topic6\", \"Topic6\", \"Topic6\", \"Topic6\", \"Topic6\", \"Topic6\", \"Topic6\", \"Topic6\", \"Topic6\", \"Topic6\", \"Topic6\", \"Topic6\", \"Topic6\", \"Topic6\", \"Topic6\", \"Topic6\", \"Topic6\", \"Topic6\", \"Topic6\", \"Topic6\", \"Topic6\", \"Topic6\", \"Topic6\", \"Topic6\", \"Topic6\", \"Topic6\", \"Topic6\", \"Topic6\", \"Topic6\", \"Topic6\", \"Topic6\", \"Topic6\", \"Topic6\", \"Topic6\"], \"logprob\": [30.0, 29.0, 28.0, 27.0, 26.0, 25.0, 24.0, 23.0, 22.0, 21.0, 20.0, 19.0, 18.0, 17.0, 16.0, 15.0, 14.0, 13.0, 12.0, 11.0, 10.0, 9.0, 8.0, 7.0, 6.0, 5.0, 4.0, 3.0, 2.0, 1.0, -6.5174, -6.7515, -6.7967, -6.9065, -6.7987, -6.7965, -6.9788, -6.9495, -7.0472, -6.9267, -7.0609, -7.0085, -7.0564, -7.0836, -7.0783, -7.0968, -7.1016, -7.0971, -6.9324, -7.156, -7.1598, -7.1723, -7.1487, -6.5996, -7.1477, -7.2247, -7.261, -7.1631, -7.2814, -7.273, -6.5932, -6.3489, -6.9357, -7.0346, -6.9827, -6.5214, -5.5933, -6.108, -5.9417, -5.5531, -6.4909, -5.6546, -6.3094, -6.4756, -5.9416, -6.1404, -6.3094, -5.157, -4.821, -6.2804, -6.4696, -5.3384, -6.1211, -5.0193, -6.115, -6.4421, -5.5129, -5.942, -5.8205, -5.7911, -4.9574, -6.0716, -5.3904, -5.6202, -5.8227, -4.6378, -5.8306, -6.0041, -5.7335, -5.4488, -5.7527, -5.4492, -5.5862, -5.5977, -5.6449, -5.9242, -5.7422, -5.5968, -5.8261, -5.7136, -5.8446, -5.8793, -5.9226, -4.4602, -5.9545, -5.9526, -5.6887, -6.2708, -6.4282, -6.4628, -6.5887, -6.6426, -6.6264, -6.4966, -6.6904, -6.6919, -6.7522, -6.7685, -6.7828, -6.8163, -6.456, -6.7424, -6.9125, -6.9644, -6.9763, -6.8794, -6.9363, -7.0172, -7.0162, -7.0456, -6.8558, -7.0536, -7.0902, -6.4784, -6.6975, -6.1396, -5.5875, -6.6022, -3.9397, -5.7854, -5.7896, -5.7315, -5.8191, -5.7283, -4.0703, -6.337, -5.7188, -6.4673, -5.6526, -6.4751, -5.6208, -6.1132, -6.0184, -5.2749, -5.5826, -5.3604, -5.5019, -5.3486, -5.9749, -5.1002, -5.4877, -5.6671, -5.6424, -5.1476, -4.9164, -5.3089, -5.4782, -4.6149, -5.3198, -5.6412, -5.4877, -5.4158, -5.5779, -5.7075, -5.6683, -5.7055, -6.4078, -6.3874, -6.4803, -6.6024, -6.6672, -6.7208, -6.7237, -5.7547, -6.8322, -6.8422, -6.8848, -6.8951, -6.7557, -6.9298, -6.9954, -6.9973, -7.0215, -7.0828, -7.0643, -7.0746, -7.1573, -7.1549, -7.1663, -7.1686, -7.1943, -7.0614, -7.2003, -7.2094, -7.2071, -7.2226, -6.443, -6.5996, -6.8128, -6.7241, -7.0428, -5.9259, -6.0287, -6.653, -6.1506, -6.8876, -6.3752, -5.6103, -6.7306, -6.7964, -6.2669, -6.3632, -6.3993, -6.5474, -6.027, -6.0405, -4.6632, -6.3331, -4.696, -5.9387, -6.1921, -6.4465, -5.8621, -6.0832, -5.5146, -6.3023, -5.7684, -6.2452, -5.2609, -5.7919, -5.6483, -5.92, -4.9136, -4.9194, -5.2351, -4.4334, -5.4888, -5.2861, -5.465, -5.3967, -5.5627, -5.4148, -5.5291, -5.118, -5.5864, -5.5448, -5.6817, -5.5315, -5.6953, -5.8294, -5.709, -5.8198, -5.8193, -3.9656, -4.8239, -5.1693, -5.1989, -5.236, -4.942, -4.3733, -4.6685, -5.2335, -5.8559, -5.865, -5.744, -6.0279, -6.002, -6.0754, -6.2322, -6.2956, -6.2103, -6.2649, -6.4344, -6.1534, -6.5653, -6.6626, -6.6691, -6.7158, -6.7319, -6.6855, -6.7489, -4.8178, -6.8048, -5.0989, -6.0096, -6.2324, -4.5298, -6.2616, -6.4888, -3.0169, -4.8312, -3.4365, -3.8961, -5.6811, -4.9596, -4.1801, -4.3811, -5.6361, -4.2571, -3.5611, -4.9069, -4.4571, -4.9139, -4.4587, -4.8831, -5.4149, -4.0067, -4.3751, -5.0876, -3.754, -4.5986, -4.8809, -4.9327, -5.1338, -5.2485, -5.5551, -5.824, -6.2098, -6.3446, -6.4616, -6.4956, -6.5667, -6.5805, -6.6127, -6.5486, -6.5451, -6.5965, -6.6832, -6.7188, -6.7027, -6.7331, -6.7499, -6.7568, -6.7495, -6.7623, -6.7812, -6.7852, -6.7858, -6.5899, -6.5977, -6.7621, -6.7783, -6.8145, -6.832, -5.7446, -6.0794, -6.7337, -6.6156, -6.262, -6.0184, -6.1894, -6.596, -5.642, -6.1439, -5.1583, -5.8136, -4.898, -6.3783, -6.5222, -5.8639, -6.2404, -5.5774, -4.6535, -5.6726, -5.6135, -5.7009, -6.3645, -6.0024, -5.8398, -5.933, -5.4846, -5.5778, -5.6962, -5.7225, -5.6504, -6.0234, -5.8308, -5.9763, -5.9788, -6.0436, -6.0112, -4.9843, -5.0423, -5.1381, -5.4195, -6.0158, -5.9291, -6.1276, -6.2522, -6.291, -6.266, -6.2864, -6.3537, -6.3586, -6.3586, -6.4516, -6.5038, -6.4595, -6.543, -6.5118, -6.5877, -6.6126, -6.6154, -6.3803, -6.6609, -6.6698, -6.6817, -6.7056, -6.7025, -6.7003, -6.802, -6.4477, -6.3028, -6.573, -5.7955, -5.1075, -4.826, -5.0145, -6.2841, -5.9107, -5.0919, -4.9859, -4.9813, -5.9279, -5.4006, -5.5367, -5.5558, -4.8973, -5.8447, -5.6734, -5.923, -5.0727, -4.9036, -5.6341, -4.4847, -6.0879, -5.6884, -5.5381, -5.6444, -5.8065, -5.5134, -5.348, -5.3219, -5.6244, -5.6833, -5.7073, -5.7863, -5.7799, -5.7749], \"loglift\": [30.0, 29.0, 28.0, 27.0, 26.0, 25.0, 24.0, 23.0, 22.0, 21.0, 20.0, 19.0, 18.0, 17.0, 16.0, 15.0, 14.0, 13.0, 12.0, 11.0, 10.0, 9.0, 8.0, 7.0, 6.0, 5.0, 4.0, 3.0, 2.0, 1.0, 1.6253, 1.625, 1.6247, 1.6235, 1.6233, 1.623, 1.6225, 1.6223, 1.6222, 1.622, 1.622, 1.6219, 1.6218, 1.6217, 1.6217, 1.6216, 1.6215, 1.6212, 1.6208, 1.6208, 1.6208, 1.6206, 1.6205, 1.6201, 1.62, 1.6199, 1.6193, 1.6192, 1.6191, 1.619, 1.614, 1.6114, 1.6172, 1.6176, 1.6147, 1.5999, 1.5474, 1.5682, 1.5585, 1.5375, 1.5646, 1.4694, 1.5289, 1.5433, 1.4666, 1.4852, 1.5088, 1.2722, 1.1818, 1.431, 1.4775, 1.1252, 1.3622, 0.9842, 1.3314, 1.4418, 1.0664, 1.1471, 1.0657, 1.0418, 0.465, 1.1897, 0.6292, 0.8021, 0.9204, -0.2607, 0.9227, 1.0621, 0.7372, 0.3911, 0.7447, 0.1174, 0.2118, 0.1659, 0.2497, 0.8362, 0.2355, -0.5825, 0.3374, -0.7136, 0.1937, 0.3614, -0.5639, 1.749, 1.7488, 1.7475, 1.7473, 1.7463, 1.7461, 1.7457, 1.7445, 1.7444, 1.7444, 1.7442, 1.744, 1.744, 1.7433, 1.7431, 1.7429, 1.7427, 1.7422, 1.742, 1.7415, 1.7411, 1.741, 1.7408, 1.7407, 1.7405, 1.7405, 1.7402, 1.7399, 1.7399, 1.7395, 1.7386, 1.7336, 1.7183, 1.7005, 1.7292, 1.6409, 1.7039, 1.7031, 1.6757, 1.6762, 1.6695, 1.5428, 1.7069, 1.6539, 1.7146, 1.6211, 1.7115, 1.592, 1.6537, 1.6243, 1.3483, 1.4327, 1.3156, 1.2908, 1.218, 1.4953, 1.008, 1.1199, 1.215, 1.1607, 0.7529, 0.4423, 0.7631, 0.8867, -0.2378, 0.641, 0.9229, 0.0788, -0.4015, 0.2201, 0.6318, -0.0416, 0.3894, 1.7544, 1.7541, 1.7539, 1.7531, 1.7525, 1.752, 1.7518, 1.7509, 1.7508, 1.7507, 1.7504, 1.75, 1.7495, 1.7495, 1.7491, 1.7488, 1.7483, 1.748, 1.7474, 1.7473, 1.7467, 1.7466, 1.7465, 1.7465, 1.7464, 1.7462, 1.7462, 1.7461, 1.7459, 1.7458, 1.7427, 1.744, 1.7455, 1.7446, 1.7457, 1.7325, 1.7295, 1.7399, 1.7272, 1.7374, 1.7018, 1.6435, 1.725, 1.7277, 1.6844, 1.6861, 1.6855, 1.7007, 1.6385, 1.6296, 1.358, 1.6519, 1.3166, 1.5558, 1.5987, 1.6573, 1.4803, 1.533, 1.334, 1.5895, 1.2949, 1.5375, 1.0126, 1.2764, 1.1035, 1.2696, 0.5089, 0.4393, 0.6633, -0.0562, 0.7568, 0.5119, 0.6985, 0.4995, 0.6953, 0.4857, 0.5429, -0.1037, 0.5218, 0.4329, 0.6214, 0.0351, 0.2655, 0.7666, 0.0546, 0.5196, 0.1842, 1.8036, 1.8032, 1.8029, 1.8028, 1.8027, 1.8027, 1.8023, 1.8018, 1.8009, 1.8008, 1.8007, 1.8001, 1.8, 1.7998, 1.7997, 1.7988, 1.7985, 1.7983, 1.7979, 1.7972, 1.7959, 1.7958, 1.7956, 1.7954, 1.7951, 1.795, 1.795, 1.7949, 1.7944, 1.7943, 1.7878, 1.7936, 1.7942, 1.7527, 1.788, 1.7921, 1.716, 1.7557, 1.6956, 1.6623, 1.7563, 1.6913, 1.6165, 1.5996, 1.7298, 1.5453, 1.4389, 1.6122, 1.5147, 1.5867, 1.4667, 1.5366, 1.666, 1.0076, 1.1462, 1.4787, 0.6232, 1.0281, 0.963, 1.0846, 1.4597, 1.8778, 1.876, 1.8756, 1.8742, 1.8732, 1.8724, 1.8721, 1.8714, 1.8712, 1.8711, 1.871, 1.8708, 1.8706, 1.8702, 1.87, 1.87, 1.8699, 1.8697, 1.8696, 1.8696, 1.8695, 1.8693, 1.8693, 1.8692, 1.8692, 1.8691, 1.8691, 1.8691, 1.869, 1.8688, 1.8621, 1.8653, 1.8675, 1.8612, 1.8363, 1.7319, 1.7465, 1.8303, 1.5623, 1.6979, 1.3457, 1.5402, 0.8656, 1.659, 1.7386, 1.1843, 1.4747, 0.8369, -0.2764, 0.8005, 0.6635, 0.7624, 1.567, 0.9391, 0.6309, 0.7431, -0.1259, -0.0112, 0.1984, 0.1174, -0.228, 0.6812, -0.8165, -0.0155, -0.1808, 0.3648, -0.115, 1.9445, 1.9444, 1.9436, 1.9435, 1.941, 1.9409, 1.9404, 1.9396, 1.9393, 1.9391, 1.9389, 1.9388, 1.9387, 1.9382, 1.938, 1.9375, 1.9373, 1.9369, 1.9368, 1.9367, 1.9366, 1.9365, 1.9363, 1.9361, 1.936, 1.9356, 1.9356, 1.9355, 1.9355, 1.9345, 1.9342, 1.9284, 1.9338, 1.9167, 1.8679, 1.8504, 1.8583, 1.9117, 1.8557, 1.527, 1.4754, 1.3721, 1.7195, 1.5066, 1.5538, 1.5381, 1.1976, 1.5901, 1.4218, 1.6092, 0.8218, 0.6177, 1.2563, -0.1075, 1.6426, 1.0113, 0.7382, 0.8287, 1.1255, 0.3265, -0.3337, -0.589, 0.301, -0.2609, -0.1408, 0.628, 0.0225, -0.7749]}, \"token.table\": {\"Topic\": [1, 2, 3, 4, 5, 6, 1, 1, 4, 6, 5, 6, 1, 2, 3, 4, 5, 6, 1, 2, 3, 4, 5, 6, 1, 2, 3, 4, 5, 6, 6, 1, 2, 3, 5, 6, 6, 5, 2, 5, 6, 1, 2, 3, 4, 5, 6, 2, 6, 4, 6, 1, 5, 5, 6, 1, 2, 3, 5, 6, 2, 5, 5, 5, 5, 6, 4, 1, 5, 6, 4, 1, 1, 2, 3, 5, 6, 1, 2, 3, 5, 6, 1, 2, 3, 4, 5, 6, 1, 2, 3, 4, 5, 6, 3, 3, 5, 5, 1, 2, 3, 5, 6, 1, 2, 3, 4, 5, 6, 5, 1, 2, 3, 1, 2, 3, 4, 5, 6, 6, 1, 2, 3, 5, 6, 5, 3, 4, 6, 1, 1, 2, 3, 4, 5, 6, 6, 1, 2, 3, 4, 5, 6, 1, 2, 3, 4, 5, 6, 4, 4, 5, 2, 2, 1, 2, 3, 4, 5, 6, 2, 1, 2, 3, 5, 6, 4, 6, 3, 2, 1, 4, 1, 2, 3, 4, 5, 6, 5, 3, 3, 1, 2, 3, 4, 5, 6, 1, 2, 3, 4, 5, 6, 1, 2, 3, 4, 5, 6, 1, 2, 3, 5, 6, 1, 2, 3, 6, 1, 2, 3, 4, 5, 6, 1, 3, 5, 6, 1, 5, 1, 2, 3, 1, 2, 1, 2, 5, 6, 3, 3, 3, 1, 2, 3, 1, 2, 3, 5, 6, 2, 3, 4, 5, 6, 1, 1, 6, 1, 3, 6, 1, 3, 6, 1, 2, 3, 5, 1, 2, 3, 4, 5, 6, 1, 2, 5, 2, 2, 5, 6, 3, 4, 1, 2, 3, 5, 6, 5, 1, 2, 5, 6, 2, 4, 1, 2, 3, 4, 5, 2, 5, 2, 3, 6, 2, 1, 2, 3, 5, 5, 6, 2, 1, 2, 3, 4, 5, 6, 5, 1, 3, 1, 2, 3, 4, 5, 6, 4, 6, 4, 1, 2, 3, 4, 5, 6, 2, 3, 5, 1, 2, 3, 4, 5, 6, 1, 2, 2, 1, 3, 4, 5, 3, 1, 2, 5, 1, 1, 2, 3, 5, 3, 6, 1, 2, 3, 4, 5, 6, 1, 2, 3, 4, 5, 6, 1, 2, 3, 5, 6, 3, 2, 3, 4, 5, 6, 1, 2, 3, 1, 5, 1, 1, 2, 3, 4, 5, 6, 4, 1, 2, 4, 5, 6, 4, 3, 5, 1, 3, 5, 6, 1, 2, 1, 1, 2, 3, 5, 6, 6, 6, 6, 3, 3, 6, 1, 2, 3, 4, 5, 6, 6, 2, 1, 2, 3, 5, 6, 3, 1, 2, 3, 4, 5, 6, 6, 1, 3, 1, 2, 1, 2, 3, 5, 1, 2, 1, 2, 3, 5, 6, 3, 2, 4, 3, 5, 1, 2, 3, 4, 5, 6, 1, 2, 3, 4, 5, 6, 5, 4, 1, 5, 6, 2, 4, 1, 2, 3, 5, 6, 1, 5, 1, 1, 2, 3, 4, 5, 6, 3, 1, 2, 3, 4, 5, 6, 1, 2, 3, 4, 5, 6, 5, 1, 2, 3, 4, 5, 6, 1, 2, 3, 4, 5, 6, 2, 2, 1, 2, 1, 2, 3, 4, 5, 6, 1, 2, 1, 2, 3, 4, 5, 6, 2, 5, 3, 5, 4, 1, 1, 2, 5, 4, 1, 2, 3, 4, 5, 6, 1, 2, 3, 4, 5, 6, 1, 2, 3, 4, 5, 6, 4, 2, 3, 5, 6, 1, 2, 3, 4, 5, 6, 2, 4, 6, 1, 2, 3, 4, 5, 6, 6, 1, 2, 3, 4, 5, 6, 4, 1, 3, 4, 5, 6, 2, 5, 6, 1, 2, 3, 4, 5, 6, 3, 1, 2, 3, 4, 5, 6, 6, 1, 2, 3, 4, 5, 6, 1, 2, 3, 4, 5, 6, 6, 5, 1, 2, 4, 5, 6, 6, 1, 2, 3, 5, 6, 3, 6, 6, 5, 1, 2, 3, 4, 5, 6, 6, 1, 2, 3, 4, 5, 6, 1, 2, 3, 4, 5, 6, 4, 1, 2, 3, 5, 5, 1, 3, 6, 5, 6, 2, 2, 3, 5, 6, 6, 1, 2, 3, 4, 5, 6, 2, 3, 5, 6, 2, 4, 6, 1, 2, 3, 4, 5, 6, 1, 2, 3, 4, 5, 6, 4, 1, 4, 4, 6, 1, 4, 5, 6, 1, 3, 4, 5, 6, 1, 2, 4, 5, 6, 1, 2, 3, 4, 5, 6, 1, 1, 5, 1, 3, 1, 2, 3, 5, 6, 2, 3, 5, 1, 2, 3, 4, 5, 6, 1, 2, 3, 5, 6, 3, 5, 1, 2, 4, 2, 2, 4, 5, 1, 1, 2, 3, 4, 5, 6, 2, 4, 6, 1, 2, 3, 4, 5, 6, 2, 1, 2, 3, 4, 5, 6, 1, 1, 1, 2, 3, 3, 6, 6, 1, 2, 3, 5, 6, 1, 2, 3, 4, 5, 6, 1, 3, 2, 3, 1, 5, 6, 1, 2, 3, 4, 5, 6, 2, 1, 2, 5, 1, 2, 3, 5, 6, 4, 1, 2, 3, 5, 6, 3, 2, 6, 3, 2, 3, 1, 2, 3, 5, 6, 3, 1, 3, 4, 1, 2, 3, 4, 5, 6, 3, 4, 1, 1, 4, 6, 1, 2, 3, 4, 5, 6, 3, 4, 1, 2, 3, 4, 5, 6, 1, 2, 3, 4, 5, 6, 6, 1, 2, 3, 5, 6, 2, 5, 1, 1, 2, 3, 5, 6, 4, 3, 6, 2, 5, 6, 4, 1, 2, 3, 5, 6, 2, 4, 1, 3, 5, 4, 6, 1, 2, 3, 4, 5, 6, 1, 2, 3, 4, 5, 6, 4, 1, 2, 3, 4, 5, 6, 1, 1, 2, 3, 4, 5, 6, 1, 2, 3, 4, 5, 6, 1, 2, 4, 5, 6, 1, 2, 3, 4, 5, 6, 2, 1, 2, 3, 4, 5, 6, 4, 6, 2, 5, 6, 4, 4, 6, 1, 6, 2, 6, 4, 1, 2, 5, 6, 1, 2, 3, 4, 5, 6, 5, 2, 3, 4, 1, 2, 3, 3, 5, 3, 5, 5, 1, 4, 1, 5, 6, 1, 2, 3, 4, 5, 6, 1, 3, 1, 2, 3, 4, 5, 6, 3, 5, 1, 2, 3, 4, 5, 6, 1, 3, 5, 1, 2, 3, 4, 5, 6, 4, 1, 2, 3, 4, 5, 6, 1, 2, 3, 6, 5, 3, 1, 3, 5, 1, 2, 3, 1, 2, 1, 3, 5, 6, 5, 6, 1, 2, 3, 4, 2, 1, 2, 3, 4, 5, 6, 1, 2, 3, 4, 5, 6, 5, 1, 2, 3, 4, 5, 6], \"Freq\": [0.07546732389165559, 0.7260477022679969, 0.06766035935113948, 0.00520464302701073, 0.0962858959996985, 0.03122785816206438, 0.9853247582100327, 0.9856371688482545, 0.9895997097598794, 0.008695955270297711, 0.9913370543781233, 0.9894621813042698, 0.0905502677650987, 0.11250184782936504, 0.6146442417994578, 0.057622897668699165, 0.046647107636565995, 0.07683053022493222, 0.07064715781228458, 0.06692888634848013, 0.4734598997244335, 0.23920879750475305, 0.1350971965182284, 0.016112509676485958, 0.21943200099976382, 0.18764797857082866, 0.17786827936192554, 0.13997194492742593, 0.15097410653744195, 0.12407993371295836, 0.98723461170864, 0.2662892548972273, 0.037657066349102854, 0.10490182768678652, 0.49761123389885914, 0.08876308496574244, 0.9971543293907248, 0.9882016715891923, 0.9951925555223848, 0.08124485701959959, 0.9162614430543731, 0.08067036999728167, 0.022917718749227746, 0.014667339999505757, 0.7480343399747936, 0.020167592499320416, 0.11367188499616962, 0.9954311737794356, 0.9949351318329492, 0.9943091234335569, 0.99904200527027, 0.9949374135027986, 0.9849787026713944, 0.9925826684248278, 0.9936901478361541, 0.09914275673860008, 0.20758014692144391, 0.6103475961720067, 0.0588660118135438, 0.02168747803656877, 0.9853533995270087, 0.9889439821180134, 0.9857878903075276, 0.9936214774334677, 0.9974845514481735, 0.9921156120330448, 0.9935919223064743, 0.8829032028760263, 0.06389431073444928, 0.05227716332818577, 0.9840458422147801, 0.9914804594924916, 0.6966716731709978, 0.03765792827951339, 0.08835129327116603, 0.11152540298163581, 0.06517718356069625, 0.004363967755245199, 0.17019474245456276, 0.026183806531471194, 0.08727935510490398, 0.7156907118602126, 0.23677495743685753, 0.15435329503795142, 0.14536184095807075, 0.001498575679980111, 0.3266894982356642, 0.13487181119820998, 0.0013277393313081787, 0.0021243829300930856, 0.0007966435987849072, 0.9148123992713351, 0.0015932871975698143, 0.07913326414596744, 0.9928407757881943, 0.011222867148977377, 0.9763894419610317, 0.9961959506523039, 0.6135974010107321, 0.1877215793046532, 0.12608165774193125, 0.06724355079569667, 0.005603629232974723, 0.4109197690327937, 0.1349057354937851, 0.18607687654315186, 0.060474984876524356, 0.12715253230448711, 0.07908267253083955, 0.9924611723506175, 0.9880800447608185, 0.01301558148445649, 0.9761686113342368, 0.14553352166191325, 0.2642582367018951, 0.32042906962403706, 0.04085151485246687, 0.11617149536170267, 0.11361827568342349, 0.9907071516682874, 0.6423407253797061, 0.026625522295531858, 0.07654837659965409, 0.16973770463401558, 0.08320475717353705, 0.9926782014527458, 0.9816193589962741, 0.9968884335206856, 0.0022477754983555483, 0.9874376965519515, 0.15430489862169247, 0.09258293917301548, 0.0028055436113034993, 0.0028055436113034993, 0.07294413389389098, 0.6761360103241434, 0.9941103022407356, 0.006644369054348875, 0.10464881260599478, 0.12790410429621585, 0.7209140423968529, 0.029899660744569935, 0.008305461317936092, 0.10907665375726816, 0.11611385722547901, 0.1548184763006387, 0.45038102196549434, 0.06755715329482416, 0.10239131046246785, 0.9963944563954616, 0.998695521209398, 0.9822812607733991, 0.9916007693278602, 0.9916149440096114, 0.15033592684358937, 0.1365675375039537, 0.1624297823446207, 0.3066257517799941, 0.11572889417909973, 0.12819486831093202, 0.9877618582947049, 0.449781034885442, 0.09479689972921872, 0.20774639727892613, 0.16135642507101058, 0.08471212316228056, 0.9840664262639862, 0.016019686008948614, 0.9826207264792487, 0.9922335368438482, 0.9897289883553612, 0.9893089032057212, 0.014460702217585737, 0.021691053326378603, 0.003615175554396434, 0.8929483619359192, 0.034344167766766125, 0.03253657998956791, 0.9926262390095061, 0.9873639757817995, 0.9912936534084136, 0.07075336717646279, 0.16617304584563738, 0.1142439690188757, 0.4595723299168409, 0.08827943060549485, 0.10061258635185076, 0.038224601917576956, 0.08464018996034899, 0.6279756029316215, 0.13924676412831608, 0.09556150479394239, 0.01365164354199177, 0.0011875572621424398, 0.023751145242848798, 0.052648371954981496, 0.8962098804968279, 0.013854834724995132, 0.012271425042138545, 0.23357785227823386, 0.007917893297567249, 0.007917893297567249, 0.05146630643418712, 0.7007335568347016, 0.07012444026000887, 0.05008888590000634, 0.876555503250111, 0.005008888590000634, 0.047698326802549824, 0.17035116715196366, 0.3338882876178488, 0.31514965923113275, 0.10050718861965856, 0.03321847759463291, 0.9008586015677287, 0.0533403119349313, 0.03556020795662087, 0.005926701326103478, 0.9352847043174894, 0.05891557192551115, 0.11697007805382931, 0.8772755854037197, 0.004873753252242888, 0.09301583529445402, 0.904113919062093, 0.0065920215698802125, 0.0065920215698802125, 0.9822112139121517, 0.9875312663137383, 0.9757551412997136, 0.9826777591049803, 0.994862937847162, 0.984722179136677, 0.9942116570425962, 0.9950863193724476, 0.9174775834851604, 0.0029500886928783294, 0.03835115300741828, 0.03835115300741828, 0.0029500886928783294, 0.10467672508171852, 0.7543943290372128, 0.0036095422441971906, 0.09745764059332414, 0.039704964686169096, 0.9923285235910546, 0.025421658410809737, 0.96602301961077, 0.9873650768080308, 0.9914971066305868, 0.9941738642745981, 0.9373848119031363, 0.015119109869405425, 0.04535732960821627, 0.003418229404386872, 0.9502677744195505, 0.03760052344825559, 0.006836458808773744, 0.06595557408981799, 0.8100369050836869, 0.06595557408981799, 0.008324489933666348, 0.039061068150280556, 0.00960518069269194, 0.005518132300701322, 0.9049736973150168, 0.08829011681122115, 0.984908663463531, 0.010642426642023936, 0.2500970260875625, 0.7396486516206636, 0.9806395994756023, 0.9974569448099099, 0.1708423891327157, 0.583142021573003, 0.16628659208917662, 0.04555797043539086, 0.03416847782654314, 0.9923427709467724, 0.059733283630755626, 0.14147356649389492, 0.7262309746686605, 0.06916485473034863, 0.9572360570669708, 0.033587230072525294, 0.03964318611586907, 0.0594647791738036, 0.8886680887640649, 0.003303598842989089, 0.006607197685978178, 0.33010725282427883, 0.6654543033124352, 0.0273520521896173, 0.9682626475124525, 0.9831709620673205, 0.9844944345237981, 0.050430409144801625, 0.02941773866780095, 0.8152916145076262, 0.10086081828960325, 0.9916672828509752, 0.9868533796980432, 0.9838003463392884, 0.14802876369547854, 0.42099923619814994, 0.22408023862159596, 0.010864496418016774, 0.10321271597115934, 0.09234821955314257, 0.9936470425958382, 0.012175562215126785, 0.9862205394252695, 0.43580633958491816, 0.048902361537581575, 0.13807725610611268, 0.27471620746112, 0.06903862805305634, 0.03308100927542283, 0.20076258103767655, 0.7981536758327141, 0.9971158961806134, 0.14895378277413077, 0.371877811415687, 0.29588098346970193, 0.04863796988543045, 0.0871430293780629, 0.047624678846150646, 0.03490075307738021, 0.8824904706708997, 0.07977314989115478, 0.19673308971144113, 0.3290972883191388, 0.22393121271302285, 0.04079718450237258, 0.1504962806087522, 0.058929266503427065, 0.9158422608883606, 0.07809507650986021, 0.9896701684591114, 0.05855386348623546, 0.9295425828439879, 0.007319232935779432, 0.007319232935779432, 0.9893541211092182, 0.06562646404485602, 0.7711109525270582, 0.15996450610933655, 0.9858924006804431, 0.006242598181769154, 0.36831329272438007, 0.03745558909061492, 0.5852435795408581, 0.9916240440665843, 0.9945770772376101, 0.288409353299139, 0.06346612509925344, 0.11327498277208525, 0.1654939464613444, 0.17111752716634154, 0.19762869334704236, 0.010524511141390134, 0.553589286037121, 0.10945491587045739, 0.0021049022282780268, 0.2294343428823049, 0.0947206002725112, 0.2503047279923291, 0.13745547774494005, 0.10097038180029547, 0.1858194421366782, 0.3249719010883459, 0.9963607617267056, 0.05086826677033287, 0.8478044461722145, 0.011304059282296193, 0.05086826677033287, 0.03391217784688858, 0.0062524471423644, 0.1500587314167456, 0.844080364219194, 0.977249417720896, 0.9930705935889952, 0.9906641081541548, 0.09835713185999559, 0.0469087859639979, 0.031776919523998574, 0.155858224331993, 0.33895380825598476, 0.3268483151039853, 0.9941313487599671, 0.0037519134185067145, 0.0012506378061689048, 0.9492340948821988, 0.0025012756123378097, 0.04377232321591167, 0.9924235568201633, 0.9669459368890213, 0.03296406603030754, 0.009823221152804144, 0.9823221152804144, 0.9880864313458356, 0.9983940866379035, 0.019408652555399735, 0.9801369540476865, 0.9945897076876817, 0.5671112478228957, 0.005048468081509458, 0.13630863820075534, 0.1901589644035229, 0.10096936163018914, 0.9920719424905561, 0.9928235627040531, 0.9959240245928807, 0.9883479239979701, 0.9781447222898612, 0.9977228987225607, 0.049237711071654505, 0.0007693392354946016, 0.014617445474397433, 0.828578356627686, 0.047699032600665305, 0.05923912113308433, 0.9890122860135295, 0.9859177936489544, 0.7409583247238922, 0.008010360267285322, 0.10813986360835184, 0.10413468347470918, 0.03604662120278395, 0.98935532774705, 0.005120535614110963, 0.07339434380225715, 0.005120535614110963, 0.7083407599520166, 0.1160654739198485, 0.09046279584929369, 0.9893810022967072, 0.9893435165372293, 0.00867845189944938, 0.9907552012063872, 0.9910903921693989, 0.9884393132711575, 0.004249090823064812, 0.9900381617741013, 0.004249090823064812, 0.9873329357818486, 0.9869587442712466, 0.5530026926052085, 0.08891415841887666, 0.08891415841887666, 0.19951469693991836, 0.06939641632692813, 0.9908988045159923, 0.9531895251598164, 0.045987213933149036, 0.9941385741489173, 0.98287579131708, 0.035245627100635404, 0.11454828807706506, 0.652044101361755, 0.02643422032547655, 0.160808173646649, 0.011014258468948563, 0.1399823578194976, 0.36788046475733827, 0.27911116467668123, 0.025606528869420296, 0.11779003279933335, 0.06913762794743479, 0.9920482500235484, 0.9917268094295917, 0.011032134580489166, 0.07722494206342417, 0.9156671701806008, 0.9669793119251829, 0.030218103497661967, 0.5672337140063324, 0.0663297488152566, 0.17382968655032766, 0.1257977994772108, 0.0663297488152566, 0.9775553187423897, 0.01339116874989575, 0.9812508922385487, 0.12897034721938888, 0.26637800687369106, 0.36642042574480577, 0.021695946261205606, 0.16513025765473155, 0.05062387460947975, 0.9781457886362099, 0.022552782651754217, 0.028190978314692774, 0.06483925012379338, 0.06765834795526265, 0.22270872868607292, 0.5920105446085482, 0.16530247452600835, 0.22993201343843267, 0.16778822602264004, 0.07332966915063528, 0.06587241466074018, 0.29829017959580456, 0.9933637318935884, 0.28068344204382856, 0.24829689103877142, 0.1883217965849619, 0.04438156989581905, 0.1475387323563714, 0.09116214356979047, 0.07598487535687103, 0.16396736261219536, 0.5178969136165683, 0.023995223796906637, 0.12797452691683542, 0.0899820892383999, 0.99360808665576, 0.9949065528679659, 0.025069204322660823, 0.9609861657019982, 0.03533530348369703, 0.8939211863770372, 0.03223571545881133, 0.0006199176049771409, 0.03657513869365131, 0.0012398352099542817, 0.00865501426833175, 0.9866716265898194, 0.11080111740290223, 0.5314991100420466, 0.0657881634579732, 0.005193802378261042, 0.15408280388841092, 0.13330759437536674, 0.9756613300244439, 0.010721553077191692, 0.995208888081595, 0.9833639245619924, 0.991416501933998, 0.9883873665524848, 0.9820481033212686, 0.9928311764321993, 0.9828568566070365, 0.9897605638281652, 0.2307534261882605, 0.1414295192766758, 0.1816252773868889, 0.0037218294546493627, 0.36250618888284797, 0.07964715032949636, 0.09573298735803334, 0.037460734183578266, 0.06763743672034965, 0.693370441046046, 0.039888744732513894, 0.06590314347110991, 0.23708286453722907, 0.12735856359437925, 0.13911473869539887, 0.30076214633441867, 0.09502908206657529, 0.1009071696170851, 0.9950883878420255, 0.9892001860348514, 0.9648619159626222, 0.02353321746250298, 0.01176660873125149, 0.048094762645477504, 0.013873489224656971, 0.04347026623725851, 0.8139113678465424, 0.022197582759451155, 0.05734375546191548, 0.9875058370925675, 0.8698117423842204, 0.12783175766669053, 0.05839664912256855, 0.03737385543844387, 0.03270212350863839, 0.20789207087634404, 0.021022793684124675, 0.6446990063131568, 0.9856903327874238, 0.4906548570918105, 0.1622165037732108, 0.090120279874006, 0.0020026728860890225, 0.11014700873489623, 0.14619512068449864, 0.9866436177062704, 0.8250406843027381, 0.012406626831620122, 0.06823644757391067, 0.06203313415810061, 0.024813253663240244, 0.006534746982371536, 0.8756560956377858, 0.11762544568268764, 0.31063379434232224, 0.1195966567655278, 0.28576192324506644, 0.05238968592826218, 0.12118422300577818, 0.11007125932402559, 0.98431745140569, 0.0470856554032264, 0.044231979318182374, 0.02710992280791823, 0.26253819982405024, 0.35242899650293696, 0.26681871395161627, 0.9917663416173126, 0.11122595898527356, 0.26962364164733726, 0.26664437488880316, 0.13605318197305782, 0.13456354859379077, 0.0824263803194438, 0.04263407228567576, 0.645072050235442, 0.079707178621046, 0.06673159140366641, 0.09824373178873111, 0.06858524672043492, 0.9887275442004609, 0.9945590881891344, 0.8523764576438784, 0.013215138878199665, 0.039645416634598994, 0.006607569439099833, 0.08589840270829782, 0.9944292564604507, 0.4896731402224714, 0.1447212114827547, 0.176440929068016, 0.09317667040670509, 0.09515915275578392, 0.9814896518346217, 0.008388800443030954, 0.9893563864640842, 0.9939757765852851, 0.03676557118374066, 0.11729967949098209, 0.11554893800604206, 0.008753707424700156, 0.06302669345784112, 0.6565280568525117, 0.9911155078801058, 0.08165007539770956, 0.07320351587380856, 0.06475695634990758, 0.047863837302105604, 0.07038799603250824, 0.6644626825468778, 0.002625283063252271, 0.049880378201793155, 0.014876604025096203, 0.7132018988502004, 0.027127924986940135, 0.1925207579718332, 0.9872397851390698, 0.07287973686344025, 0.11772880570248041, 0.8016771054978429, 0.011212267209760039, 0.9905428212547144, 0.0077294984370165735, 0.9043513171309391, 0.0850244828071823, 0.949678484046021, 0.04268217905824813, 0.9948252845795721, 0.010319234192680707, 0.9803272483046671, 0.8681210839563317, 0.12660099141029837, 0.9945311478537121, 0.043103967738680964, 0.2682024659295704, 0.059866621859279115, 0.09099726522610425, 0.09818125984921774, 0.4406183368842943, 0.9951612478718614, 0.01044885359990791, 0.015673280399861867, 0.9717433847914356, 0.0016956565394077232, 0.9512633186077326, 0.04578272656400852, 0.24005582373047604, 0.07836019116590669, 0.13308794372622246, 0.13184413116803348, 0.29602738884898083, 0.11940600558614352, 0.054426296196520105, 0.1632788885895603, 0.6407025394362279, 0.028645419050800053, 0.11267198159981355, 0.0009548473016933351, 0.9934873684070614, 0.9674183663225592, 0.023595569910306324, 0.9974608269114208, 0.0015090178924529814, 0.002868902558995027, 0.7645625319721747, 0.1793064099371892, 0.051640246061910484, 0.09333659454557142, 0.020222928818207142, 0.8042503230010071, 0.037334637818228565, 0.04511268736369285, 0.8472065202987424, 0.06383062824168607, 0.0029013921928039126, 0.005802784385607825, 0.08123898139850955, 0.04061968182024061, 0.0012125278155295704, 0.0060626390776478516, 0.8669573881036429, 0.024250556310591406, 0.06062639077647852, 0.9929640122992446, 0.038430153860749286, 0.9530678157465823, 0.9809144224037366, 0.012110054597576995, 0.24284486161753283, 0.05190577194878564, 0.2576750821743287, 0.3207035195407113, 0.12420309716316563, 0.005947544686150069, 0.16058370652605186, 0.8326562560610097, 0.05229143781914206, 0.004753767074467461, 0.03961472562056217, 0.8239862929076931, 0.011092123173757407, 0.06813732806736693, 0.128882547067505, 0.11948486134383275, 0.08994927764086286, 0.09800443683258192, 0.5625186168883812, 0.9405944597551441, 0.05267328974628807, 0.007702325197671881, 0.9242790237206256, 0.06161860158137505, 0.9809859169385279, 0.24720582618316678, 0.019516249435513167, 0.7286066455924916, 0.9890085847255461, 0.23593661927738607, 0.5848569717298584, 0.10966068219934845, 0.003323050975737832, 0.04486118817246073, 0.01993830585442699, 0.9903273778413054, 0.9526693480833158, 0.04366401178715197, 0.17253646955678117, 0.1597874693432259, 0.28302780474092676, 0.11304113522685663, 0.1359893356112561, 0.1359893356112561, 0.987132252856125, 0.6363520507160239, 0.13426744606489655, 0.10873772040466975, 0.0018910907896464303, 0.03593072500328218, 0.08320799474444293, 0.9883746822427684, 0.9888210981631969, 0.0049510115981326415, 0.024755057990663208, 0.9703982732339977, 0.9809454657202987, 0.9985175833020677, 0.9920867358187486, 0.564124898447953, 0.06572328913956733, 0.04381552609304489, 0.12870810789831938, 0.19716986741870202, 0.2880278484457747, 0.14878259721040019, 0.18311704272049253, 0.015259753560041044, 0.3013801328108106, 0.06676142182517956, 0.9943006355708621, 0.9827273155040814, 0.011132436610981532, 0.9796544217663747, 0.1880341777668119, 0.8027612973890815, 0.007232083760261995, 0.1347680798989376, 0.09300895654997102, 0.13286993792853002, 0.17842534521831177, 0.06833311093467259, 0.39291538787436736, 0.9859557407140859, 0.0504740256813603, 0.9253571374916055, 0.021030844033900126, 0.1401125840216916, 0.08268939384886718, 0.02526620367604275, 0.2503651091535145, 0.500730218307029, 0.9961540669216201, 0.9932616963603349, 0.8497657610718232, 0.00317076776519337, 0.02219537435635359, 0.12365994284254143, 0.9863816749187853, 0.07252546950292829, 0.9253249557270161, 0.9861775614388071, 0.9194512081928664, 0.07630300482928352, 0.2645608237267958, 0.6291131398857664, 0.058328370585435295, 0.029164185292717647, 0.0166652487386958, 0.9831560847180084, 0.9860011482022262, 0.9930103147759178, 0.9967177927623947, 0.06531393218947247, 0.256072083346027, 0.13373805162606267, 0.006220374494235474, 0.06635066127184505, 0.472748461561896, 0.00715493066237781, 0.9873804314081378, 0.9901510773884666, 0.007320875244584176, 0.9809972827742796, 0.007320875244584176, 0.11799071426840128, 0.06427136468278768, 0.11031652147045648, 0.4863519685697516, 0.06427136468278768, 0.15636167825812528, 0.005721946458391293, 0.9898967373016937, 0.12659264735784137, 0.6663696298419706, 0.1107685664381112, 0.008791156066516762, 0.033406393052763696, 0.054505167612403926, 0.10608328944016523, 0.435936017543179, 0.2602355694079054, 0.0016575513975025818, 0.12431635481269364, 0.0729322614901136, 0.9829703798543729, 0.6010707315665914, 0.06295503921645097, 0.14839402101020585, 0.047965744164915024, 0.13940044397928428, 0.9536882018922433, 0.036400313049322265, 0.9912781584456976, 0.40762027269351203, 0.08454346396606176, 0.10265992053021784, 0.2868438955991381, 0.11775696766701459, 0.9971327628966284, 0.9679591072910882, 0.03082672316213657, 0.07974064395975061, 0.009272167902296582, 0.9086724544250651, 0.9973792032151565, 0.8443067643283657, 0.08867148666462288, 0.05011866637565641, 0.007710564057793294, 0.003855282028896647, 0.9522614861643124, 0.04614482972602395, 0.8143964436630828, 0.09396882042266341, 0.08352784037570081, 0.9933729601619443, 0.006622486401079629, 0.03680312567746575, 0.07827966413937158, 0.03797147887357577, 0.5175804658767406, 0.06484360238410632, 0.26463199891892036, 0.11516156969486176, 0.025425281620943506, 0.025425281620943506, 0.1286220129059495, 0.08076265926652643, 0.6236672021137318, 0.9908098601454516, 0.3049768092289931, 0.1702196144533915, 0.2042635373440698, 0.0340439228906783, 0.21986700200229736, 0.06666934899424501, 0.9859795246620295, 0.12319617760422474, 0.37301064885723606, 0.36958853281267423, 0.0017110580222808992, 0.11977406155966296, 0.010266348133685396, 0.121871664381956, 0.4748792439710699, 0.28997051180534356, 0.004202471185584689, 0.07669509913692059, 0.033619769484677514, 0.08031529685384654, 0.1058701640346159, 0.04380834373846175, 0.7118855857500035, 0.05841112498461567, 0.24114172071273177, 0.21571783322544696, 0.2865965498566652, 0.052388616640465686, 0.1271194374364241, 0.07627166246185446, 0.9899074154142363, 0.12745301398463402, 0.12261302611179983, 0.10647973320235248, 0.43075892068224414, 0.11696637359349325, 0.09599309281121171, 0.9947335334989932, 0.0026526227559973154, 0.8761834582588335, 0.01684968188959295, 0.1044680277154763, 0.9911725689140664, 0.9985355540238812, 0.0007485274018170023, 0.9771243596054953, 0.008571266312328905, 0.008779408942648283, 0.9832938015766077, 0.9913144150419033, 0.9255885128216899, 0.008452863130791688, 0.04226431565395844, 0.02113215782697922, 0.07126743603032458, 0.1242364763231334, 0.6683729811492602, 0.003852293839477004, 0.11749496210404863, 0.014446101898038766, 0.9959695126826398, 0.0892252428252196, 0.8991159084695206, 0.0068634802173245845, 0.0284785249946463, 0.1708711499678778, 0.7973986998500965, 0.014104345704123002, 0.9826027507205691, 0.9843836966876766, 0.9838795490804072, 0.9892987804786689, 0.0665204636141994, 0.9275909092868916, 0.9091197245212301, 0.005611850151365618, 0.08417775227048427, 0.04333464105819837, 0.01625049039682439, 0.0023214986281177696, 0.7715113774111387, 0.020893487653059928, 0.1462544135714195, 0.9748998413671646, 0.012661036900872268, 0.5222862198089925, 0.09556323949403665, 0.20626520999702963, 0.02554660857761376, 0.11164814119105274, 0.037846827522390755, 0.9375561561088873, 0.05357463749193642, 0.1571363054418594, 0.1813111216636839, 0.1861460849080488, 0.0024174816221824522, 0.3892145411713748, 0.08461185677638582, 0.8624054798213366, 0.05749369865475577, 0.0766582648730077, 0.06956238464074949, 0.20746676120925286, 0.3441507450647606, 0.19892401221828362, 0.10861495145660885, 0.06956238464074949, 0.9870873804646335, 0.21579010841604107, 0.3256709611677675, 0.28860272168525736, 0.001323865695803933, 0.13900589805941296, 0.029125045307686524, 0.03033636842539054, 0.03033636842539054, 0.9252592369744115, 0.007584092106347635, 0.9956836367025909, 0.9859706720665276, 0.005427531491837095, 0.13026075580409027, 0.8629775072020981, 0.002324528738337109, 0.9960605643774512, 0.0011622643691685545, 0.003963408806994944, 0.9948156105557309, 0.7604724978146943, 0.08311174839504855, 0.12466762259257283, 0.024933524518514567, 0.010207460447678498, 0.9901236634248144, 0.019907521960623856, 0.03981504392124771, 0.9290176914957798, 0.01327168130708257, 0.9962266302200745, 0.36633397512557936, 0.18268623431459338, 0.18941677978934157, 0.0019230129927851937, 0.13461090949496354, 0.12499584453103758, 0.24711297420152104, 0.09036220698413829, 0.26463217759640495, 0.23143789747978274, 0.11802410708132348, 0.0488693568383605, 0.9962660218005369, 0.27314125490532926, 0.1876458214593522, 0.3453127246973878, 0.029978918221316625, 0.11103303044932084, 0.05218552431118079], \"Term\": [\"able\", \"able\", \"able\", \"able\", \"able\", \"able\", \"academic\", \"accelerate\", \"active\", \"active\", \"aged\", \"agedcare\", \"america\", \"america\", \"america\", \"america\", \"america\", \"america\", \"american\", \"american\", \"american\", \"american\", \"american\", \"american\", \"amp\", \"amp\", \"amp\", \"amp\", \"amp\", \"amp\", \"archive\", \"article\", \"article\", \"article\", \"article\", \"article\", \"artist\", \"attempt\", \"auckland\", \"aug\", \"aug\", \"august\", \"august\", \"august\", \"august\", \"august\", \"august\", \"auspol\", \"authorize\", \"average\", \"backhand\", \"backtoschool\", \"bbnaija\", \"bbnaijalockdown\", \"bed\", \"believe\", \"believe\", \"believe\", \"believe\", \"believe\", \"berlin\", \"bet\", \"bidenharris\", \"blacklivesmatter\", \"blood\", \"bot\", \"brazil\", \"build\", \"build\", \"build\", \"bulletin\", \"bullshit\", \"business\", \"business\", \"business\", \"business\", \"business\", \"car\", \"car\", \"car\", \"car\", \"car\", \"care\", \"care\", \"care\", \"care\", \"care\", \"care\", \"case\", \"case\", \"case\", \"case\", \"case\", \"case\", \"cat\", \"cell\", \"cell\", \"ceo\", \"challenge\", \"challenge\", \"challenge\", \"challenge\", \"challenge\", \"child\", \"child\", \"child\", \"child\", \"child\", \"child\", \"clap\", \"classroom\", \"climatechange\", \"climatechange\", \"come\", \"come\", \"come\", \"come\", \"come\", \"come\", \"commission\", \"company\", \"company\", \"company\", \"company\", \"company\", \"component\", \"concert\", \"confirm\", \"confirm\", \"conspiracy\", \"contact\", \"contact\", \"contact\", \"contact\", \"contact\", \"contact\", \"copy\", \"corona\", \"corona\", \"corona\", \"corona\", \"corona\", \"corona\", \"coronavirus\", \"coronavirus\", \"coronavirus\", \"coronavirus\", \"coronavirus\", \"coronavirus\", \"coronaviruspandemic\", \"coronavirusupdate\", \"corrupt\", \"cough\", \"covering\", \"covid\", \"covid\", \"covid\", \"covid\", \"covid\", \"covid\", \"crazy\", \"crisis\", \"crisis\", \"crisis\", \"crisis\", \"crisis\", \"cross\", \"cross\", \"cruise\", \"cry\", \"culture\", \"cumulative\", \"daily\", \"daily\", \"daily\", \"daily\", \"daily\", \"daily\", \"damage\", \"dance\", \"danielandrewsmp\", \"day\", \"day\", \"day\", \"day\", \"day\", \"day\", \"dead\", \"dead\", \"dead\", \"dead\", \"dead\", \"dead\", \"death\", \"death\", \"death\", \"death\", \"death\", \"death\", \"deliver\", \"deliver\", \"deliver\", \"deliver\", \"deliver\", \"democrat\", \"democrat\", \"democrat\", \"democrat\", \"die\", \"die\", \"die\", \"die\", \"die\", \"die\", \"digital\", \"digital\", \"digital\", \"digital\", \"discussion\", \"discussion\", \"distance\", \"distance\", \"distance\", \"distancing\", \"distancing\", \"donate\", \"donate\", \"donate\", \"donation\", \"dose\", \"doubt\", \"dream\", \"drrpnishank\", \"earlyvot\", \"edt\", \"education\", \"education\", \"education\", \"education\", \"education\", \"election\", \"election\", \"election\", \"election\", \"election\", \"english\", \"envelope\", \"envelope\", \"environment\", \"episode\", \"europeafrica\", \"exam\", \"exam\", \"exam\", \"eye\", \"eye\", \"eye\", \"eye\", \"face\", \"face\", \"face\", \"face\", \"face\", \"face\", \"facemask\", \"facemask\", \"facemask\", \"facepalm\", \"facility\", \"facility\", \"facility\", \"faith\", \"fatality\", \"feel\", \"feel\", \"feel\", \"feel\", \"feel\", \"finance\", \"fire\", \"fire\", \"fire\", \"fire\", \"floor\", \"floor\", \"flu\", \"flu\", \"flu\", \"flu\", \"flu\", \"fold\", \"fold\", \"football\", \"football\", \"fordnation\", \"fucking\", \"game\", \"game\", \"game\", \"game\", \"ganesh\", \"ganeshchaturthi\", \"gathering\", \"get\", \"get\", \"get\", \"get\", \"get\", \"get\", \"gift\", \"glad\", \"glad\", \"global\", \"global\", \"global\", \"global\", \"global\", \"global\", \"globe\", \"globe\", \"gmt\", \"go\", \"go\", \"go\", \"go\", \"go\", \"go\", \"god\", \"god\", \"god\", \"good\", \"good\", \"good\", \"good\", \"good\", \"good\", \"grant\", \"grant\", \"grin\", \"guess\", \"guess\", \"guess\", \"guess\", \"guest\", \"guy\", \"guy\", \"guy\", \"hall\", \"hand\", \"hand\", \"hand\", \"hand\", \"handling\", \"hashtag\", \"health\", \"health\", \"health\", \"health\", \"health\", \"health\", \"heart\", \"heart\", \"heart\", \"heart\", \"heart\", \"heart\", \"help\", \"help\", \"help\", \"help\", \"help\", \"hide\", \"history\", \"history\", \"history\", \"history\", \"history\", \"hoax\", \"hoax\", \"hoax\", \"homeless\", \"hong\", \"hopkins\", \"hospital\", \"hospital\", \"hospital\", \"hospital\", \"hospital\", \"hospital\", \"hospitalization\", \"hour\", \"hour\", \"hour\", \"hour\", \"hour\", \"hr\", \"hundred\", \"hundred\", \"hurt\", \"hurt\", \"hyderabad\", \"identify\", \"idiot\", \"idiot\", \"image\", \"impact\", \"impact\", \"impact\", \"impact\", \"impact\", \"import\", \"impose\", \"incoming\", \"incompetence\", \"incompetent\", \"index\", \"india\", \"india\", \"india\", \"india\", \"india\", \"india\", \"indonesia\", \"indoor\", \"industry\", \"industry\", \"industry\", \"industry\", \"industry\", \"inequality\", \"infection\", \"infection\", \"infection\", \"infection\", \"infection\", \"infection\", \"initiative\", \"innovation\", \"innovation\", \"inperson\", \"insider\", \"israeli\", \"joebiden\", \"joebiden\", \"joebiden\", \"johns\", \"johnson\", \"join\", \"join\", \"join\", \"join\", \"join\", \"jordan\", \"joy\", \"joy\", \"kamalaharris\", \"keycap\", \"kill\", \"kill\", \"kill\", \"kill\", \"kill\", \"kill\", \"know\", \"know\", \"know\", \"know\", \"know\", \"know\", \"kong\", \"korea\", \"lab\", \"lab\", \"lab\", \"laugh\", \"laugh\", \"learn\", \"learn\", \"learn\", \"learn\", \"learn\", \"learning\", \"learning\", \"lebanon\", \"life\", \"life\", \"life\", \"life\", \"life\", \"life\", \"lifestyle\", \"link\", \"link\", \"link\", \"link\", \"link\", \"link\", \"lockdown\", \"lockdown\", \"lockdown\", \"lockdown\", \"lockdown\", \"lockdown\", \"longterm\", \"look\", \"look\", \"look\", \"look\", \"look\", \"look\", \"lose\", \"lose\", \"lose\", \"lose\", \"lose\", \"lose\", \"luck\", \"maga\", \"mandatory\", \"mandatory\", \"mask\", \"mask\", \"mask\", \"mask\", \"mask\", \"mask\", \"maskup\", \"maskup\", \"medical\", \"medical\", \"medical\", \"medical\", \"medical\", \"medical\", \"mediumlight\", \"mediumlight\", \"mentalhealth\", \"michael\", \"mike\", \"milestone\", \"min\", \"mouth\", \"narrative\", \"ncov\", \"need\", \"need\", \"need\", \"need\", \"need\", \"need\", \"new\", \"new\", \"new\", \"new\", \"new\", \"new\", \"news\", \"news\", \"news\", \"news\", \"news\", \"news\", \"newzealand\", \"nose\", \"november\", \"november\", \"november\", \"number\", \"number\", \"number\", \"number\", \"number\", \"number\", \"nygovcuomo\", \"odisha\", \"odisha\", \"official\", \"official\", \"official\", \"official\", \"official\", \"official\", \"ontario\", \"open\", \"open\", \"open\", \"open\", \"open\", \"open\", \"orange\", \"organization\", \"organization\", \"organization\", \"organization\", \"organization\", \"page\", \"page\", \"page\", \"pandemic\", \"pandemic\", \"pandemic\", \"pandemic\", \"pandemic\", \"pandemic\", \"panic\", \"patient\", \"patient\", \"patient\", \"patient\", \"patient\", \"patient\", \"pen\", \"people\", \"people\", \"people\", \"people\", \"people\", \"people\", \"person\", \"person\", \"person\", \"person\", \"person\", \"person\", \"personnel\", \"petition\", \"phase\", \"phase\", \"phase\", \"phase\", \"phase\", \"photography\", \"plan\", \"plan\", \"plan\", \"plan\", \"plan\", \"plandemic\", \"plandemic\", \"plant\", \"plasma\", \"point\", \"point\", \"point\", \"point\", \"point\", \"point\", \"pointing\", \"police\", \"police\", \"police\", \"police\", \"police\", \"police\", \"positive\", \"positive\", \"positive\", \"positive\", \"positive\", \"positive\", \"positivity\", \"potus\", \"potus\", \"potus\", \"potus\", \"poverty\", \"prayer\", \"prayer\", \"prayer\", \"produce\", \"produce\", \"projectlincoln\", \"promise\", \"promise\", \"promote\", \"promote\", \"property\", \"quarantine\", \"quarantine\", \"quarantine\", \"quarantine\", \"quarantine\", \"quarantine\", \"queensland\", \"rapid\", \"rapid\", \"rapid\", \"rate\", \"rate\", \"rate\", \"read\", \"read\", \"read\", \"read\", \"read\", \"read\", \"realdonaldtrump\", \"realdonaldtrump\", \"realdonaldtrump\", \"realdonaldtrump\", \"realdonaldtrump\", \"realdonaldtrump\", \"realdonaldtrumps\", \"recession\", \"recession\", \"record\", \"record\", \"recover\", \"recover\", \"recover\", \"recover\", \"recovery\", \"recovery\", \"recovery\", \"recovery\", \"recovery\", \"reopen\", \"reopen\", \"reopen\", \"reopen\", \"reopen\", \"report\", \"report\", \"report\", \"report\", \"report\", \"report\", \"reporting\", \"request\", \"request\", \"resilience\", \"resilience\", \"response\", \"response\", \"response\", \"response\", \"response\", \"retweet\", \"retweet\", \"retweet\", \"rise\", \"rise\", \"rise\", \"rise\", \"rise\", \"rise\", \"risk\", \"risk\", \"risk\", \"risk\", \"risk\", \"robert\", \"robert\", \"roll\", \"roll\", \"roll\", \"rush\", \"russian\", \"russian\", \"russian\", \"russias\", \"safe\", \"safe\", \"safe\", \"safe\", \"safe\", \"safe\", \"saliva\", \"sample\", \"sample\", \"say\", \"say\", \"say\", \"say\", \"say\", \"say\", \"scare\", \"school\", \"school\", \"school\", \"school\", \"school\", \"school\", \"schoolsreopen\", \"scientific\", \"season\", \"season\", \"season\", \"secure\", \"selfreport\", \"sept\", \"service\", \"service\", \"service\", \"service\", \"service\", \"share\", \"share\", \"share\", \"share\", \"share\", \"share\", \"shield\", \"ship\", \"shock\", \"shock\", \"short\", \"short\", \"short\", \"show\", \"show\", \"show\", \"show\", \"show\", \"show\", \"shrug\", \"sick\", \"sick\", \"sick\", \"sign\", \"sign\", \"sign\", \"sign\", \"sign\", \"singleday\", \"skill\", \"skin\", \"skin\", \"skin\", \"skin\", \"sleep\", \"slow\", \"slow\", \"smartphone\", \"smile\", \"smile\", \"social\", \"social\", \"social\", \"social\", \"social\", \"sorry\", \"southafrica\", \"speech\", \"spike\", \"spread\", \"spread\", \"spread\", \"spread\", \"spread\", \"spread\", \"square\", \"square\", \"startup\", \"stat\", \"stat\", \"stat\", \"state\", \"state\", \"state\", \"state\", \"state\", \"state\", \"statistic\", \"statistic\", \"stay\", \"stay\", \"stay\", \"stay\", \"stay\", \"stay\", \"stop\", \"stop\", \"stop\", \"stop\", \"stop\", \"stop\", \"strain\", \"student\", \"student\", \"student\", \"student\", \"student\", \"stupid\", \"stupid\", \"style\", \"support\", \"support\", \"support\", \"support\", \"support\", \"surpass\", \"survive\", \"survive\", \"symptom\", \"symptom\", \"symptom\", \"tally\", \"teacher\", \"teacher\", \"teacher\", \"teacher\", \"teacher\", \"tear\", \"tear\", \"technology\", \"technology\", \"technology\", \"telangana\", \"telangana\", \"test\", \"test\", \"test\", \"test\", \"test\", \"test\", \"testing\", \"testing\", \"testing\", \"testing\", \"testing\", \"testing\", \"thailand\", \"thank\", \"thank\", \"thank\", \"thank\", \"thank\", \"thank\", \"theory\", \"thing\", \"thing\", \"thing\", \"thing\", \"thing\", \"thing\", \"think\", \"think\", \"think\", \"think\", \"think\", \"think\", \"thread\", \"thread\", \"thread\", \"thread\", \"thread\", \"time\", \"time\", \"time\", \"time\", \"time\", \"time\", \"tired\", \"today\", \"today\", \"today\", \"today\", \"today\", \"today\", \"toll\", \"toll\", \"tone\", \"tone\", \"tone\", \"top\", \"total\", \"total\", \"tough\", \"tough\", \"tracing\", \"tracing\", \"tracker\", \"trial\", \"trial\", \"trial\", \"trial\", \"trump\", \"trump\", \"trump\", \"trump\", \"trump\", \"trump\", \"trumps\", \"trumpvirus\", \"trumpvirus\", \"trumpvirus\", \"truth\", \"truth\", \"truth\", \"type\", \"type\", \"uncertainty\", \"unemployed\", \"unit\", \"united\", \"united\", \"university\", \"university\", \"university\", \"update\", \"update\", \"update\", \"update\", \"update\", \"update\", \"vaccination\", \"vaccination\", \"vaccine\", \"vaccine\", \"vaccine\", \"vaccine\", \"vaccine\", \"vaccine\", \"victim\", \"victim\", \"video\", \"video\", \"video\", \"video\", \"video\", \"video\", \"virtual\", \"virtual\", \"virtual\", \"virus\", \"virus\", \"virus\", \"virus\", \"virus\", \"virus\", \"voting\", \"want\", \"want\", \"want\", \"want\", \"want\", \"want\", \"war\", \"war\", \"war\", \"war\", \"wash\", \"waste\", \"water\", \"water\", \"water\", \"wear\", \"wear\", \"wear\", \"wearamask\", \"wearamask\", \"webinar\", \"webinar\", \"webinar\", \"webinar\", \"wednesday\", \"wednesday\", \"whitehouse\", \"whitehouse\", \"whitehouse\", \"whitehouse\", \"willing\", \"work\", \"work\", \"work\", \"work\", \"work\", \"work\", \"world\", \"world\", \"world\", \"world\", \"world\", \"world\", \"wuhan\", \"year\", \"year\", \"year\", \"year\", \"year\", \"year\"]}, \"R\": 30, \"lambda.step\": 0.01, \"plot.opts\": {\"xlab\": \"PC1\", \"ylab\": \"PC2\"}, \"topic.order\": [6, 2, 3, 1, 4, 5]};\n",
       "\n",
       "function LDAvis_load_lib(url, callback){\n",
       "  var s = document.createElement('script');\n",
       "  s.src = url;\n",
       "  s.async = true;\n",
       "  s.onreadystatechange = s.onload = callback;\n",
       "  s.onerror = function(){console.warn(\"failed to load library \" + url);};\n",
       "  document.getElementsByTagName(\"head\")[0].appendChild(s);\n",
       "}\n",
       "\n",
       "if(typeof(LDAvis) !== \"undefined\"){\n",
       "   // already loaded: just create the visualization\n",
       "   !function(LDAvis){\n",
       "       new LDAvis(\"#\" + \"ldavis_el1935217510529962722755964023\", ldavis_el1935217510529962722755964023_data);\n",
       "   }(LDAvis);\n",
       "}else if(typeof define === \"function\" && define.amd){\n",
       "   // require.js is available: use it to load d3/LDAvis\n",
       "   require.config({paths: {d3: \"https://d3js.org/d3.v5\"}});\n",
       "   require([\"d3\"], function(d3){\n",
       "      window.d3 = d3;\n",
       "      LDAvis_load_lib(\"https://cdn.jsdelivr.net/gh/bmabey/pyLDAvis@3.2.2/pyLDAvis/js/ldavis.v3.0.0.js\", function(){\n",
       "        new LDAvis(\"#\" + \"ldavis_el1935217510529962722755964023\", ldavis_el1935217510529962722755964023_data);\n",
       "      });\n",
       "    });\n",
       "}else{\n",
       "    // require.js not available: dynamically load d3 & LDAvis\n",
       "    LDAvis_load_lib(\"https://d3js.org/d3.v5.js\", function(){\n",
       "         LDAvis_load_lib(\"https://cdn.jsdelivr.net/gh/bmabey/pyLDAvis@3.2.2/pyLDAvis/js/ldavis.v3.0.0.js\", function(){\n",
       "                 new LDAvis(\"#\" + \"ldavis_el1935217510529962722755964023\", ldavis_el1935217510529962722755964023_data);\n",
       "            })\n",
       "         });\n",
       "}\n",
       "</script>"
      ],
      "text/plain": [
       "PreparedData(topic_coordinates=              x         y  topics  cluster       Freq\n",
       "topic                                                \n",
       "5      0.096665 -0.072443       1        1  19.521762\n",
       "1      0.104488  0.144800       2        1  17.323402\n",
       "2      0.107600  0.103622       3        1  17.179726\n",
       "0     -0.350084  0.069166       4        1  16.447268\n",
       "3      0.096736 -0.056825       5        1  15.251310\n",
       "4     -0.055405 -0.188319       6        1  14.276532, topic_info=         Term         Freq        Total Category  logprob  loglift\n",
       "54       case  3765.000000  3765.000000  Default  30.0000  30.0000\n",
       "30      death  2526.000000  2526.000000  Default  29.0000  29.0000\n",
       "163     total  1335.000000  1335.000000  Default  28.0000  28.0000\n",
       "149      mask  1613.000000  1613.000000  Default  27.0000  27.0000\n",
       "205       new  2883.000000  2883.000000  Default  26.0000  26.0000\n",
       "..        ...          ...          ...      ...      ...      ...\n",
       "356  pandemic   207.830173  1889.684930   Topic6  -5.6833  -0.2609\n",
       "127       amp   202.894909  1636.042138   Topic6  -5.7073  -0.1408\n",
       "645   patient   187.485515   700.850391   Topic6  -5.7863   0.6280\n",
       "94     update   188.688159  1292.268694   Topic6  -5.7799   0.0225\n",
       "205       new   189.645734  2883.018776   Topic6  -5.7749  -0.7749\n",
       "\n",
       "[469 rows x 6 columns], token_table=      Topic      Freq  Term\n",
       "term                       \n",
       "633       1  0.075467  able\n",
       "633       2  0.726048  able\n",
       "633       3  0.067660  able\n",
       "633       4  0.005205  able\n",
       "633       5  0.096286  able\n",
       "...     ...       ...   ...\n",
       "169       2  0.187646  year\n",
       "169       3  0.345313  year\n",
       "169       4  0.029979  year\n",
       "169       5  0.111033  year\n",
       "169       6  0.052186  year\n",
       "\n",
       "[1082 rows x 3 columns], R=30, lambda_step=0.01, plot_opts={'xlab': 'PC1', 'ylab': 'PC2'}, topic_order=[6, 2, 3, 1, 4, 5])"
      ]
     },
     "execution_count": 194,
     "metadata": {},
     "output_type": "execute_result"
    }
   ],
   "source": [
    "#visualize with pyLDAvis\n",
    "import warnings\n",
    "# pyLDAvis is creating warnings everywhere....\n",
    "warnings.filterwarnings(\"ignore\") \n",
    "\n",
    "import pyLDAvis.gensim\n",
    "pyLDAvis.enable_notebook()\n",
    "vis = pyLDAvis.gensim.prepare(lda_model_tfidf, corpus_tfidf, dictionary=lda_model_tfidf.id2word)\n",
    "vis"
   ]
  }
 ],
 "metadata": {
  "kernelspec": {
   "display_name": "Python 3",
   "language": "python",
   "name": "python3"
  },
  "language_info": {
   "codemirror_mode": {
    "name": "ipython",
    "version": 3
   },
   "file_extension": ".py",
   "mimetype": "text/x-python",
   "name": "python",
   "nbconvert_exporter": "python",
   "pygments_lexer": "ipython3",
   "version": "3.8.8"
  }
 },
 "nbformat": 4,
 "nbformat_minor": 5
}
