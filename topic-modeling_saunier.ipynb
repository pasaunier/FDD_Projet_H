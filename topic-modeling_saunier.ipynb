{
 "cells": [
  {
   "cell_type": "markdown",
   "id": "useful-doctrine",
   "metadata": {},
   "source": [
    "# Importing data"
   ]
  },
  {
   "cell_type": "code",
   "execution_count": 8,
   "id": "approximate-lancaster",
   "metadata": {
    "scrolled": true
   },
   "outputs": [
    {
     "name": "stderr",
     "output_type": "stream",
     "text": [
      "<ipython-input-8-f14d4839f110>:25: TqdmExperimentalWarning: Using `tqdm.autonotebook.tqdm` in notebook mode. Use `tqdm.tqdm` instead to force console mode (e.g. in jupyter console)\n",
      "  from tqdm.autonotebook import tqdm\n"
     ]
    }
   ],
   "source": [
    "#regex \n",
    "import re\n",
    "\n",
    "#data manipulation:\n",
    "import pandas as pd\n",
    "import numpy as np\n",
    "\n",
    "#nlp:\n",
    "import nltk\n",
    "import gensim\n",
    "\n",
    "#language detection:\n",
    "from langdetect import detect\n",
    "\n",
    "# unidecode\n",
    "import unidecode\n",
    "\n",
    "# emoji support\n",
    "import emoji\n",
    "\n",
    "#spellchecker\n",
    "from autocorrect import Speller\n",
    "\n",
    "#tqdm for notebook progressbars\n",
    "from tqdm.notebook import tqdm\n",
    "tqdm.pandas() # pandas.progress_map & pandas.progress_apply \n",
    "\n",
    "# seeding numpy:\n",
    "np.random.seed(2021)"
   ]
  },
  {
   "cell_type": "code",
   "execution_count": 9,
   "id": "spiritual-substitute",
   "metadata": {
    "scrolled": true
   },
   "outputs": [
    {
     "data": {
      "text/html": [
       "<div>\n",
       "<style scoped>\n",
       "    .dataframe tbody tr th:only-of-type {\n",
       "        vertical-align: middle;\n",
       "    }\n",
       "\n",
       "    .dataframe tbody tr th {\n",
       "        vertical-align: top;\n",
       "    }\n",
       "\n",
       "    .dataframe thead th {\n",
       "        text-align: right;\n",
       "    }\n",
       "</style>\n",
       "<table border=\"1\" class=\"dataframe\">\n",
       "  <thead>\n",
       "    <tr style=\"text-align: right;\">\n",
       "      <th></th>\n",
       "      <th>user_name</th>\n",
       "      <th>user_location</th>\n",
       "      <th>user_description</th>\n",
       "      <th>user_created</th>\n",
       "      <th>user_followers</th>\n",
       "      <th>user_friends</th>\n",
       "      <th>user_favourites</th>\n",
       "      <th>user_verified</th>\n",
       "      <th>date</th>\n",
       "      <th>text</th>\n",
       "      <th>hashtags</th>\n",
       "      <th>source</th>\n",
       "      <th>is_retweet</th>\n",
       "    </tr>\n",
       "  </thead>\n",
       "  <tbody>\n",
       "    <tr>\n",
       "      <th>0</th>\n",
       "      <td>ᏉᎥ☻լꂅϮ</td>\n",
       "      <td>astroworld</td>\n",
       "      <td>wednesday addams as a disney princess keepin i...</td>\n",
       "      <td>2017-05-26 05:46:42</td>\n",
       "      <td>624</td>\n",
       "      <td>950</td>\n",
       "      <td>18775</td>\n",
       "      <td>False</td>\n",
       "      <td>2020-07-25 12:27:21</td>\n",
       "      <td>If I smelled the scent of hand sanitizers toda...</td>\n",
       "      <td>NaN</td>\n",
       "      <td>Twitter for iPhone</td>\n",
       "      <td>False</td>\n",
       "    </tr>\n",
       "    <tr>\n",
       "      <th>1</th>\n",
       "      <td>Tom Basile 🇺🇸</td>\n",
       "      <td>New York, NY</td>\n",
       "      <td>Husband, Father, Columnist &amp; Commentator. Auth...</td>\n",
       "      <td>2009-04-16 20:06:23</td>\n",
       "      <td>2253</td>\n",
       "      <td>1677</td>\n",
       "      <td>24</td>\n",
       "      <td>True</td>\n",
       "      <td>2020-07-25 12:27:17</td>\n",
       "      <td>Hey @Yankees @YankeesPR and @MLB - wouldn't it...</td>\n",
       "      <td>NaN</td>\n",
       "      <td>Twitter for Android</td>\n",
       "      <td>False</td>\n",
       "    </tr>\n",
       "    <tr>\n",
       "      <th>2</th>\n",
       "      <td>Time4fisticuffs</td>\n",
       "      <td>Pewee Valley, KY</td>\n",
       "      <td>#Christian #Catholic #Conservative #Reagan #Re...</td>\n",
       "      <td>2009-02-28 18:57:41</td>\n",
       "      <td>9275</td>\n",
       "      <td>9525</td>\n",
       "      <td>7254</td>\n",
       "      <td>False</td>\n",
       "      <td>2020-07-25 12:27:14</td>\n",
       "      <td>@diane3443 @wdunlap @realDonaldTrump Trump nev...</td>\n",
       "      <td>['COVID19']</td>\n",
       "      <td>Twitter for Android</td>\n",
       "      <td>False</td>\n",
       "    </tr>\n",
       "    <tr>\n",
       "      <th>3</th>\n",
       "      <td>ethel mertz</td>\n",
       "      <td>Stuck in the Middle</td>\n",
       "      <td>#Browns #Indians #ClevelandProud #[]_[] #Cavs ...</td>\n",
       "      <td>2019-03-07 01:45:06</td>\n",
       "      <td>197</td>\n",
       "      <td>987</td>\n",
       "      <td>1488</td>\n",
       "      <td>False</td>\n",
       "      <td>2020-07-25 12:27:10</td>\n",
       "      <td>@brookbanktv The one gift #COVID19 has give me...</td>\n",
       "      <td>['COVID19']</td>\n",
       "      <td>Twitter for iPhone</td>\n",
       "      <td>False</td>\n",
       "    </tr>\n",
       "    <tr>\n",
       "      <th>4</th>\n",
       "      <td>DIPR-J&amp;K</td>\n",
       "      <td>Jammu and Kashmir</td>\n",
       "      <td>🖊️Official Twitter handle of Department of Inf...</td>\n",
       "      <td>2017-02-12 06:45:15</td>\n",
       "      <td>101009</td>\n",
       "      <td>168</td>\n",
       "      <td>101</td>\n",
       "      <td>False</td>\n",
       "      <td>2020-07-25 12:27:08</td>\n",
       "      <td>25 July : Media Bulletin on Novel #CoronaVirus...</td>\n",
       "      <td>['CoronaVirusUpdates', 'COVID19']</td>\n",
       "      <td>Twitter for Android</td>\n",
       "      <td>False</td>\n",
       "    </tr>\n",
       "  </tbody>\n",
       "</table>\n",
       "</div>"
      ],
      "text/plain": [
       "         user_name         user_location  \\\n",
       "0           ᏉᎥ☻լꂅϮ            astroworld   \n",
       "1    Tom Basile 🇺🇸          New York, NY   \n",
       "2  Time4fisticuffs      Pewee Valley, KY   \n",
       "3      ethel mertz  Stuck in the Middle    \n",
       "4         DIPR-J&K     Jammu and Kashmir   \n",
       "\n",
       "                                    user_description         user_created  \\\n",
       "0  wednesday addams as a disney princess keepin i...  2017-05-26 05:46:42   \n",
       "1  Husband, Father, Columnist & Commentator. Auth...  2009-04-16 20:06:23   \n",
       "2  #Christian #Catholic #Conservative #Reagan #Re...  2009-02-28 18:57:41   \n",
       "3  #Browns #Indians #ClevelandProud #[]_[] #Cavs ...  2019-03-07 01:45:06   \n",
       "4  🖊️Official Twitter handle of Department of Inf...  2017-02-12 06:45:15   \n",
       "\n",
       "   user_followers  user_friends  user_favourites  user_verified  \\\n",
       "0             624           950            18775          False   \n",
       "1            2253          1677               24           True   \n",
       "2            9275          9525             7254          False   \n",
       "3             197           987             1488          False   \n",
       "4          101009           168              101          False   \n",
       "\n",
       "                  date                                               text  \\\n",
       "0  2020-07-25 12:27:21  If I smelled the scent of hand sanitizers toda...   \n",
       "1  2020-07-25 12:27:17  Hey @Yankees @YankeesPR and @MLB - wouldn't it...   \n",
       "2  2020-07-25 12:27:14  @diane3443 @wdunlap @realDonaldTrump Trump nev...   \n",
       "3  2020-07-25 12:27:10  @brookbanktv The one gift #COVID19 has give me...   \n",
       "4  2020-07-25 12:27:08  25 July : Media Bulletin on Novel #CoronaVirus...   \n",
       "\n",
       "                            hashtags               source  is_retweet  \n",
       "0                                NaN   Twitter for iPhone       False  \n",
       "1                                NaN  Twitter for Android       False  \n",
       "2                        ['COVID19']  Twitter for Android       False  \n",
       "3                        ['COVID19']   Twitter for iPhone       False  \n",
       "4  ['CoronaVirusUpdates', 'COVID19']  Twitter for Android       False  "
      ]
     },
     "execution_count": 9,
     "metadata": {},
     "output_type": "execute_result"
    }
   ],
   "source": [
    "\"\"\"\n",
    "Topic modeling \n",
    "Tweets of the COVID_19\n",
    "These tweets are collected using Twitter API and a Python script.\n",
    " A query for this high-frequency hashtag (#covid19) is run on a daily basis for a certain time period, to collect a larger number of tweets samples.\n",
    "The tweets have #covid19 hashtag. Collection started on 25/7/2020, with an initial 17k batch.\n",
    "\"\"\"\n",
    "#Importing data\n",
    "df = pd.read_csv(r\"./data/covid19_tweets.csv\", error_bad_lines=False)\n",
    "df.head()"
   ]
  },
  {
   "cell_type": "markdown",
   "id": "final-monitoring",
   "metadata": {},
   "source": [
    "# Checking for undesirable rows :"
   ]
  },
  {
   "cell_type": "code",
   "execution_count": 10,
   "id": "minimal-bottle",
   "metadata": {},
   "outputs": [
    {
     "name": "stdout",
     "output_type": "stream",
     "text": [
      "Number of rows in the df : 179108\n",
      "Number of retweets : 0\n",
      "List of all possible values in 'is_retweet' : [False]\n"
     ]
    }
   ],
   "source": [
    "# csv exploration showed that we have no retweets :\n",
    "print(\"Number of rows in the df :\", df.shape[0])\n",
    "print(\"Number of retweets :\", df[df[\"is_retweet\"] == True].shape[0])\n",
    "print(\"List of all possible values in 'is_retweet' :\",df.is_retweet.unique())\n",
    "\n",
    "# we can safely drop the is_retweet column :\n",
    "df.drop('is_retweet',axis=1, inplace=True)"
   ]
  },
  {
   "cell_type": "code",
   "execution_count": 11,
   "id": "aboriginal-manchester",
   "metadata": {},
   "outputs": [
    {
     "name": "stdout",
     "output_type": "stream",
     "text": [
      "Total number of rows in the df : 179108\n",
      "Nbr of identical tweets : 425\n",
      "Remaining rows after dropping the duplicates : 178683\n"
     ]
    }
   ],
   "source": [
    "# since we are not supposed to have retweets, identical tweets are probably spam/bots !\n",
    "# counting identical tweets :\n",
    "print(\"Total number of rows in the df :\", df.shape[0])\n",
    "print(\"Nbr of identical tweets :\", df.shape[0] - len(df.value_counts('text')))\n",
    "\n",
    "# dropping identical tweets:\n",
    "df.drop_duplicates('text', inplace=True)\n",
    "print(\"Remaining rows after dropping the duplicates :\", df.shape[0])"
   ]
  },
  {
   "cell_type": "code",
   "execution_count": 12,
   "id": "expired-tanzania",
   "metadata": {},
   "outputs": [
    {
     "name": "stdout",
     "output_type": "stream",
     "text": [
      "Number of rows with no tweet body : 0\n"
     ]
    }
   ],
   "source": [
    "# checking if we have rows with nothing in the tweet body:\n",
    "print(\"Number of rows with no tweet body :\", len(df[df.text.isna()])) #ok"
   ]
  },
  {
   "cell_type": "markdown",
   "id": "forced-premium",
   "metadata": {},
   "source": [
    "# Processing the tweets :"
   ]
  },
  {
   "cell_type": "code",
   "execution_count": 22,
   "id": "figured-survivor",
   "metadata": {},
   "outputs": [],
   "source": [
    "# regex patterns:\n",
    "url_pattern = re.compile(r'https?://\\S+|www\\.\\S+')\n",
    "number_pattern = re.compile(r'\\d+')\n",
    "specialchar_pattern = re.compile(r'[^\\w\\s]')\n",
    "multiplespaces_pattern = re.compile(r'\\s\\s+')\n",
    "\n",
    "def preprocessor(text):\n",
    "    #replace emojis with text :\n",
    "    text = emoji.demojize(text, delimiters=(\" \", \" \"))\n",
    "    \n",
    "    #remove all unicode funk:\n",
    "    text = unidecode.unidecode(text)\n",
    "    \n",
    "    #remove caps:\n",
    "    text = text.lower()\n",
    "    \n",
    "    #remove urls :\n",
    "    text = re.sub(pattern=url_pattern, repl='', string=text)\n",
    "    \n",
    "    #remove numbers :\n",
    "    text = re.sub(pattern=number_pattern, repl='', string=text)\n",
    "    \n",
    "    #remove special chars :\n",
    "    text = re.sub(pattern=specialchar_pattern, repl='', string=text)\n",
    "    \n",
    "    #remove the '\\n' probably created by unidecode and the remaining \"_\"\n",
    "    text = text.replace(\"\\n\", \" \").replace(\"_\", \" \")\n",
    "    \n",
    "    #merge multiple spaces into 1:\n",
    "    text = re.sub(pattern=multiplespaces_pattern, repl=' ', string=text)\n",
    "    \n",
    "    return(text)"
   ]
  },
  {
   "cell_type": "code",
   "execution_count": 23,
   "id": "inner-injection",
   "metadata": {},
   "outputs": [
    {
     "data": {
      "application/vnd.jupyter.widget-view+json": {
       "model_id": "7dc4907e488e44b3b82551dff313e6ce",
       "version_major": 2,
       "version_minor": 0
      },
      "text/plain": [
       "  0%|          | 0/178683 [00:00<?, ?it/s]"
      ]
     },
     "metadata": {},
     "output_type": "display_data"
    }
   ],
   "source": [
    "df[\"c_text\"] = df.text.progress_map(preprocessor)"
   ]
  },
  {
   "cell_type": "code",
   "execution_count": 24,
   "id": "intense-setup",
   "metadata": {},
   "outputs": [
    {
     "data": {
      "text/html": [
       "<div>\n",
       "<style scoped>\n",
       "    .dataframe tbody tr th:only-of-type {\n",
       "        vertical-align: middle;\n",
       "    }\n",
       "\n",
       "    .dataframe tbody tr th {\n",
       "        vertical-align: top;\n",
       "    }\n",
       "\n",
       "    .dataframe thead th {\n",
       "        text-align: right;\n",
       "    }\n",
       "</style>\n",
       "<table border=\"1\" class=\"dataframe\">\n",
       "  <thead>\n",
       "    <tr style=\"text-align: right;\">\n",
       "      <th></th>\n",
       "      <th>user_name</th>\n",
       "      <th>user_location</th>\n",
       "      <th>user_description</th>\n",
       "      <th>user_created</th>\n",
       "      <th>user_followers</th>\n",
       "      <th>user_friends</th>\n",
       "      <th>user_favourites</th>\n",
       "      <th>user_verified</th>\n",
       "      <th>date</th>\n",
       "      <th>text</th>\n",
       "      <th>hashtags</th>\n",
       "      <th>source</th>\n",
       "      <th>c_text</th>\n",
       "      <th>lang</th>\n",
       "    </tr>\n",
       "  </thead>\n",
       "  <tbody>\n",
       "    <tr>\n",
       "      <th>0</th>\n",
       "      <td>ᏉᎥ☻լꂅϮ</td>\n",
       "      <td>astroworld</td>\n",
       "      <td>wednesday addams as a disney princess keepin i...</td>\n",
       "      <td>2017-05-26 05:46:42</td>\n",
       "      <td>624</td>\n",
       "      <td>950</td>\n",
       "      <td>18775</td>\n",
       "      <td>False</td>\n",
       "      <td>2020-07-25 12:27:21</td>\n",
       "      <td>If I smelled the scent of hand sanitizers toda...</td>\n",
       "      <td>NaN</td>\n",
       "      <td>Twitter for iPhone</td>\n",
       "      <td>if i smelled the scent of hand sanitizers toda...</td>\n",
       "      <td>en</td>\n",
       "    </tr>\n",
       "    <tr>\n",
       "      <th>1</th>\n",
       "      <td>Tom Basile 🇺🇸</td>\n",
       "      <td>New York, NY</td>\n",
       "      <td>Husband, Father, Columnist &amp; Commentator. Auth...</td>\n",
       "      <td>2009-04-16 20:06:23</td>\n",
       "      <td>2253</td>\n",
       "      <td>1677</td>\n",
       "      <td>24</td>\n",
       "      <td>True</td>\n",
       "      <td>2020-07-25 12:27:17</td>\n",
       "      <td>Hey @Yankees @YankeesPR and @MLB - wouldn't it...</td>\n",
       "      <td>NaN</td>\n",
       "      <td>Twitter for Android</td>\n",
       "      <td>hey yankees yankeespr and mlb wouldnt it have ...</td>\n",
       "      <td>en</td>\n",
       "    </tr>\n",
       "    <tr>\n",
       "      <th>2</th>\n",
       "      <td>Time4fisticuffs</td>\n",
       "      <td>Pewee Valley, KY</td>\n",
       "      <td>#Christian #Catholic #Conservative #Reagan #Re...</td>\n",
       "      <td>2009-02-28 18:57:41</td>\n",
       "      <td>9275</td>\n",
       "      <td>9525</td>\n",
       "      <td>7254</td>\n",
       "      <td>False</td>\n",
       "      <td>2020-07-25 12:27:14</td>\n",
       "      <td>@diane3443 @wdunlap @realDonaldTrump Trump nev...</td>\n",
       "      <td>['COVID19']</td>\n",
       "      <td>Twitter for Android</td>\n",
       "      <td>diane wdunlap realdonaldtrump trump never once...</td>\n",
       "      <td>en</td>\n",
       "    </tr>\n",
       "    <tr>\n",
       "      <th>3</th>\n",
       "      <td>ethel mertz</td>\n",
       "      <td>Stuck in the Middle</td>\n",
       "      <td>#Browns #Indians #ClevelandProud #[]_[] #Cavs ...</td>\n",
       "      <td>2019-03-07 01:45:06</td>\n",
       "      <td>197</td>\n",
       "      <td>987</td>\n",
       "      <td>1488</td>\n",
       "      <td>False</td>\n",
       "      <td>2020-07-25 12:27:10</td>\n",
       "      <td>@brookbanktv The one gift #COVID19 has give me...</td>\n",
       "      <td>['COVID19']</td>\n",
       "      <td>Twitter for iPhone</td>\n",
       "      <td>brookbanktv the one gift covid has give me is ...</td>\n",
       "      <td>en</td>\n",
       "    </tr>\n",
       "    <tr>\n",
       "      <th>4</th>\n",
       "      <td>DIPR-J&amp;K</td>\n",
       "      <td>Jammu and Kashmir</td>\n",
       "      <td>🖊️Official Twitter handle of Department of Inf...</td>\n",
       "      <td>2017-02-12 06:45:15</td>\n",
       "      <td>101009</td>\n",
       "      <td>168</td>\n",
       "      <td>101</td>\n",
       "      <td>False</td>\n",
       "      <td>2020-07-25 12:27:08</td>\n",
       "      <td>25 July : Media Bulletin on Novel #CoronaVirus...</td>\n",
       "      <td>['CoronaVirusUpdates', 'COVID19']</td>\n",
       "      <td>Twitter for Android</td>\n",
       "      <td>july media bulletin on novel coronavirusupdat...</td>\n",
       "      <td>en</td>\n",
       "    </tr>\n",
       "  </tbody>\n",
       "</table>\n",
       "</div>"
      ],
      "text/plain": [
       "         user_name         user_location  \\\n",
       "0           ᏉᎥ☻լꂅϮ            astroworld   \n",
       "1    Tom Basile 🇺🇸          New York, NY   \n",
       "2  Time4fisticuffs      Pewee Valley, KY   \n",
       "3      ethel mertz  Stuck in the Middle    \n",
       "4         DIPR-J&K     Jammu and Kashmir   \n",
       "\n",
       "                                    user_description         user_created  \\\n",
       "0  wednesday addams as a disney princess keepin i...  2017-05-26 05:46:42   \n",
       "1  Husband, Father, Columnist & Commentator. Auth...  2009-04-16 20:06:23   \n",
       "2  #Christian #Catholic #Conservative #Reagan #Re...  2009-02-28 18:57:41   \n",
       "3  #Browns #Indians #ClevelandProud #[]_[] #Cavs ...  2019-03-07 01:45:06   \n",
       "4  🖊️Official Twitter handle of Department of Inf...  2017-02-12 06:45:15   \n",
       "\n",
       "   user_followers  user_friends  user_favourites  user_verified  \\\n",
       "0             624           950            18775          False   \n",
       "1            2253          1677               24           True   \n",
       "2            9275          9525             7254          False   \n",
       "3             197           987             1488          False   \n",
       "4          101009           168              101          False   \n",
       "\n",
       "                  date                                               text  \\\n",
       "0  2020-07-25 12:27:21  If I smelled the scent of hand sanitizers toda...   \n",
       "1  2020-07-25 12:27:17  Hey @Yankees @YankeesPR and @MLB - wouldn't it...   \n",
       "2  2020-07-25 12:27:14  @diane3443 @wdunlap @realDonaldTrump Trump nev...   \n",
       "3  2020-07-25 12:27:10  @brookbanktv The one gift #COVID19 has give me...   \n",
       "4  2020-07-25 12:27:08  25 July : Media Bulletin on Novel #CoronaVirus...   \n",
       "\n",
       "                            hashtags               source  \\\n",
       "0                                NaN   Twitter for iPhone   \n",
       "1                                NaN  Twitter for Android   \n",
       "2                        ['COVID19']  Twitter for Android   \n",
       "3                        ['COVID19']   Twitter for iPhone   \n",
       "4  ['CoronaVirusUpdates', 'COVID19']  Twitter for Android   \n",
       "\n",
       "                                              c_text lang  \n",
       "0  if i smelled the scent of hand sanitizers toda...   en  \n",
       "1  hey yankees yankeespr and mlb wouldnt it have ...   en  \n",
       "2  diane wdunlap realdonaldtrump trump never once...   en  \n",
       "3  brookbanktv the one gift covid has give me is ...   en  \n",
       "4   july media bulletin on novel coronavirusupdat...   en  "
      ]
     },
     "execution_count": 24,
     "metadata": {},
     "output_type": "execute_result"
    }
   ],
   "source": [
    "df.head(5)"
   ]
  },
  {
   "cell_type": "markdown",
   "id": "dynamic-escape",
   "metadata": {},
   "source": [
    "# Checking the tweets after processing :"
   ]
  },
  {
   "cell_type": "code",
   "execution_count": 25,
   "id": "thousand-timothy",
   "metadata": {},
   "outputs": [
    {
     "name": "stdout",
     "output_type": "stream",
     "text": [
      "Number of empty tweets after preprocess : 0\n",
      "Minimum tweet len() : 10\n",
      "Mean tweet len() : 100.6656369100586\n"
     ]
    }
   ],
   "source": [
    "# It's likely that the preprocessor fnc completely deleted some tweets.\n",
    "# Count the lines and remove them.\n",
    "# also remove all-whitespace tweets & single letter tweets :\n",
    "print(\"Number of empty tweets after preprocess :\", df.shape[0] -df[df['c_text'].apply(\n",
    "    lambda x: len(str(x).replace(\" \",\"\")) > 1)].shape[0])\n",
    "# this is surprising!\n",
    "\n",
    "# just in case, checking min and avg tweet len():\n",
    "print(\"Minimum tweet len() :\", df.c_text.str.len().min())\n",
    "print(\"Mean tweet len() :\", df.c_text.str.len().mean())\n",
    "# I was wrong, no need to remove anything !"
   ]
  },
  {
   "cell_type": "markdown",
   "id": "sealed-tunisia",
   "metadata": {},
   "source": [
    "# Trying to detect the language of every tweet :"
   ]
  },
  {
   "cell_type": "code",
   "execution_count": null,
   "id": "gorgeous-haiti",
   "metadata": {},
   "outputs": [
    {
     "data": {
      "application/vnd.jupyter.widget-view+json": {
       "model_id": "be8af33022d14f3f81e2e7c01f4c17b3",
       "version_major": 2,
       "version_minor": 0
      },
      "text/plain": [
       "  0%|          | 0/178683 [00:00<?, ?it/s]"
      ]
     },
     "metadata": {},
     "output_type": "display_data"
    }
   ],
   "source": [
    "#use langdetect to detect the lang of every tweet in the df:\n",
    "# this is pretty slow (~10 min)\n",
    "df[\"lang\"] = df.c_text.progress_map(detect)"
   ]
  },
  {
   "cell_type": "code",
   "execution_count": null,
   "id": "upset-hamilton",
   "metadata": {},
   "outputs": [],
   "source": [
    "# pickle the results:\n",
    "import pickle as pk\n",
    "with open(\"./tweet_df.pk\", \"wb\") as fp:\n",
    "    pk.dump(df, fp)"
   ]
  },
  {
   "cell_type": "code",
   "execution_count": null,
   "id": "directed-prefix",
   "metadata": {
    "scrolled": true
   },
   "outputs": [],
   "source": [
    "# Number of tweets that are probably not in english:\n",
    "print(\"Nbr of non-english tweets :\", df[df[\"lang\"]!=\"en\"].shape[0])\n",
    "\n",
    "# 10 most detected tweet languages:\n",
    "print(\"\\n10 most detected languages :\\n\",df.lang.value_counts()[:10], end=\"\")"
   ]
  },
  {
   "cell_type": "code",
   "execution_count": null,
   "id": "crazy-illness",
   "metadata": {},
   "outputs": [],
   "source": [
    "# dump the non-english tweets in a file for manual exploration :\n",
    "with open(\"./noneng.csv\", \"w\", encoding=\"utf8\") as fp:\n",
    "    [fp.write(f\"{elem}\\n\\n\") for elem in df[df[\"lang\"]!=\"en\"].c_text]"
   ]
  },
  {
   "cell_type": "code",
   "execution_count": null,
   "id": "associate-tourism",
   "metadata": {
    "scrolled": true
   },
   "outputs": [],
   "source": [
    "#after manually reviewing the tweets tagged as non-english, \n",
    "#I'm ok with ok with removing them from the dataframe:\n",
    "df.drop(df[df[\"lang\"] != \"en\"].index, inplace = True)\n",
    "\n",
    "print(\"Remaining tweets :\",df.lang.value_counts())"
   ]
  },
  {
   "cell_type": "code",
   "execution_count": null,
   "id": "furnished-cornell",
   "metadata": {},
   "outputs": [],
   "source": [
    "# tokenize, remove stopwords and lemmatize everything\n",
    "# creating a dedicated spacy pipeline :\n",
    "import spacy\n",
    "import lemminflect\n",
    "\n",
    "nlp = spacy.load('en_core_web_trf', exclude=[\"transformer\"])\n",
    "\n",
    "df[\"doc\"]= df.c_text.map_apply(nlp)"
   ]
  },
  {
   "cell_type": "code",
   "execution_count": null,
   "id": "bored-indication",
   "metadata": {
    "scrolled": true
   },
   "outputs": [],
   "source": [
    "[elem.lemma_ for elem in docs[3]]"
   ]
  },
  {
   "cell_type": "code",
   "execution_count": null,
   "id": "wired-baltimore",
   "metadata": {},
   "outputs": [],
   "source": [
    "for token in docs[1]:\n",
    "    print(token.lemma_)"
   ]
  },
  {
   "cell_type": "code",
   "execution_count": null,
   "id": "limiting-slovenia",
   "metadata": {},
   "outputs": [],
   "source": [
    "# bow_corpus = [dictionary.doc2bow(doc) for doc in processed_docs]\n",
    "# bow_corpus[420]\n",
    "\n",
    "# tfidf = models.TfidfModel(bow_corpus)\n",
    "# corpus_tfidf = tfidf[bow_corpus]\n",
    "\n",
    "# # define LDA model using the TF-IDF dictionary\n",
    "# lda_model_tfidf = gensim.models.LdaMulticore(corpus_tfidf, num_topics=4, id2word=dictionary, passes=3, workers=3)\n",
    "\n",
    "# for idx, topic in lda_model_tfidf.print_topics(-1):\n",
    "#     print('Topic: {} Word: {}'.format(idx, topic))"
   ]
  },
  {
   "cell_type": "code",
   "execution_count": null,
   "id": "racial-induction",
   "metadata": {},
   "outputs": [],
   "source": []
  }
 ],
 "metadata": {
  "kernelspec": {
   "display_name": "Python 3",
   "language": "python",
   "name": "python3"
  },
  "language_info": {
   "codemirror_mode": {
    "name": "ipython",
    "version": 3
   },
   "file_extension": ".py",
   "mimetype": "text/x-python",
   "name": "python",
   "nbconvert_exporter": "python",
   "pygments_lexer": "ipython3",
   "version": "3.8.8"
  }
 },
 "nbformat": 4,
 "nbformat_minor": 5
}
