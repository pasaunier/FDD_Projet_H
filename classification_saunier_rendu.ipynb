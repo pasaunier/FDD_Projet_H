{
 "cells": [
  {
   "cell_type": "code",
   "execution_count": 1,
   "metadata": {},
   "outputs": [
    {
     "name": "stdout",
     "output_type": "stream",
     "text": [
      "imports ok\n"
     ]
    }
   ],
   "source": [
    "# Handle table-like data and matrices\n",
    "import numpy as np\n",
    "import pandas as pd\n",
    "\n",
    "# Modelling Algorithms\n",
    "from sklearn.tree import DecisionTreeClassifier\n",
    "from sklearn.linear_model import LogisticRegression\n",
    "from sklearn.neighbors import KNeighborsClassifier\n",
    "from sklearn.naive_bayes import GaussianNB\n",
    "from sklearn.svm import SVC, LinearSVC\n",
    "from sklearn.ensemble import RandomForestClassifier , GradientBoostingClassifier\n",
    "\n",
    "# Modelling Helpers\n",
    "from sklearn.impute import SimpleImputer as Imputer\n",
    "from sklearn.preprocessing import Normalizer , scale\n",
    "from sklearn.model_selection import train_test_split , StratifiedKFold\n",
    "from sklearn.feature_selection import RFECV\n",
    "\n",
    "# Visualisation\n",
    "import matplotlib as mpl\n",
    "import matplotlib.pyplot as plt\n",
    "import matplotlib.pylab as pylab\n",
    "import seaborn as sns\n",
    "\n",
    "# Numpy seeding \n",
    "np.random.seed(2021)\n",
    "\n",
    "print(\"imports ok\")"
   ]
  },
  {
   "cell_type": "markdown",
   "metadata": {},
   "source": [
    "# importing the CSV with Pandas"
   ]
  },
  {
   "cell_type": "code",
   "execution_count": 2,
   "metadata": {},
   "outputs": [
    {
     "name": "stdout",
     "output_type": "stream",
     "text": [
      "<class 'pandas.core.frame.DataFrame'>\n",
      "RangeIndex: 70000 entries, 0 to 69999\n",
      "Data columns (total 13 columns):\n",
      " #   Column       Non-Null Count  Dtype  \n",
      "---  ------       --------------  -----  \n",
      " 0   id           70000 non-null  int64  \n",
      " 1   age          70000 non-null  int64  \n",
      " 2   gender       70000 non-null  int64  \n",
      " 3   height       70000 non-null  int64  \n",
      " 4   weight       70000 non-null  float64\n",
      " 5   ap_hi        70000 non-null  int64  \n",
      " 6   ap_lo        70000 non-null  int64  \n",
      " 7   cholesterol  70000 non-null  int64  \n",
      " 8   gluc         70000 non-null  int64  \n",
      " 9   smoke        70000 non-null  int64  \n",
      " 10  alco         70000 non-null  int64  \n",
      " 11  active       70000 non-null  int64  \n",
      " 12  cardio       70000 non-null  int64  \n",
      "dtypes: float64(1), int64(12)\n",
      "memory usage: 6.9 MB\n"
     ]
    }
   ],
   "source": [
    "# reading the csv :\n",
    "csv = pd.read_csv(r\"./data/cardio_train.csv\", error_bad_lines=False, delimiter=\";\")\n",
    "csv.info()"
   ]
  },
  {
   "cell_type": "code",
   "execution_count": 3,
   "metadata": {},
   "outputs": [
    {
     "name": "stdout",
     "output_type": "stream",
     "text": [
      "Missing Values :  id             False\n",
      "age            False\n",
      "gender         False\n",
      "height         False\n",
      "weight         False\n",
      "ap_hi          False\n",
      "ap_lo          False\n",
      "cholesterol    False\n",
      "gluc           False\n",
      "smoke          False\n",
      "alco           False\n",
      "active         False\n",
      "cardio         False\n",
      "dtype: bool\n"
     ]
    }
   ],
   "source": [
    "print(\"Missing Values : \",csv.isna().any())"
   ]
  },
  {
   "cell_type": "markdown",
   "metadata": {},
   "source": [
    "# checking for missing and duplicated lines "
   ]
  },
  {
   "cell_type": "code",
   "execution_count": 3,
   "metadata": {
    "scrolled": true
   },
   "outputs": [
    {
     "name": "stdout",
     "output_type": "stream",
     "text": [
      "Missing Values :  False\n",
      "Duplicated lines :  False\n"
     ]
    }
   ],
   "source": [
    "# checking for missing values :\n",
    "print(\"Missing Values : \",csv.isna().values.any()) #should be false\n",
    "\n",
    "# checking for duplicated lines :\n",
    "print(\"Duplicated lines : \", csv.duplicated().values.any()) #should be false"
   ]
  },
  {
   "cell_type": "markdown",
   "metadata": {},
   "source": [
    "# checking for abnormal values"
   ]
  },
  {
   "cell_type": "code",
   "execution_count": 5,
   "metadata": {
    "scrolled": false
   },
   "outputs": [
    {
     "data": {
      "text/html": [
       "<div>\n",
       "<style scoped>\n",
       "    .dataframe tbody tr th:only-of-type {\n",
       "        vertical-align: middle;\n",
       "    }\n",
       "\n",
       "    .dataframe tbody tr th {\n",
       "        vertical-align: top;\n",
       "    }\n",
       "\n",
       "    .dataframe thead th {\n",
       "        text-align: right;\n",
       "    }\n",
       "</style>\n",
       "<table border=\"1\" class=\"dataframe\">\n",
       "  <thead>\n",
       "    <tr style=\"text-align: right;\">\n",
       "      <th></th>\n",
       "      <th>id</th>\n",
       "      <th>age</th>\n",
       "      <th>gender</th>\n",
       "      <th>height</th>\n",
       "      <th>weight</th>\n",
       "      <th>ap_hi</th>\n",
       "      <th>ap_lo</th>\n",
       "      <th>cholesterol</th>\n",
       "      <th>gluc</th>\n",
       "      <th>smoke</th>\n",
       "      <th>alco</th>\n",
       "      <th>active</th>\n",
       "      <th>cardio</th>\n",
       "    </tr>\n",
       "  </thead>\n",
       "  <tbody>\n",
       "    <tr>\n",
       "      <th>count</th>\n",
       "      <td>70000.0</td>\n",
       "      <td>70000.0</td>\n",
       "      <td>70000.0</td>\n",
       "      <td>70000.0</td>\n",
       "      <td>70000.0</td>\n",
       "      <td>70000.0</td>\n",
       "      <td>70000.0</td>\n",
       "      <td>70000.0</td>\n",
       "      <td>70000.0</td>\n",
       "      <td>70000.0</td>\n",
       "      <td>70000.0</td>\n",
       "      <td>70000.0</td>\n",
       "      <td>70000.0</td>\n",
       "    </tr>\n",
       "    <tr>\n",
       "      <th>mean</th>\n",
       "      <td>49972.4</td>\n",
       "      <td>19468.9</td>\n",
       "      <td>1.3</td>\n",
       "      <td>164.4</td>\n",
       "      <td>74.2</td>\n",
       "      <td>128.8</td>\n",
       "      <td>96.6</td>\n",
       "      <td>1.4</td>\n",
       "      <td>1.2</td>\n",
       "      <td>0.1</td>\n",
       "      <td>0.1</td>\n",
       "      <td>0.8</td>\n",
       "      <td>0.5</td>\n",
       "    </tr>\n",
       "    <tr>\n",
       "      <th>std</th>\n",
       "      <td>28851.3</td>\n",
       "      <td>2467.3</td>\n",
       "      <td>0.5</td>\n",
       "      <td>8.2</td>\n",
       "      <td>14.4</td>\n",
       "      <td>154.0</td>\n",
       "      <td>188.5</td>\n",
       "      <td>0.7</td>\n",
       "      <td>0.6</td>\n",
       "      <td>0.3</td>\n",
       "      <td>0.2</td>\n",
       "      <td>0.4</td>\n",
       "      <td>0.5</td>\n",
       "    </tr>\n",
       "    <tr>\n",
       "      <th>min</th>\n",
       "      <td>0.0</td>\n",
       "      <td>10798.0</td>\n",
       "      <td>1.0</td>\n",
       "      <td>55.0</td>\n",
       "      <td>10.0</td>\n",
       "      <td>-150.0</td>\n",
       "      <td>-70.0</td>\n",
       "      <td>1.0</td>\n",
       "      <td>1.0</td>\n",
       "      <td>0.0</td>\n",
       "      <td>0.0</td>\n",
       "      <td>0.0</td>\n",
       "      <td>0.0</td>\n",
       "    </tr>\n",
       "    <tr>\n",
       "      <th>25%</th>\n",
       "      <td>25006.8</td>\n",
       "      <td>17664.0</td>\n",
       "      <td>1.0</td>\n",
       "      <td>159.0</td>\n",
       "      <td>65.0</td>\n",
       "      <td>120.0</td>\n",
       "      <td>80.0</td>\n",
       "      <td>1.0</td>\n",
       "      <td>1.0</td>\n",
       "      <td>0.0</td>\n",
       "      <td>0.0</td>\n",
       "      <td>1.0</td>\n",
       "      <td>0.0</td>\n",
       "    </tr>\n",
       "    <tr>\n",
       "      <th>50%</th>\n",
       "      <td>50001.5</td>\n",
       "      <td>19703.0</td>\n",
       "      <td>1.0</td>\n",
       "      <td>165.0</td>\n",
       "      <td>72.0</td>\n",
       "      <td>120.0</td>\n",
       "      <td>80.0</td>\n",
       "      <td>1.0</td>\n",
       "      <td>1.0</td>\n",
       "      <td>0.0</td>\n",
       "      <td>0.0</td>\n",
       "      <td>1.0</td>\n",
       "      <td>0.0</td>\n",
       "    </tr>\n",
       "    <tr>\n",
       "      <th>75%</th>\n",
       "      <td>74889.2</td>\n",
       "      <td>21327.0</td>\n",
       "      <td>2.0</td>\n",
       "      <td>170.0</td>\n",
       "      <td>82.0</td>\n",
       "      <td>140.0</td>\n",
       "      <td>90.0</td>\n",
       "      <td>2.0</td>\n",
       "      <td>1.0</td>\n",
       "      <td>0.0</td>\n",
       "      <td>0.0</td>\n",
       "      <td>1.0</td>\n",
       "      <td>1.0</td>\n",
       "    </tr>\n",
       "    <tr>\n",
       "      <th>max</th>\n",
       "      <td>99999.0</td>\n",
       "      <td>23713.0</td>\n",
       "      <td>2.0</td>\n",
       "      <td>250.0</td>\n",
       "      <td>200.0</td>\n",
       "      <td>16020.0</td>\n",
       "      <td>11000.0</td>\n",
       "      <td>3.0</td>\n",
       "      <td>3.0</td>\n",
       "      <td>1.0</td>\n",
       "      <td>1.0</td>\n",
       "      <td>1.0</td>\n",
       "      <td>1.0</td>\n",
       "    </tr>\n",
       "  </tbody>\n",
       "</table>\n",
       "</div>"
      ],
      "text/plain": [
       "            id      age   gender   height   weight    ap_hi    ap_lo  \\\n",
       "count  70000.0  70000.0  70000.0  70000.0  70000.0  70000.0  70000.0   \n",
       "mean   49972.4  19468.9      1.3    164.4     74.2    128.8     96.6   \n",
       "std    28851.3   2467.3      0.5      8.2     14.4    154.0    188.5   \n",
       "min        0.0  10798.0      1.0     55.0     10.0   -150.0    -70.0   \n",
       "25%    25006.8  17664.0      1.0    159.0     65.0    120.0     80.0   \n",
       "50%    50001.5  19703.0      1.0    165.0     72.0    120.0     80.0   \n",
       "75%    74889.2  21327.0      2.0    170.0     82.0    140.0     90.0   \n",
       "max    99999.0  23713.0      2.0    250.0    200.0  16020.0  11000.0   \n",
       "\n",
       "       cholesterol     gluc    smoke     alco   active   cardio  \n",
       "count      70000.0  70000.0  70000.0  70000.0  70000.0  70000.0  \n",
       "mean           1.4      1.2      0.1      0.1      0.8      0.5  \n",
       "std            0.7      0.6      0.3      0.2      0.4      0.5  \n",
       "min            1.0      1.0      0.0      0.0      0.0      0.0  \n",
       "25%            1.0      1.0      0.0      0.0      1.0      0.0  \n",
       "50%            1.0      1.0      0.0      0.0      1.0      0.0  \n",
       "75%            2.0      1.0      0.0      0.0      1.0      1.0  \n",
       "max            3.0      3.0      1.0      1.0      1.0      1.0  "
      ]
     },
     "execution_count": 5,
     "metadata": {},
     "output_type": "execute_result"
    }
   ],
   "source": [
    "# using describe to check for abnormal values :\n",
    "csv.describe().round(1)"
   ]
  },
  {
   "cell_type": "code",
   "execution_count": 4,
   "metadata": {},
   "outputs": [
    {
     "name": "stdout",
     "output_type": "stream",
     "text": [
      "Oldest individual (years): 64.92265571526352\n",
      "Youngest individual (years) : 29.56331279945243\n",
      "Nbr of rows with invalid BP : 1198\n",
      "Nbr of Rows with ap_hi < ap_lo : 101\n",
      "Total number of row filtered : 1299 ; Remaining :  68701\n"
     ]
    }
   ],
   "source": [
    "###########################################################\n",
    "# age is in days in the dataframe\n",
    "# checking mean(age) in years by dividing by 365.25:\n",
    "print(\"Oldest individual (years):\", csv.age.max()/365.25) #ok\n",
    "print(\"Youngest individual (years) :\", csv.age.min()/365.25) #ok\n",
    "# age is ok\n",
    "###############################################################\n",
    "# the maximum and minimal values of both ap_hi and ap_lo are abherent :\n",
    "# blood pressure (BP) in humans over 200 is a medical emergency....\n",
    "# BP >= 180 is called an 'hypertensive crisis'\n",
    "\n",
    "# BP values over 250 are mesurement errors and should be removed from the dataset :\n",
    "data = csv[csv.apply(\n",
    "    lambda x: False if x.ap_hi > 250 or x.ap_lo> 250  else True, axis=1)]\n",
    "\n",
    "# Negative BP is impossible\n",
    "# BP values under 30/10 are erroneous as well\n",
    "# if it goes that low the patient is unconscious/dying\n",
    "data = data[data.apply(\n",
    "    lambda x: False if x.ap_hi < 30 or x.ap_lo < 10  else True, axis=1)]\n",
    "\n",
    "print(\"Nbr of rows with invalid BP :\",  csv.shape[0]-data.shape[0])\n",
    "###############################################################\n",
    "# Systolic BP (ap_hi) should also always be > Diastolic BP (ap_lo)\n",
    "# if it isn't -> mesurement error\n",
    "# checking if we do have this issue :\n",
    "print(\"Nbr of Rows with ap_hi < ap_lo :\",\n",
    "    data[data.apply(lambda x: True if x.ap_hi < x.ap_lo else False, axis=1)].shape[0])\n",
    "# it appears we do, filtering :\n",
    "data = data[data.apply(lambda x: False if x.ap_hi < x.ap_lo else True, axis=1)]\n",
    "###############################################################\n",
    "\n",
    "print(\"Total number of row filtered :\",  csv.shape[0]-data.shape[0],\n",
    "     \"; Remaining : \", data.shape[0])"
   ]
  },
  {
   "cell_type": "markdown",
   "metadata": {},
   "source": [
    "# Feature engineering :"
   ]
  },
  {
   "cell_type": "code",
   "execution_count": 5,
   "metadata": {
    "scrolled": true
   },
   "outputs": [
    {
     "data": {
      "text/plain": [
       "count    68701.000000\n",
       "mean        27.521549\n",
       "std          6.051577\n",
       "min          3.470000\n",
       "25%         23.880000\n",
       "50%         26.350000\n",
       "75%         30.120000\n",
       "max        298.670000\n",
       "Name: BMI, dtype: float64"
      ]
     },
     "execution_count": 5,
     "metadata": {},
     "output_type": "execute_result"
    }
   ],
   "source": [
    "# The dataset contains weight and height data\n",
    "# (Good news everyone!) We can calculate the BMI for each row with the formula :\n",
    "# weight(kg)/height(m)^2\n",
    "#######################################################\n",
    "data[\"BMI\"] = data.apply(\n",
    "    lambda x: round(x[\"weight\"]/ ((x[\"height\"]/100)**2),2), axis=1) \n",
    "#######################################################\n",
    "# using .describe() the check the values in the created column\n",
    "data.BMI.describe()"
   ]
  },
  {
   "cell_type": "code",
   "execution_count": 6,
   "metadata": {},
   "outputs": [
    {
     "name": "stdout",
     "output_type": "stream",
     "text": [
      "Nbr of row with BMI extremes :  39\n",
      "Remaining rows :  68662\n"
     ]
    },
    {
     "data": {
      "text/html": [
       "<div>\n",
       "<style scoped>\n",
       "    .dataframe tbody tr th:only-of-type {\n",
       "        vertical-align: middle;\n",
       "    }\n",
       "\n",
       "    .dataframe tbody tr th {\n",
       "        vertical-align: top;\n",
       "    }\n",
       "\n",
       "    .dataframe thead th {\n",
       "        text-align: right;\n",
       "    }\n",
       "</style>\n",
       "<table border=\"1\" class=\"dataframe\">\n",
       "  <thead>\n",
       "    <tr style=\"text-align: right;\">\n",
       "      <th></th>\n",
       "      <th>id</th>\n",
       "      <th>age</th>\n",
       "      <th>gender</th>\n",
       "      <th>height</th>\n",
       "      <th>weight</th>\n",
       "      <th>ap_hi</th>\n",
       "      <th>ap_lo</th>\n",
       "      <th>cholesterol</th>\n",
       "      <th>gluc</th>\n",
       "      <th>smoke</th>\n",
       "      <th>alco</th>\n",
       "      <th>active</th>\n",
       "      <th>cardio</th>\n",
       "      <th>BMI</th>\n",
       "    </tr>\n",
       "  </thead>\n",
       "  <tbody>\n",
       "    <tr>\n",
       "      <th>count</th>\n",
       "      <td>68662.0</td>\n",
       "      <td>68662.0</td>\n",
       "      <td>68662.0</td>\n",
       "      <td>68662.0</td>\n",
       "      <td>68662.0</td>\n",
       "      <td>68662.0</td>\n",
       "      <td>68662.0</td>\n",
       "      <td>68662.0</td>\n",
       "      <td>68662.0</td>\n",
       "      <td>68662.0</td>\n",
       "      <td>68662.0</td>\n",
       "      <td>68662.0</td>\n",
       "      <td>68662.0</td>\n",
       "      <td>68662.0</td>\n",
       "    </tr>\n",
       "    <tr>\n",
       "      <th>mean</th>\n",
       "      <td>49975.9</td>\n",
       "      <td>19464.4</td>\n",
       "      <td>1.3</td>\n",
       "      <td>164.4</td>\n",
       "      <td>74.1</td>\n",
       "      <td>126.7</td>\n",
       "      <td>81.3</td>\n",
       "      <td>1.4</td>\n",
       "      <td>1.2</td>\n",
       "      <td>0.1</td>\n",
       "      <td>0.1</td>\n",
       "      <td>0.8</td>\n",
       "      <td>0.5</td>\n",
       "      <td>27.5</td>\n",
       "    </tr>\n",
       "    <tr>\n",
       "      <th>std</th>\n",
       "      <td>28845.3</td>\n",
       "      <td>2468.1</td>\n",
       "      <td>0.5</td>\n",
       "      <td>8.0</td>\n",
       "      <td>14.3</td>\n",
       "      <td>16.7</td>\n",
       "      <td>9.5</td>\n",
       "      <td>0.7</td>\n",
       "      <td>0.6</td>\n",
       "      <td>0.3</td>\n",
       "      <td>0.2</td>\n",
       "      <td>0.4</td>\n",
       "      <td>0.5</td>\n",
       "      <td>5.3</td>\n",
       "    </tr>\n",
       "    <tr>\n",
       "      <th>min</th>\n",
       "      <td>0.0</td>\n",
       "      <td>10798.0</td>\n",
       "      <td>1.0</td>\n",
       "      <td>91.0</td>\n",
       "      <td>28.0</td>\n",
       "      <td>60.0</td>\n",
       "      <td>10.0</td>\n",
       "      <td>1.0</td>\n",
       "      <td>1.0</td>\n",
       "      <td>0.0</td>\n",
       "      <td>0.0</td>\n",
       "      <td>0.0</td>\n",
       "      <td>0.0</td>\n",
       "      <td>10.7</td>\n",
       "    </tr>\n",
       "    <tr>\n",
       "      <th>25%</th>\n",
       "      <td>25006.2</td>\n",
       "      <td>17657.2</td>\n",
       "      <td>1.0</td>\n",
       "      <td>159.0</td>\n",
       "      <td>65.0</td>\n",
       "      <td>120.0</td>\n",
       "      <td>80.0</td>\n",
       "      <td>1.0</td>\n",
       "      <td>1.0</td>\n",
       "      <td>0.0</td>\n",
       "      <td>0.0</td>\n",
       "      <td>1.0</td>\n",
       "      <td>0.0</td>\n",
       "      <td>23.9</td>\n",
       "    </tr>\n",
       "    <tr>\n",
       "      <th>50%</th>\n",
       "      <td>50020.5</td>\n",
       "      <td>19701.0</td>\n",
       "      <td>1.0</td>\n",
       "      <td>165.0</td>\n",
       "      <td>72.0</td>\n",
       "      <td>120.0</td>\n",
       "      <td>80.0</td>\n",
       "      <td>1.0</td>\n",
       "      <td>1.0</td>\n",
       "      <td>0.0</td>\n",
       "      <td>0.0</td>\n",
       "      <td>1.0</td>\n",
       "      <td>0.0</td>\n",
       "      <td>26.4</td>\n",
       "    </tr>\n",
       "    <tr>\n",
       "      <th>75%</th>\n",
       "      <td>74868.8</td>\n",
       "      <td>21324.0</td>\n",
       "      <td>2.0</td>\n",
       "      <td>170.0</td>\n",
       "      <td>82.0</td>\n",
       "      <td>140.0</td>\n",
       "      <td>90.0</td>\n",
       "      <td>2.0</td>\n",
       "      <td>1.0</td>\n",
       "      <td>0.0</td>\n",
       "      <td>0.0</td>\n",
       "      <td>1.0</td>\n",
       "      <td>1.0</td>\n",
       "      <td>30.1</td>\n",
       "    </tr>\n",
       "    <tr>\n",
       "      <th>max</th>\n",
       "      <td>99999.0</td>\n",
       "      <td>23713.0</td>\n",
       "      <td>2.0</td>\n",
       "      <td>250.0</td>\n",
       "      <td>200.0</td>\n",
       "      <td>240.0</td>\n",
       "      <td>182.0</td>\n",
       "      <td>3.0</td>\n",
       "      <td>3.0</td>\n",
       "      <td>1.0</td>\n",
       "      <td>1.0</td>\n",
       "      <td>1.0</td>\n",
       "      <td>1.0</td>\n",
       "      <td>70.0</td>\n",
       "    </tr>\n",
       "  </tbody>\n",
       "</table>\n",
       "</div>"
      ],
      "text/plain": [
       "            id      age   gender   height   weight    ap_hi    ap_lo  \\\n",
       "count  68662.0  68662.0  68662.0  68662.0  68662.0  68662.0  68662.0   \n",
       "mean   49975.9  19464.4      1.3    164.4     74.1    126.7     81.3   \n",
       "std    28845.3   2468.1      0.5      8.0     14.3     16.7      9.5   \n",
       "min        0.0  10798.0      1.0     91.0     28.0     60.0     10.0   \n",
       "25%    25006.2  17657.2      1.0    159.0     65.0    120.0     80.0   \n",
       "50%    50020.5  19701.0      1.0    165.0     72.0    120.0     80.0   \n",
       "75%    74868.8  21324.0      2.0    170.0     82.0    140.0     90.0   \n",
       "max    99999.0  23713.0      2.0    250.0    200.0    240.0    182.0   \n",
       "\n",
       "       cholesterol     gluc    smoke     alco   active   cardio      BMI  \n",
       "count      68662.0  68662.0  68662.0  68662.0  68662.0  68662.0  68662.0  \n",
       "mean           1.4      1.2      0.1      0.1      0.8      0.5     27.5  \n",
       "std            0.7      0.6      0.3      0.2      0.4      0.5      5.3  \n",
       "min            1.0      1.0      0.0      0.0      0.0      0.0     10.7  \n",
       "25%            1.0      1.0      0.0      0.0      1.0      0.0     23.9  \n",
       "50%            1.0      1.0      0.0      0.0      1.0      0.0     26.4  \n",
       "75%            2.0      1.0      0.0      0.0      1.0      1.0     30.1  \n",
       "max            3.0      3.0      1.0      1.0      1.0      1.0     70.0  "
      ]
     },
     "execution_count": 6,
     "metadata": {},
     "output_type": "execute_result"
    }
   ],
   "source": [
    "# BMI max and min values are aberrant\n",
    "# BMI < 16 : severe famine\n",
    "# BMI > 40 : morbid obesity\n",
    "# Counting rows with BMI > 50 or BMI <10:\n",
    "print(\"Nbr of row with BMI extremes : \",\n",
    "     data[data.BMI.map(lambda x: True if x>70 or x<10 else False)].shape[0])\n",
    "\n",
    "# Filtering morbidly obese dwarves and tall anorexics from the dataset :\n",
    "data = data[data.BMI.map(lambda x: False if x>70 or x<10 else True)]\n",
    "print(\"Remaining rows : \", data.shape[0])\n",
    "# Checking the remaining values :\n",
    "data.describe().round(1)"
   ]
  },
  {
   "cell_type": "code",
   "execution_count": 7,
   "metadata": {},
   "outputs": [],
   "source": [
    "# the gender col is encoded with 1 and 2. all the values seem ok\n",
    "# changing the gender col to be binary :\n",
    "csv.gender = data.gender.map(lambda x: x-1)\n",
    "# 0 is now for females and 1 for males\n",
    "# we'll encode the other categorical variables as binary later!"
   ]
  },
  {
   "cell_type": "markdown",
   "metadata": {},
   "source": [
    "# Creating a correlation heatmap :"
   ]
  },
  {
   "cell_type": "code",
   "execution_count": 104,
   "metadata": {},
   "outputs": [
    {
     "data": {
      "image/png": "[encoded data removed]",
      "text/plain": [
       "<Figure size 1080x1080 with 2 Axes>"
      ]
     },
     "metadata": {},
     "output_type": "display_data"
    }
   ],
   "source": [
    "# représentation des corrélations entre les variables en heatmap :\n",
    "\n",
    "def plt_corr(dataframe):\n",
    "    sns.set(rc={'axes.facecolor':'white', 'figure.facecolor':'white'})\n",
    "    corr = dataframe.corr()\n",
    "    \n",
    "    _ , ax = plt.subplots(figsize =( 15 , 15 ))\n",
    "#     cmap = sns.diverging_palette( 220 , 10 , as_cmap = True )\n",
    "    \n",
    "    _ = sns.heatmap(\n",
    "        corr, \n",
    "        cmap = \"rocket_r\",\n",
    "        square=True, \n",
    "        cbar_kws={ 'shrink' : .9 },\n",
    "        ax=ax, \n",
    "        annot = True,\n",
    "#         center = 0,\n",
    "        mask = np.triu(np.ones_like(corr, dtype=np.bool)),\n",
    "        annot_kws = { 'fontsize' : 12 }\n",
    "    )\n",
    "    _.set_title(\"Heatmap de correlation des variables\", fontdict={'fontsize':20})\n",
    "    \n",
    "pltcorr(data.drop(columns = \"id\"))"
   ]
  },
  {
   "cell_type": "code",
   "execution_count": 113,
   "metadata": {},
   "outputs": [
    {
     "data": {
      "image/png": "[encoded data removed]",
      "text/plain": [
       "<Figure size 576x864 with 1 Axes>"
      ]
     },
     "metadata": {},
     "output_type": "display_data"
    }
   ],
   "source": [
    "def plt_corr_target(dataframe, target: str):\n",
    "    dataframe.corr()[[target]].sort_values(by=target, ascending=False)\n",
    "    plt.figure(figsize=(8, 12))\n",
    "    heatmap = sns.heatmap(dataframe.corr()[[target]].sort_values(by=target, ascending=False),\n",
    "                          vmin=-1,\n",
    "                          vmax=1,\n",
    "                          annot=True,\n",
    "                          cbar=False,\n",
    "                          center = 0,\n",
    "                          cmap = \"rocket_r\",\n",
    "                         )\n",
    "#     heatmap.set_yticks(\" \")\n",
    "    heatmap.set(ylabel='Variables corrélées par ordre ascendant')\n",
    "    heatmap.set_title(f'Corrélation des variables avec \"{target}\"', fontdict={'fontsize':18}, pad=16);\n",
    "\n",
    "plt_corr_target(data.drop(columns = [\"id\"]), \"cardio\")"
   ]
  },
  {
   "cell_type": "markdown",
   "metadata": {},
   "source": [
    "# Splitting categorical variables into binary variables :"
   ]
  },
  {
   "cell_type": "code",
   "execution_count": 114,
   "metadata": {},
   "outputs": [
    {
     "name": "stdout",
     "output_type": "stream",
     "text": [
      "   Chol_1  Chol_2  Chol_3\n",
      "0       1       0       0\n",
      "1       0       0       1\n",
      "2       0       0       1\n",
      "3       1       0       0\n",
      "4       1       0       0\n",
      "\n",
      "    gluc_1  gluc_2  gluc_3\n",
      "0       1       0       0\n",
      "1       1       0       0\n",
      "2       1       0       0\n",
      "3       1       0       0\n",
      "4       1       0       0\n"
     ]
    }
   ],
   "source": [
    "# il faut séparer la variable cholestérol en 3 colonnes binaires :\n",
    "# splitting the cholesterol column into 3 categorical variables:\n",
    "chol_dummy = pd.get_dummies( data.cholesterol , prefix='Chol')\n",
    "print(chol_dummy.head())\n",
    "\n",
    "# splitting the glucose column into 3 categorical variables:\n",
    "gluc_dummy = pd.get_dummies( data.gluc , prefix='gluc')\n",
    "print(\"\\n\",gluc_dummy.head())"
   ]
  },
  {
   "cell_type": "code",
   "execution_count": 117,
   "metadata": {},
   "outputs": [
    {
     "data": {
      "text/html": [
       "<div>\n",
       "<style scoped>\n",
       "    .dataframe tbody tr th:only-of-type {\n",
       "        vertical-align: middle;\n",
       "    }\n",
       "\n",
       "    .dataframe tbody tr th {\n",
       "        vertical-align: top;\n",
       "    }\n",
       "\n",
       "    .dataframe thead th {\n",
       "        text-align: right;\n",
       "    }\n",
       "</style>\n",
       "<table border=\"1\" class=\"dataframe\">\n",
       "  <thead>\n",
       "    <tr style=\"text-align: right;\">\n",
       "      <th></th>\n",
       "      <th>age</th>\n",
       "      <th>gender</th>\n",
       "      <th>ap_hi</th>\n",
       "      <th>ap_lo</th>\n",
       "      <th>smoke</th>\n",
       "      <th>alco</th>\n",
       "      <th>active</th>\n",
       "      <th>BMI</th>\n",
       "      <th>Chol_1</th>\n",
       "      <th>Chol_2</th>\n",
       "      <th>Chol_3</th>\n",
       "      <th>gluc_1</th>\n",
       "      <th>gluc_2</th>\n",
       "      <th>gluc_3</th>\n",
       "    </tr>\n",
       "  </thead>\n",
       "  <tbody>\n",
       "    <tr>\n",
       "      <th>0</th>\n",
       "      <td>18393</td>\n",
       "      <td>2</td>\n",
       "      <td>110</td>\n",
       "      <td>80</td>\n",
       "      <td>0</td>\n",
       "      <td>0</td>\n",
       "      <td>1</td>\n",
       "      <td>21.97</td>\n",
       "      <td>1</td>\n",
       "      <td>0</td>\n",
       "      <td>0</td>\n",
       "      <td>1</td>\n",
       "      <td>0</td>\n",
       "      <td>0</td>\n",
       "    </tr>\n",
       "    <tr>\n",
       "      <th>1</th>\n",
       "      <td>20228</td>\n",
       "      <td>1</td>\n",
       "      <td>140</td>\n",
       "      <td>90</td>\n",
       "      <td>0</td>\n",
       "      <td>0</td>\n",
       "      <td>1</td>\n",
       "      <td>34.93</td>\n",
       "      <td>0</td>\n",
       "      <td>0</td>\n",
       "      <td>1</td>\n",
       "      <td>1</td>\n",
       "      <td>0</td>\n",
       "      <td>0</td>\n",
       "    </tr>\n",
       "    <tr>\n",
       "      <th>2</th>\n",
       "      <td>18857</td>\n",
       "      <td>1</td>\n",
       "      <td>130</td>\n",
       "      <td>70</td>\n",
       "      <td>0</td>\n",
       "      <td>0</td>\n",
       "      <td>0</td>\n",
       "      <td>23.51</td>\n",
       "      <td>0</td>\n",
       "      <td>0</td>\n",
       "      <td>1</td>\n",
       "      <td>1</td>\n",
       "      <td>0</td>\n",
       "      <td>0</td>\n",
       "    </tr>\n",
       "    <tr>\n",
       "      <th>3</th>\n",
       "      <td>17623</td>\n",
       "      <td>2</td>\n",
       "      <td>150</td>\n",
       "      <td>100</td>\n",
       "      <td>0</td>\n",
       "      <td>0</td>\n",
       "      <td>1</td>\n",
       "      <td>28.71</td>\n",
       "      <td>1</td>\n",
       "      <td>0</td>\n",
       "      <td>0</td>\n",
       "      <td>1</td>\n",
       "      <td>0</td>\n",
       "      <td>0</td>\n",
       "    </tr>\n",
       "    <tr>\n",
       "      <th>4</th>\n",
       "      <td>17474</td>\n",
       "      <td>1</td>\n",
       "      <td>100</td>\n",
       "      <td>60</td>\n",
       "      <td>0</td>\n",
       "      <td>0</td>\n",
       "      <td>0</td>\n",
       "      <td>23.01</td>\n",
       "      <td>1</td>\n",
       "      <td>0</td>\n",
       "      <td>0</td>\n",
       "      <td>1</td>\n",
       "      <td>0</td>\n",
       "      <td>0</td>\n",
       "    </tr>\n",
       "  </tbody>\n",
       "</table>\n",
       "</div>"
      ],
      "text/plain": [
       "     age  gender  ap_hi  ap_lo  smoke  alco  active    BMI  Chol_1  Chol_2  \\\n",
       "0  18393       2    110     80      0     0       1  21.97       1       0   \n",
       "1  20228       1    140     90      0     0       1  34.93       0       0   \n",
       "2  18857       1    130     70      0     0       0  23.51       0       0   \n",
       "3  17623       2    150    100      0     0       1  28.71       1       0   \n",
       "4  17474       1    100     60      0     0       0  23.01       1       0   \n",
       "\n",
       "   Chol_3  gluc_1  gluc_2  gluc_3  \n",
       "0       0       1       0       0  \n",
       "1       1       1       0       0  \n",
       "2       1       1       0       0  \n",
       "3       0       1       0       0  \n",
       "4       0       1       0       0  "
      ]
     },
     "execution_count": 117,
     "metadata": {},
     "output_type": "execute_result"
    }
   ],
   "source": [
    "# assemblage d'une dataframe avec toute les variables pour le training :\n",
    "\n",
    "#dropping the cols we don't want in the training dataframe : \n",
    "data_selected = data.drop(['id','cholesterol', 'gluc',\n",
    "                       'height', 'weight', 'cardio'], axis=1)\n",
    "#I chose to drop height and weight since we calculated the BMI\n",
    "\n",
    "full_df = pd.concat( [ data_selected , chol_dummy, gluc_dummy] , axis=1 )\n",
    "full_df.head()"
   ]
  },
  {
   "cell_type": "markdown",
   "metadata": {},
   "source": [
    "# Splitting the dataset :"
   ]
  },
  {
   "cell_type": "code",
   "execution_count": 118,
   "metadata": {
    "scrolled": false
   },
   "outputs": [
    {
     "name": "stdout",
     "output_type": "stream",
     "text": [
      " Full_df : (68662, 14) \n",
      " Training df x : (48063, 14) \n",
      " Training df y : (48063,) \n",
      " Validation df x : (13801, 14) \n",
      " Validation df y : (13801,) \n",
      " Test df x : (6798, 14) \n",
      " Test df y : (6798,)\n"
     ]
    },
    {
     "name": "stderr",
     "output_type": "stream",
     "text": [
      "H:\\Programmes\\Ancaconda\\lib\\site-packages\\pandas\\core\\frame.py:4163: SettingWithCopyWarning: \n",
      "A value is trying to be set on a copy of a slice from a DataFrame\n",
      "\n",
      "See the caveats in the documentation: https://pandas.pydata.org/pandas-docs/stable/user_guide/indexing.html#returning-a-view-versus-a-copy\n",
      "  return super().drop(\n"
     ]
    }
   ],
   "source": [
    "# Splitting the dataset into 3 subgroups :\n",
    "# training (70%) ; validation (20%) ; testing(10%)\n",
    "train_x , valid_x , train_y , valid_y = train_test_split( full_df , data.cardio ,\n",
    "                                                         train_size = .7, random_state = 2021)\n",
    "\n",
    "# the following test data will be used to evaluate the final model\n",
    "# it will NOT be used before\n",
    "test_x = valid_x.sample(frac = 0.33, random_state = 2021)\n",
    "test_y = valid_y[test_x.index]\n",
    "#dropping the lines used in the test dataset from the validation dataset :\n",
    "valid_x.drop(test_x.index, inplace=True)\n",
    "valid_y.drop(test_x.index, inplace=True) \n",
    "\n",
    "# printing the resulting shapes\n",
    "print(\" Full_df :\", full_df.shape,\"\\n\",\n",
    "      \"Training df x :\",train_x.shape, \"\\n\",\n",
    "      \"Training df y :\",train_y.shape, \"\\n\",\n",
    "      \"Validation df x :\",valid_x.shape, \"\\n\",\n",
    "      \"Validation df y :\",valid_y.shape, \"\\n\",\n",
    "      \"Test df x :\", test_x.shape, \"\\n\",\n",
    "      \"Test df y :\", test_y.shape)"
   ]
  },
  {
   "cell_type": "markdown",
   "metadata": {},
   "source": [
    "# Plotting  \"naive\" variable importance :"
   ]
  },
  {
   "cell_type": "code",
   "execution_count": 211,
   "metadata": {
    "scrolled": false
   },
   "outputs": [],
   "source": [
    "def plot_variable_importance( X , y ):\n",
    "    # model tuning is just a guess for now\n",
    "    # I've selected these hyperparams just to reduce overfitting\n",
    "    classif = RandomForestClassifier(n_estimators=200,      \n",
    "                                      min_samples_leaf=5,\n",
    "                                      max_features=0.5,\n",
    "                                      n_jobs=-1)\n",
    "    classif.fit( X , y )\n",
    "    plot_model_var_imp( classif , X , y )\n",
    "    \n",
    "def plot_model_var_imp( model , X , y ):\n",
    "    imp = pd.DataFrame( \n",
    "        model.feature_importances_  , \n",
    "        columns = [ 'Importance' ] , \n",
    "        index = X.columns \n",
    "    )\n",
    "    imp = imp.sort_values( [ 'Importance' ] , ascending = True )\n",
    "    plt = imp.plot( kind = 'barh', \n",
    "             title= 'Variable importance (more is better)',\n",
    "             color=\"#DC77F6\",\n",
    "            )\n",
    "\n",
    "    print (model.score( X , y ))\n",
    "    \n",
    "# plot_variable_importance(train_X, train_y)"
   ]
  },
  {
   "cell_type": "markdown",
   "metadata": {},
   "source": [
    "#### I made the decision to not remove any variables for now."
   ]
  },
  {
   "cell_type": "markdown",
   "metadata": {},
   "source": [
    "# Model definition :"
   ]
  },
  {
   "cell_type": "code",
   "execution_count": 136,
   "metadata": {},
   "outputs": [],
   "source": [
    "# defining every model for comparaison :\n",
    "# NB: I already tried the random forest classifier\n",
    "# This is why it is a bit more tuned than the others\n",
    "rand_for = RandomForestClassifier(n_estimators=200,\n",
    "                                  max_depth = 7,      \n",
    "                                  min_samples_leaf=5,\n",
    "                                  max_features=0.5,\n",
    "                                  n_jobs=-1)\n",
    "sup_vec_mach = SVC()\n",
    "grad_boost = GradientBoostingClassifier()\n",
    "k_nearest= KNeighborsClassifier(n_neighbors = 3)\n",
    "gau_naive= GaussianNB()\n",
    "logi_reg= LogisticRegression()"
   ]
  },
  {
   "cell_type": "markdown",
   "metadata": {},
   "source": [
    "# Model training :"
   ]
  },
  {
   "cell_type": "code",
   "execution_count": 137,
   "metadata": {},
   "outputs": [
    {
     "data": {
      "text/plain": [
       "LogisticRegression()"
      ]
     },
     "execution_count": 137,
     "metadata": {},
     "output_type": "execute_result"
    }
   ],
   "source": [
    "# training every model :\n",
    "rand_for.fit( train_X , train_y )\n",
    "sup_vec_mach.fit( train_X , train_y )\n",
    "grad_boost.fit( train_X , train_y )\n",
    "k_nearest.fit( train_X , train_y )\n",
    "gau_naive.fit( train_X , train_y )\n",
    "logi_reg.fit( train_X , train_y )"
   ]
  },
  {
   "cell_type": "code",
   "execution_count": 139,
   "metadata": {
    "scrolled": true
   },
   "outputs": [
    {
     "data": {
      "text/html": [
       "<div>\n",
       "<style scoped>\n",
       "    .dataframe tbody tr th:only-of-type {\n",
       "        vertical-align: middle;\n",
       "    }\n",
       "\n",
       "    .dataframe tbody tr th {\n",
       "        vertical-align: top;\n",
       "    }\n",
       "\n",
       "    .dataframe thead th {\n",
       "        text-align: right;\n",
       "    }\n",
       "</style>\n",
       "<table border=\"1\" class=\"dataframe\">\n",
       "  <thead>\n",
       "    <tr style=\"text-align: right;\">\n",
       "      <th></th>\n",
       "      <th>Name</th>\n",
       "      <th>Score</th>\n",
       "      <th>Dataset type</th>\n",
       "      <th>Model type</th>\n",
       "    </tr>\n",
       "  </thead>\n",
       "  <tbody>\n",
       "    <tr>\n",
       "      <th>0</th>\n",
       "      <td>sup_vec_mach_train</td>\n",
       "      <td>0.599756</td>\n",
       "      <td>Training</td>\n",
       "      <td>Support Vector Machines</td>\n",
       "    </tr>\n",
       "    <tr>\n",
       "      <th>1</th>\n",
       "      <td>sup_vec_mach_eval</td>\n",
       "      <td>0.601640</td>\n",
       "      <td>Validation</td>\n",
       "      <td>Support Vector Machines</td>\n",
       "    </tr>\n",
       "    <tr>\n",
       "      <th>2</th>\n",
       "      <td>rand_for_train</td>\n",
       "      <td>0.741048</td>\n",
       "      <td>Training</td>\n",
       "      <td>Random forest</td>\n",
       "    </tr>\n",
       "    <tr>\n",
       "      <th>3</th>\n",
       "      <td>rand_for_eval</td>\n",
       "      <td>0.731948</td>\n",
       "      <td>Validation</td>\n",
       "      <td>Random forest</td>\n",
       "    </tr>\n",
       "    <tr>\n",
       "      <th>4</th>\n",
       "      <td>grad_boost_train</td>\n",
       "      <td>0.739118</td>\n",
       "      <td>Training</td>\n",
       "      <td>Gradient Boosting Classifier</td>\n",
       "    </tr>\n",
       "  </tbody>\n",
       "</table>\n",
       "</div>"
      ],
      "text/plain": [
       "                 Name     Score Dataset type                    Model type\n",
       "0  sup_vec_mach_train  0.599756     Training       Support Vector Machines\n",
       "1   sup_vec_mach_eval  0.601640   Validation       Support Vector Machines\n",
       "2      rand_for_train  0.741048     Training                 Random forest\n",
       "3       rand_for_eval  0.731948   Validation                 Random forest\n",
       "4    grad_boost_train  0.739118     Training  Gradient Boosting Classifier"
      ]
     },
     "execution_count": 139,
     "metadata": {},
     "output_type": "execute_result"
    }
   ],
   "source": [
    "# creating a df with all the scores ready to plot :\n",
    "data = [['sup_vec_mach_train', sup_vec_mach.score( train_X , train_y ), 'Training', 'Support Vector Machines'] , \n",
    "        ['sup_vec_mach_eval',sup_vec_mach.score( valid_X , valid_y ), 'Validation', 'Support Vector Machines'],\n",
    "        ['rand_for_train', rand_for.score( train_X , train_y ), 'Training', 'Random forest'] ,\n",
    "        ['rand_for_eval',rand_for.score( valid_X , valid_y ), 'Validation', 'Random forest'],\n",
    "        ['grad_boost_train',grad_boost.score( train_X , train_y ), 'Training', 'Gradient Boosting Classifier'], \n",
    "        ['grad_boost_eval',grad_boost.score( valid_X , valid_y), 'Validation', 'Gradient Boosting Classifier'],\n",
    "        ['k_nearest_train', k_nearest.score( train_X , train_y ), 'Training', 'K-nearest neighbors'] , \n",
    "        ['k_nearest_eval',k_nearest.score( valid_X , valid_y ), 'Validation', 'K-nearest neighbors'],\n",
    "        ['gau_naive_train', gau_naive.score( train_X , train_y ), 'Training', 'Gaussian Naive Bayes'] ,\n",
    "        ['gau_naive_eval', gau_naive.score( valid_X , valid_y ), 'Validation', 'Gaussian Naive Bayes'],\n",
    "        ['logi_reg_train', logi_reg.score( train_X , train_y ), 'Training', 'Logistic Regression'],\n",
    "        ['logi_reg_eval',logi_reg.score( valid_X , valid_y ), 'Validation', 'Logistic Regression']]\n",
    "\n",
    "df = pd.DataFrame(data, columns = ['Name', 'Score', 'Dataset type', 'Model type']) \n",
    "df.head()"
   ]
  },
  {
   "cell_type": "markdown",
   "metadata": {},
   "source": [
    "# Creating a barplot for model visualisation :"
   ]
  },
  {
   "cell_type": "code",
   "execution_count": 155,
   "metadata": {
    "scrolled": true
   },
   "outputs": [
    {
     "data": {
      "text/plain": [
       "Text(0.5, 1.0, 'Prediction accuracy by model & dataset type (more is better)')"
      ]
     },
     "execution_count": 155,
     "metadata": {},
     "output_type": "execute_result"
    },
    {
     "data": {
      "image/png": "[encoded data removed]",
      "text/plain": [
       "<Figure size 576x432 with 1 Axes>"
      ]
     },
     "metadata": {},
     "output_type": "display_data"
    }
   ],
   "source": [
    "# using seaborn to compare model accuracy\n",
    "\n",
    "# setting plot size :\n",
    "sns.set_context(\"notebook\")\n",
    "# setting the palette : \n",
    "pal = sns.color_palette(\"rocket\")\n",
    "\n",
    "# creating the plot:\n",
    "bar = sns.barplot(data = df\n",
    "            ,x = 'Score'\n",
    "            ,y = 'Model type'\n",
    "            ,hue = 'Dataset type'\n",
    "            ,ci = None\n",
    "            ,orient = 'h'\n",
    "            ,palette = pal\n",
    "            )\n",
    "\n",
    "# adding  value annotations to the bars :\n",
    "for p in bar.patches:                         # for each bar:\n",
    "    width = p.get_width()                     # get bar length\n",
    "    bar.text(width-0.05,                      # set the text h pos\n",
    "            p.get_y() + p.get_height() / 2,   \n",
    "            '{:1.2f}'.format(width),          # set variable to display, 2 decimals\n",
    "            ha = 'left',                      # horizontal alignment\n",
    "            va = 'center',                    # vertical alignment\n",
    "            color = 'white')                  # text color\n",
    "\n",
    "bar.set_title(\"Prediction accuracy by model & dataset type (more is better)\")"
   ]
  },
  {
   "cell_type": "markdown",
   "metadata": {},
   "source": [
    "#### I chose to use a random forest classifier based on this data.  \n",
    "# Fine-tuning model hyperparams with GridSearchCV:"
   ]
  },
  {
   "cell_type": "code",
   "execution_count": 201,
   "metadata": {
    "scrolled": true
   },
   "outputs": [
    {
     "name": "stdout",
     "output_type": "stream",
     "text": [
      "Fitting 5 folds for each of 2400 candidates, totalling 12000 fits\n"
     ]
    },
    {
     "data": {
      "text/plain": [
       "GridSearchCV(cv=5, estimator=RandomForestClassifier(n_estimators=250),\n",
       "             n_jobs=-1,\n",
       "             param_grid={'criterion': ['gini', 'entropy'],\n",
       "                         'max_depth': [5, 7, 9, 12, 15, 20],\n",
       "                         'max_features': ['auto', 'sqrt', 0.5, 0.4, 0.3],\n",
       "                         'min_samples_leaf': [2, 5, 7, 9, 12, 15, 20, 500],\n",
       "                         'min_samples_split': [2, 5, 10, 15, 100]},\n",
       "             pre_dispatch='4*n_jobs', verbose=2)"
      ]
     },
     "execution_count": 201,
     "metadata": {},
     "output_type": "execute_result"
    }
   ],
   "source": [
    "from sklearn.model_selection import GridSearchCV\n",
    "# i.e. on va pimper le random forest sa mère\n",
    "\n",
    "classif = RandomForestClassifier(n_estimators=250)\n",
    "# read the docs to create this abomination :\n",
    "param_l = {\n",
    "    \"criterion\": [\"gini\", \"entropy\"],\n",
    "    \"max_depth\": [ 5, 7, 9, 12, 15, 20],\n",
    "    \"min_samples_split\": [2, 5, 10, 15, 100],\n",
    "    \"min_samples_leaf\": [2, 5, 7, 9, 12, 15, 20, 500],\n",
    "    \"max_features\": ['auto', 'sqrt', 0.5, 0.4, 0.3] }\n",
    "\n",
    "cv_searcher = GridSearchCV(classif,\n",
    "                        param_l,\n",
    "                        cv=5,\n",
    "                        verbose=2,\n",
    "                        pre_dispatch='4*n_jobs',\n",
    "                        n_jobs=-1)\n",
    "\n",
    "cv_searcher.fit(train_x, train_y) \n"
   ]
  },
  {
   "cell_type": "code",
   "execution_count": 202,
   "metadata": {},
   "outputs": [],
   "source": [
    "#save the GridSearchCV results as soon as it is finished:\n",
    "import pickle as pk\n",
    "with open(\"./cv_searcher.pk\", \"wb\") as fp:\n",
    "    pk.dump(cv_searcher, fp)"
   ]
  },
  {
   "cell_type": "code",
   "execution_count": 203,
   "metadata": {},
   "outputs": [
    {
     "data": {
      "text/plain": [
       "{'criterion': 'entropy',\n",
       " 'max_depth': 12,\n",
       " 'max_features': 'auto',\n",
       " 'min_samples_leaf': 5,\n",
       " 'min_samples_split': 2}"
      ]
     },
     "execution_count": 203,
     "metadata": {},
     "output_type": "execute_result"
    }
   ],
   "source": [
    "# display the best results:\n",
    "cv_searcher.best_params_"
   ]
  },
  {
   "cell_type": "code",
   "execution_count": 212,
   "metadata": {},
   "outputs": [
    {
     "name": "stdout",
     "output_type": "stream",
     "text": [
      "0.7552379169007345\n"
     ]
    },
    {
     "data": {
      "image/png": "[encoded data removed]",
      "text/plain": [
       "<Figure size 576x432 with 1 Axes>"
      ]
     },
     "metadata": {},
     "output_type": "display_data"
    }
   ],
   "source": [
    "plot_model_var_imp(rand_for, train_x , train_y)"
   ]
  },
  {
   "cell_type": "code",
   "execution_count": 209,
   "metadata": {},
   "outputs": [
    {
     "name": "stdout",
     "output_type": "stream",
     "text": [
      "\n",
      "Training accuracy: 0.7552     \n",
      "Validation accuracy: 0.73    \n",
      "\n"
     ]
    }
   ],
   "source": [
    "from sklearn.model_selection import GridSearchCV\n",
    "\n",
    "\n",
    "# no need to fine-tune n_estimators and n_jobs\n",
    "rand_for = RandomForestClassifier(n_estimators=500,\n",
    "                                  max_depth = 12,      #advice says btwn 5-15 to reduce overfitting\n",
    "                                  min_samples_leaf=5,\n",
    "                                  min_samples_split =2,\n",
    "                                  max_features='auto',\n",
    "                                  criterion='entropy',\n",
    "                                  n_jobs=-1\n",
    "                                 )\n",
    "\n",
    "rand_for.fit(train_x , train_y)\n",
    "\n",
    "print(f\"\"\"\n",
    "Training accuracy: {round(rand_for.score( train_x , train_y ),4)}     \n",
    "Validation accuracy: {round(rand_for.score( valid_x , valid_y ),4)}    \n",
    "\"\"\")"
   ]
  },
  {
   "cell_type": "markdown",
   "metadata": {},
   "source": [
    "# Model crossvalidation :"
   ]
  },
  {
   "cell_type": "code",
   "execution_count": null,
   "metadata": {},
   "outputs": [],
   "source": [
    "from sklearn.model_selection import cross_val_score\n",
    "\n",
    "# model cross validation :\n",
    "scores = cross_val_score(rfc, X_train, y_train, cv=10)\n",
    "print(scores.mean()*100, scores.min()*100, scores.max()*100)\n",
    "# model testing :\n",
    "Y_hat = rfc.predict(X_test)\n",
    "print(classification_report(y_test, Y_hat))"
   ]
  }
 ],
 "metadata": {
  "kernelspec": {
   "display_name": "Python 3",
   "language": "python",
   "name": "python3"
  },
  "language_info": {
   "codemirror_mode": {
    "name": "ipython",
    "version": 3
   },
   "file_extension": ".py",
   "mimetype": "text/x-python",
   "name": "python",
   "nbconvert_exporter": "python",
   "pygments_lexer": "ipython3",
   "version": "3.8.5"
  }
 },
 "nbformat": 4,
 "nbformat_minor": 5
}
